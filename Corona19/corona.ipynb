{
 "cells": [
  {
   "cell_type": "code",
   "execution_count": 11,
   "metadata": {
    "ExecuteTime": {
     "end_time": "2020-03-17T13:52:18.821750Z",
     "start_time": "2020-03-17T13:52:18.802800Z"
    }
   },
   "outputs": [],
   "source": [
    "import pandas as pd\n",
    "import seaborn as sns\n",
    "import numpy as np\n",
    "import matplotlib.pyplot as plt\n",
    "%matplotlib inline\n",
    "plt.rc(\"font\", family = \"Malgun Gothic\")\n",
    "\n",
    "from IPython.core.display import display, HTML\n",
    "\n",
    "# 글씨가 뭉게져서 보이는 것 같으면 아래의 설정을 통해서 개선할 수 있음\n",
    "from IPython.display import set_matplotlib_formats\n",
    "set_matplotlib_formats('retina')\n",
    "\n",
    "import plotly.express as px\n",
    "\n",
    "# from google.colab import drive\n",
    "# drive.mount('/content/gdrive/')"
   ]
  },
  {
   "cell_type": "markdown",
   "metadata": {},
   "source": [
    "plotly 시각화 라이브러리 참고자료\n",
    "- https://dailyheumsi.tistory.com/118#2.-plotly-express-%EC%82%AC%EC%9A%A9%ED%95%98%EA%B8%B0\n",
    "- https://towardsdatascience.com/the-next-level-of-data-visualization-in-python-dd6e99039d5e"
   ]
  },
  {
   "cell_type": "markdown",
   "metadata": {},
   "source": [
    "## 1. 데이터셋 관찰하기"
   ]
  },
  {
   "cell_type": "code",
   "execution_count": 2,
   "metadata": {
    "ExecuteTime": {
     "end_time": "2020-03-17T13:43:37.186498Z",
     "start_time": "2020-03-17T13:43:37.141619Z"
    }
   },
   "outputs": [],
   "source": [
    "trend = pd.read_csv('coronavirusdataset/trend.csv')\n",
    "patient = pd.read_csv('coronavirusdataset/patient.csv')\n",
    "time = pd.read_csv('coronavirusdataset/time.csv')\n",
    "route = pd.read_csv('coronavirusdataset/route.csv')\n",
    "case = pd.read_csv('coronavirusdataset/case.csv')"
   ]
  },
  {
   "cell_type": "code",
   "execution_count": 52,
   "metadata": {
    "ExecuteTime": {
     "end_time": "2020-03-17T14:31:18.735991Z",
     "start_time": "2020-03-17T14:31:18.669133Z"
    },
    "scrolled": false
   },
   "outputs": [
    {
     "data": {
      "text/html": [
       "<style  type=\"text/css\" >\n",
       "    #T_f7326c80_685b_11ea_9fb4_b808cfcc3516 caption {\n",
       "          text-align: center;\n",
       "          font-size: 150%;\n",
       "          color: darkgreen;\n",
       "    }</style><table id=\"T_f7326c80_685b_11ea_9fb4_b808cfcc3516\" style='display:inline'><caption>trend (96, 5)</caption><thead>    <tr>        <th class=\"blank level0\" ></th>        <th class=\"col_heading level0 col0\" >date</th>        <th class=\"col_heading level0 col1\" >cold</th>        <th class=\"col_heading level0 col2\" >flu</th>        <th class=\"col_heading level0 col3\" >pneumonia</th>        <th class=\"col_heading level0 col4\" >coronavirus</th>    </tr></thead><tbody>\n",
       "                <tr>\n",
       "                        <th id=\"T_f7326c80_685b_11ea_9fb4_b808cfcc3516level0_row0\" class=\"row_heading level0 row0\" >0</th>\n",
       "                        <td id=\"T_f7326c80_685b_11ea_9fb4_b808cfcc3516row0_col0\" class=\"data row0 col0\" >2019-12-07</td>\n",
       "                        <td id=\"T_f7326c80_685b_11ea_9fb4_b808cfcc3516row0_col1\" class=\"data row0 col1\" >0.12408</td>\n",
       "                        <td id=\"T_f7326c80_685b_11ea_9fb4_b808cfcc3516row0_col2\" class=\"data row0 col2\" >0.24699</td>\n",
       "                        <td id=\"T_f7326c80_685b_11ea_9fb4_b808cfcc3516row0_col3\" class=\"data row0 col3\" >0.22144</td>\n",
       "                        <td id=\"T_f7326c80_685b_11ea_9fb4_b808cfcc3516row0_col4\" class=\"data row0 col4\" >0.01309</td>\n",
       "            </tr>\n",
       "            <tr>\n",
       "                        <th id=\"T_f7326c80_685b_11ea_9fb4_b808cfcc3516level0_row1\" class=\"row_heading level0 row1\" >1</th>\n",
       "                        <td id=\"T_f7326c80_685b_11ea_9fb4_b808cfcc3516row1_col0\" class=\"data row1 col0\" >2019-12-08</td>\n",
       "                        <td id=\"T_f7326c80_685b_11ea_9fb4_b808cfcc3516row1_col1\" class=\"data row1 col1\" >0.11863</td>\n",
       "                        <td id=\"T_f7326c80_685b_11ea_9fb4_b808cfcc3516row1_col2\" class=\"data row1 col2\" >0.2539</td>\n",
       "                        <td id=\"T_f7326c80_685b_11ea_9fb4_b808cfcc3516row1_col3\" class=\"data row1 col3\" >0.19617</td>\n",
       "                        <td id=\"T_f7326c80_685b_11ea_9fb4_b808cfcc3516row1_col4\" class=\"data row1 col4\" >0.00836</td>\n",
       "            </tr>\n",
       "            <tr>\n",
       "                        <th id=\"T_f7326c80_685b_11ea_9fb4_b808cfcc3516level0_row2\" class=\"row_heading level0 row2\" >2</th>\n",
       "                        <td id=\"T_f7326c80_685b_11ea_9fb4_b808cfcc3516row2_col0\" class=\"data row2 col0\" >2019-12-09</td>\n",
       "                        <td id=\"T_f7326c80_685b_11ea_9fb4_b808cfcc3516row2_col1\" class=\"data row2 col1\" >0.16308</td>\n",
       "                        <td id=\"T_f7326c80_685b_11ea_9fb4_b808cfcc3516row2_col2\" class=\"data row2 col2\" >0.4788</td>\n",
       "                        <td id=\"T_f7326c80_685b_11ea_9fb4_b808cfcc3516row2_col3\" class=\"data row2 col3\" >0.3318</td>\n",
       "                        <td id=\"T_f7326c80_685b_11ea_9fb4_b808cfcc3516row2_col4\" class=\"data row2 col4\" >0.01272</td>\n",
       "            </tr>\n",
       "    </tbody></table>   "
      ],
      "text/plain": [
       "<IPython.core.display.HTML object>"
      ]
     },
     "metadata": {},
     "output_type": "display_data"
    },
    {
     "data": {
      "text/html": [
       "<font color=coral>date</font> : Year-Month-Day <br>\n",
       "            <font color=coral>cold</font> : the search volume of \"cold\" in Korean <br>\n",
       "            <font color=coral>flu</font> : the search volume of 'flu' in Korean <br>\n",
       "            <font color=coral>pneumonia</font> : the search volume of 'pneumonia' in Korean <br>\n",
       "            <font color=coral>coronavirus</font> : the search volume of 'coronavirus' in Korean            \n",
       "            "
      ],
      "text/plain": [
       "<IPython.core.display.HTML object>"
      ]
     },
     "metadata": {},
     "output_type": "display_data"
    },
    {
     "name": "stdout",
     "output_type": "stream",
     "text": [
      "---------------------------------------------------------------------------------------------------------\n"
     ]
    },
    {
     "data": {
      "text/html": [
       "<style  type=\"text/css\" >\n",
       "    #T_f7337d38_685b_11ea_ac9f_b808cfcc3516 caption {\n",
       "          text-align: center;\n",
       "          font-size: 150%;\n",
       "          color: darkgreen;\n",
       "    }</style><table id=\"T_f7337d38_685b_11ea_ac9f_b808cfcc3516\" style='display:inline'><caption>patient</caption><thead>    <tr>        <th class=\"blank level0\" ></th>        <th class=\"col_heading level0 col0\" >patient_id</th>        <th class=\"col_heading level0 col1\" >sex</th>        <th class=\"col_heading level0 col2\" >birth_year</th>        <th class=\"col_heading level0 col3\" >country</th>        <th class=\"col_heading level0 col4\" >region</th>        <th class=\"col_heading level0 col5\" >disease</th>        <th class=\"col_heading level0 col6\" >group</th>        <th class=\"col_heading level0 col7\" >infection_reason</th>        <th class=\"col_heading level0 col8\" >infection_order</th>        <th class=\"col_heading level0 col9\" >infected_by</th>        <th class=\"col_heading level0 col10\" >contact_number</th>        <th class=\"col_heading level0 col11\" >confirmed_date</th>        <th class=\"col_heading level0 col12\" >released_date</th>        <th class=\"col_heading level0 col13\" >deceased_date</th>        <th class=\"col_heading level0 col14\" >state</th>    </tr></thead><tbody>\n",
       "                <tr>\n",
       "                        <th id=\"T_f7337d38_685b_11ea_ac9f_b808cfcc3516level0_row0\" class=\"row_heading level0 row0\" >0</th>\n",
       "                        <td id=\"T_f7337d38_685b_11ea_ac9f_b808cfcc3516row0_col0\" class=\"data row0 col0\" >1</td>\n",
       "                        <td id=\"T_f7337d38_685b_11ea_ac9f_b808cfcc3516row0_col1\" class=\"data row0 col1\" >female</td>\n",
       "                        <td id=\"T_f7337d38_685b_11ea_ac9f_b808cfcc3516row0_col2\" class=\"data row0 col2\" >1984</td>\n",
       "                        <td id=\"T_f7337d38_685b_11ea_ac9f_b808cfcc3516row0_col3\" class=\"data row0 col3\" >China</td>\n",
       "                        <td id=\"T_f7337d38_685b_11ea_ac9f_b808cfcc3516row0_col4\" class=\"data row0 col4\" >filtered at airport</td>\n",
       "                        <td id=\"T_f7337d38_685b_11ea_ac9f_b808cfcc3516row0_col5\" class=\"data row0 col5\" >nan</td>\n",
       "                        <td id=\"T_f7337d38_685b_11ea_ac9f_b808cfcc3516row0_col6\" class=\"data row0 col6\" >nan</td>\n",
       "                        <td id=\"T_f7337d38_685b_11ea_ac9f_b808cfcc3516row0_col7\" class=\"data row0 col7\" >visit to Wuhan</td>\n",
       "                        <td id=\"T_f7337d38_685b_11ea_ac9f_b808cfcc3516row0_col8\" class=\"data row0 col8\" >1</td>\n",
       "                        <td id=\"T_f7337d38_685b_11ea_ac9f_b808cfcc3516row0_col9\" class=\"data row0 col9\" >nan</td>\n",
       "                        <td id=\"T_f7337d38_685b_11ea_ac9f_b808cfcc3516row0_col10\" class=\"data row0 col10\" >45</td>\n",
       "                        <td id=\"T_f7337d38_685b_11ea_ac9f_b808cfcc3516row0_col11\" class=\"data row0 col11\" >2020-01-20</td>\n",
       "                        <td id=\"T_f7337d38_685b_11ea_ac9f_b808cfcc3516row0_col12\" class=\"data row0 col12\" >2020-02-06</td>\n",
       "                        <td id=\"T_f7337d38_685b_11ea_ac9f_b808cfcc3516row0_col13\" class=\"data row0 col13\" >nan</td>\n",
       "                        <td id=\"T_f7337d38_685b_11ea_ac9f_b808cfcc3516row0_col14\" class=\"data row0 col14\" >released</td>\n",
       "            </tr>\n",
       "            <tr>\n",
       "                        <th id=\"T_f7337d38_685b_11ea_ac9f_b808cfcc3516level0_row1\" class=\"row_heading level0 row1\" >1</th>\n",
       "                        <td id=\"T_f7337d38_685b_11ea_ac9f_b808cfcc3516row1_col0\" class=\"data row1 col0\" >2</td>\n",
       "                        <td id=\"T_f7337d38_685b_11ea_ac9f_b808cfcc3516row1_col1\" class=\"data row1 col1\" >male</td>\n",
       "                        <td id=\"T_f7337d38_685b_11ea_ac9f_b808cfcc3516row1_col2\" class=\"data row1 col2\" >1964</td>\n",
       "                        <td id=\"T_f7337d38_685b_11ea_ac9f_b808cfcc3516row1_col3\" class=\"data row1 col3\" >Korea</td>\n",
       "                        <td id=\"T_f7337d38_685b_11ea_ac9f_b808cfcc3516row1_col4\" class=\"data row1 col4\" >filtered at airport</td>\n",
       "                        <td id=\"T_f7337d38_685b_11ea_ac9f_b808cfcc3516row1_col5\" class=\"data row1 col5\" >nan</td>\n",
       "                        <td id=\"T_f7337d38_685b_11ea_ac9f_b808cfcc3516row1_col6\" class=\"data row1 col6\" >nan</td>\n",
       "                        <td id=\"T_f7337d38_685b_11ea_ac9f_b808cfcc3516row1_col7\" class=\"data row1 col7\" >visit to Wuhan</td>\n",
       "                        <td id=\"T_f7337d38_685b_11ea_ac9f_b808cfcc3516row1_col8\" class=\"data row1 col8\" >1</td>\n",
       "                        <td id=\"T_f7337d38_685b_11ea_ac9f_b808cfcc3516row1_col9\" class=\"data row1 col9\" >nan</td>\n",
       "                        <td id=\"T_f7337d38_685b_11ea_ac9f_b808cfcc3516row1_col10\" class=\"data row1 col10\" >75</td>\n",
       "                        <td id=\"T_f7337d38_685b_11ea_ac9f_b808cfcc3516row1_col11\" class=\"data row1 col11\" >2020-01-24</td>\n",
       "                        <td id=\"T_f7337d38_685b_11ea_ac9f_b808cfcc3516row1_col12\" class=\"data row1 col12\" >2020-02-05</td>\n",
       "                        <td id=\"T_f7337d38_685b_11ea_ac9f_b808cfcc3516row1_col13\" class=\"data row1 col13\" >nan</td>\n",
       "                        <td id=\"T_f7337d38_685b_11ea_ac9f_b808cfcc3516row1_col14\" class=\"data row1 col14\" >released</td>\n",
       "            </tr>\n",
       "            <tr>\n",
       "                        <th id=\"T_f7337d38_685b_11ea_ac9f_b808cfcc3516level0_row2\" class=\"row_heading level0 row2\" >2</th>\n",
       "                        <td id=\"T_f7337d38_685b_11ea_ac9f_b808cfcc3516row2_col0\" class=\"data row2 col0\" >3</td>\n",
       "                        <td id=\"T_f7337d38_685b_11ea_ac9f_b808cfcc3516row2_col1\" class=\"data row2 col1\" >male</td>\n",
       "                        <td id=\"T_f7337d38_685b_11ea_ac9f_b808cfcc3516row2_col2\" class=\"data row2 col2\" >1966</td>\n",
       "                        <td id=\"T_f7337d38_685b_11ea_ac9f_b808cfcc3516row2_col3\" class=\"data row2 col3\" >Korea</td>\n",
       "                        <td id=\"T_f7337d38_685b_11ea_ac9f_b808cfcc3516row2_col4\" class=\"data row2 col4\" >capital area</td>\n",
       "                        <td id=\"T_f7337d38_685b_11ea_ac9f_b808cfcc3516row2_col5\" class=\"data row2 col5\" >nan</td>\n",
       "                        <td id=\"T_f7337d38_685b_11ea_ac9f_b808cfcc3516row2_col6\" class=\"data row2 col6\" >nan</td>\n",
       "                        <td id=\"T_f7337d38_685b_11ea_ac9f_b808cfcc3516row2_col7\" class=\"data row2 col7\" >visit to Wuhan</td>\n",
       "                        <td id=\"T_f7337d38_685b_11ea_ac9f_b808cfcc3516row2_col8\" class=\"data row2 col8\" >1</td>\n",
       "                        <td id=\"T_f7337d38_685b_11ea_ac9f_b808cfcc3516row2_col9\" class=\"data row2 col9\" >nan</td>\n",
       "                        <td id=\"T_f7337d38_685b_11ea_ac9f_b808cfcc3516row2_col10\" class=\"data row2 col10\" >16</td>\n",
       "                        <td id=\"T_f7337d38_685b_11ea_ac9f_b808cfcc3516row2_col11\" class=\"data row2 col11\" >2020-01-26</td>\n",
       "                        <td id=\"T_f7337d38_685b_11ea_ac9f_b808cfcc3516row2_col12\" class=\"data row2 col12\" >2020-02-12</td>\n",
       "                        <td id=\"T_f7337d38_685b_11ea_ac9f_b808cfcc3516row2_col13\" class=\"data row2 col13\" >nan</td>\n",
       "                        <td id=\"T_f7337d38_685b_11ea_ac9f_b808cfcc3516row2_col14\" class=\"data row2 col14\" >released</td>\n",
       "            </tr>\n",
       "            <tr>\n",
       "                        <th id=\"T_f7337d38_685b_11ea_ac9f_b808cfcc3516level0_row3\" class=\"row_heading level0 row3\" >3</th>\n",
       "                        <td id=\"T_f7337d38_685b_11ea_ac9f_b808cfcc3516row3_col0\" class=\"data row3 col0\" >4</td>\n",
       "                        <td id=\"T_f7337d38_685b_11ea_ac9f_b808cfcc3516row3_col1\" class=\"data row3 col1\" >male</td>\n",
       "                        <td id=\"T_f7337d38_685b_11ea_ac9f_b808cfcc3516row3_col2\" class=\"data row3 col2\" >1964</td>\n",
       "                        <td id=\"T_f7337d38_685b_11ea_ac9f_b808cfcc3516row3_col3\" class=\"data row3 col3\" >Korea</td>\n",
       "                        <td id=\"T_f7337d38_685b_11ea_ac9f_b808cfcc3516row3_col4\" class=\"data row3 col4\" >capital area</td>\n",
       "                        <td id=\"T_f7337d38_685b_11ea_ac9f_b808cfcc3516row3_col5\" class=\"data row3 col5\" >nan</td>\n",
       "                        <td id=\"T_f7337d38_685b_11ea_ac9f_b808cfcc3516row3_col6\" class=\"data row3 col6\" >nan</td>\n",
       "                        <td id=\"T_f7337d38_685b_11ea_ac9f_b808cfcc3516row3_col7\" class=\"data row3 col7\" >visit to Wuhan</td>\n",
       "                        <td id=\"T_f7337d38_685b_11ea_ac9f_b808cfcc3516row3_col8\" class=\"data row3 col8\" >1</td>\n",
       "                        <td id=\"T_f7337d38_685b_11ea_ac9f_b808cfcc3516row3_col9\" class=\"data row3 col9\" >nan</td>\n",
       "                        <td id=\"T_f7337d38_685b_11ea_ac9f_b808cfcc3516row3_col10\" class=\"data row3 col10\" >95</td>\n",
       "                        <td id=\"T_f7337d38_685b_11ea_ac9f_b808cfcc3516row3_col11\" class=\"data row3 col11\" >2020-01-27</td>\n",
       "                        <td id=\"T_f7337d38_685b_11ea_ac9f_b808cfcc3516row3_col12\" class=\"data row3 col12\" >2020-02-09</td>\n",
       "                        <td id=\"T_f7337d38_685b_11ea_ac9f_b808cfcc3516row3_col13\" class=\"data row3 col13\" >nan</td>\n",
       "                        <td id=\"T_f7337d38_685b_11ea_ac9f_b808cfcc3516row3_col14\" class=\"data row3 col14\" >released</td>\n",
       "            </tr>\n",
       "            <tr>\n",
       "                        <th id=\"T_f7337d38_685b_11ea_ac9f_b808cfcc3516level0_row4\" class=\"row_heading level0 row4\" >4</th>\n",
       "                        <td id=\"T_f7337d38_685b_11ea_ac9f_b808cfcc3516row4_col0\" class=\"data row4 col0\" >5</td>\n",
       "                        <td id=\"T_f7337d38_685b_11ea_ac9f_b808cfcc3516row4_col1\" class=\"data row4 col1\" >male</td>\n",
       "                        <td id=\"T_f7337d38_685b_11ea_ac9f_b808cfcc3516row4_col2\" class=\"data row4 col2\" >1987</td>\n",
       "                        <td id=\"T_f7337d38_685b_11ea_ac9f_b808cfcc3516row4_col3\" class=\"data row4 col3\" >Korea</td>\n",
       "                        <td id=\"T_f7337d38_685b_11ea_ac9f_b808cfcc3516row4_col4\" class=\"data row4 col4\" >capital area</td>\n",
       "                        <td id=\"T_f7337d38_685b_11ea_ac9f_b808cfcc3516row4_col5\" class=\"data row4 col5\" >nan</td>\n",
       "                        <td id=\"T_f7337d38_685b_11ea_ac9f_b808cfcc3516row4_col6\" class=\"data row4 col6\" >nan</td>\n",
       "                        <td id=\"T_f7337d38_685b_11ea_ac9f_b808cfcc3516row4_col7\" class=\"data row4 col7\" >visit to Wuhan</td>\n",
       "                        <td id=\"T_f7337d38_685b_11ea_ac9f_b808cfcc3516row4_col8\" class=\"data row4 col8\" >1</td>\n",
       "                        <td id=\"T_f7337d38_685b_11ea_ac9f_b808cfcc3516row4_col9\" class=\"data row4 col9\" >nan</td>\n",
       "                        <td id=\"T_f7337d38_685b_11ea_ac9f_b808cfcc3516row4_col10\" class=\"data row4 col10\" >31</td>\n",
       "                        <td id=\"T_f7337d38_685b_11ea_ac9f_b808cfcc3516row4_col11\" class=\"data row4 col11\" >2020-01-30</td>\n",
       "                        <td id=\"T_f7337d38_685b_11ea_ac9f_b808cfcc3516row4_col12\" class=\"data row4 col12\" >2020-03-02</td>\n",
       "                        <td id=\"T_f7337d38_685b_11ea_ac9f_b808cfcc3516row4_col13\" class=\"data row4 col13\" >nan</td>\n",
       "                        <td id=\"T_f7337d38_685b_11ea_ac9f_b808cfcc3516row4_col14\" class=\"data row4 col14\" >released</td>\n",
       "            </tr>\n",
       "            <tr>\n",
       "                        <th id=\"T_f7337d38_685b_11ea_ac9f_b808cfcc3516level0_row5\" class=\"row_heading level0 row5\" >5</th>\n",
       "                        <td id=\"T_f7337d38_685b_11ea_ac9f_b808cfcc3516row5_col0\" class=\"data row5 col0\" >6</td>\n",
       "                        <td id=\"T_f7337d38_685b_11ea_ac9f_b808cfcc3516row5_col1\" class=\"data row5 col1\" >male</td>\n",
       "                        <td id=\"T_f7337d38_685b_11ea_ac9f_b808cfcc3516row5_col2\" class=\"data row5 col2\" >1964</td>\n",
       "                        <td id=\"T_f7337d38_685b_11ea_ac9f_b808cfcc3516row5_col3\" class=\"data row5 col3\" >Korea</td>\n",
       "                        <td id=\"T_f7337d38_685b_11ea_ac9f_b808cfcc3516row5_col4\" class=\"data row5 col4\" >capital area</td>\n",
       "                        <td id=\"T_f7337d38_685b_11ea_ac9f_b808cfcc3516row5_col5\" class=\"data row5 col5\" >nan</td>\n",
       "                        <td id=\"T_f7337d38_685b_11ea_ac9f_b808cfcc3516row5_col6\" class=\"data row5 col6\" >nan</td>\n",
       "                        <td id=\"T_f7337d38_685b_11ea_ac9f_b808cfcc3516row5_col7\" class=\"data row5 col7\" >contact with patient</td>\n",
       "                        <td id=\"T_f7337d38_685b_11ea_ac9f_b808cfcc3516row5_col8\" class=\"data row5 col8\" >2</td>\n",
       "                        <td id=\"T_f7337d38_685b_11ea_ac9f_b808cfcc3516row5_col9\" class=\"data row5 col9\" >3</td>\n",
       "                        <td id=\"T_f7337d38_685b_11ea_ac9f_b808cfcc3516row5_col10\" class=\"data row5 col10\" >17</td>\n",
       "                        <td id=\"T_f7337d38_685b_11ea_ac9f_b808cfcc3516row5_col11\" class=\"data row5 col11\" >2020-01-30</td>\n",
       "                        <td id=\"T_f7337d38_685b_11ea_ac9f_b808cfcc3516row5_col12\" class=\"data row5 col12\" >2020-02-19</td>\n",
       "                        <td id=\"T_f7337d38_685b_11ea_ac9f_b808cfcc3516row5_col13\" class=\"data row5 col13\" >nan</td>\n",
       "                        <td id=\"T_f7337d38_685b_11ea_ac9f_b808cfcc3516row5_col14\" class=\"data row5 col14\" >released</td>\n",
       "            </tr>\n",
       "            <tr>\n",
       "                        <th id=\"T_f7337d38_685b_11ea_ac9f_b808cfcc3516level0_row6\" class=\"row_heading level0 row6\" >6</th>\n",
       "                        <td id=\"T_f7337d38_685b_11ea_ac9f_b808cfcc3516row6_col0\" class=\"data row6 col0\" >7</td>\n",
       "                        <td id=\"T_f7337d38_685b_11ea_ac9f_b808cfcc3516row6_col1\" class=\"data row6 col1\" >male</td>\n",
       "                        <td id=\"T_f7337d38_685b_11ea_ac9f_b808cfcc3516row6_col2\" class=\"data row6 col2\" >1991</td>\n",
       "                        <td id=\"T_f7337d38_685b_11ea_ac9f_b808cfcc3516row6_col3\" class=\"data row6 col3\" >Korea</td>\n",
       "                        <td id=\"T_f7337d38_685b_11ea_ac9f_b808cfcc3516row6_col4\" class=\"data row6 col4\" >capital area</td>\n",
       "                        <td id=\"T_f7337d38_685b_11ea_ac9f_b808cfcc3516row6_col5\" class=\"data row6 col5\" >nan</td>\n",
       "                        <td id=\"T_f7337d38_685b_11ea_ac9f_b808cfcc3516row6_col6\" class=\"data row6 col6\" >nan</td>\n",
       "                        <td id=\"T_f7337d38_685b_11ea_ac9f_b808cfcc3516row6_col7\" class=\"data row6 col7\" >visit to Wuhan</td>\n",
       "                        <td id=\"T_f7337d38_685b_11ea_ac9f_b808cfcc3516row6_col8\" class=\"data row6 col8\" >1</td>\n",
       "                        <td id=\"T_f7337d38_685b_11ea_ac9f_b808cfcc3516row6_col9\" class=\"data row6 col9\" >nan</td>\n",
       "                        <td id=\"T_f7337d38_685b_11ea_ac9f_b808cfcc3516row6_col10\" class=\"data row6 col10\" >9</td>\n",
       "                        <td id=\"T_f7337d38_685b_11ea_ac9f_b808cfcc3516row6_col11\" class=\"data row6 col11\" >2020-01-30</td>\n",
       "                        <td id=\"T_f7337d38_685b_11ea_ac9f_b808cfcc3516row6_col12\" class=\"data row6 col12\" >2020-02-15</td>\n",
       "                        <td id=\"T_f7337d38_685b_11ea_ac9f_b808cfcc3516row6_col13\" class=\"data row6 col13\" >nan</td>\n",
       "                        <td id=\"T_f7337d38_685b_11ea_ac9f_b808cfcc3516row6_col14\" class=\"data row6 col14\" >released</td>\n",
       "            </tr>\n",
       "            <tr>\n",
       "                        <th id=\"T_f7337d38_685b_11ea_ac9f_b808cfcc3516level0_row7\" class=\"row_heading level0 row7\" >7</th>\n",
       "                        <td id=\"T_f7337d38_685b_11ea_ac9f_b808cfcc3516row7_col0\" class=\"data row7 col0\" >8</td>\n",
       "                        <td id=\"T_f7337d38_685b_11ea_ac9f_b808cfcc3516row7_col1\" class=\"data row7 col1\" >female</td>\n",
       "                        <td id=\"T_f7337d38_685b_11ea_ac9f_b808cfcc3516row7_col2\" class=\"data row7 col2\" >1957</td>\n",
       "                        <td id=\"T_f7337d38_685b_11ea_ac9f_b808cfcc3516row7_col3\" class=\"data row7 col3\" >Korea</td>\n",
       "                        <td id=\"T_f7337d38_685b_11ea_ac9f_b808cfcc3516row7_col4\" class=\"data row7 col4\" >Jeollabuk-do</td>\n",
       "                        <td id=\"T_f7337d38_685b_11ea_ac9f_b808cfcc3516row7_col5\" class=\"data row7 col5\" >nan</td>\n",
       "                        <td id=\"T_f7337d38_685b_11ea_ac9f_b808cfcc3516row7_col6\" class=\"data row7 col6\" >nan</td>\n",
       "                        <td id=\"T_f7337d38_685b_11ea_ac9f_b808cfcc3516row7_col7\" class=\"data row7 col7\" >visit to Wuhan</td>\n",
       "                        <td id=\"T_f7337d38_685b_11ea_ac9f_b808cfcc3516row7_col8\" class=\"data row7 col8\" >1</td>\n",
       "                        <td id=\"T_f7337d38_685b_11ea_ac9f_b808cfcc3516row7_col9\" class=\"data row7 col9\" >nan</td>\n",
       "                        <td id=\"T_f7337d38_685b_11ea_ac9f_b808cfcc3516row7_col10\" class=\"data row7 col10\" >113</td>\n",
       "                        <td id=\"T_f7337d38_685b_11ea_ac9f_b808cfcc3516row7_col11\" class=\"data row7 col11\" >2020-01-31</td>\n",
       "                        <td id=\"T_f7337d38_685b_11ea_ac9f_b808cfcc3516row7_col12\" class=\"data row7 col12\" >2020-02-12</td>\n",
       "                        <td id=\"T_f7337d38_685b_11ea_ac9f_b808cfcc3516row7_col13\" class=\"data row7 col13\" >nan</td>\n",
       "                        <td id=\"T_f7337d38_685b_11ea_ac9f_b808cfcc3516row7_col14\" class=\"data row7 col14\" >released</td>\n",
       "            </tr>\n",
       "            <tr>\n",
       "                        <th id=\"T_f7337d38_685b_11ea_ac9f_b808cfcc3516level0_row8\" class=\"row_heading level0 row8\" >8</th>\n",
       "                        <td id=\"T_f7337d38_685b_11ea_ac9f_b808cfcc3516row8_col0\" class=\"data row8 col0\" >9</td>\n",
       "                        <td id=\"T_f7337d38_685b_11ea_ac9f_b808cfcc3516row8_col1\" class=\"data row8 col1\" >female</td>\n",
       "                        <td id=\"T_f7337d38_685b_11ea_ac9f_b808cfcc3516row8_col2\" class=\"data row8 col2\" >1992</td>\n",
       "                        <td id=\"T_f7337d38_685b_11ea_ac9f_b808cfcc3516row8_col3\" class=\"data row8 col3\" >Korea</td>\n",
       "                        <td id=\"T_f7337d38_685b_11ea_ac9f_b808cfcc3516row8_col4\" class=\"data row8 col4\" >capital area</td>\n",
       "                        <td id=\"T_f7337d38_685b_11ea_ac9f_b808cfcc3516row8_col5\" class=\"data row8 col5\" >nan</td>\n",
       "                        <td id=\"T_f7337d38_685b_11ea_ac9f_b808cfcc3516row8_col6\" class=\"data row8 col6\" >nan</td>\n",
       "                        <td id=\"T_f7337d38_685b_11ea_ac9f_b808cfcc3516row8_col7\" class=\"data row8 col7\" >contact with patient</td>\n",
       "                        <td id=\"T_f7337d38_685b_11ea_ac9f_b808cfcc3516row8_col8\" class=\"data row8 col8\" >2</td>\n",
       "                        <td id=\"T_f7337d38_685b_11ea_ac9f_b808cfcc3516row8_col9\" class=\"data row8 col9\" >5</td>\n",
       "                        <td id=\"T_f7337d38_685b_11ea_ac9f_b808cfcc3516row8_col10\" class=\"data row8 col10\" >2</td>\n",
       "                        <td id=\"T_f7337d38_685b_11ea_ac9f_b808cfcc3516row8_col11\" class=\"data row8 col11\" >2020-01-31</td>\n",
       "                        <td id=\"T_f7337d38_685b_11ea_ac9f_b808cfcc3516row8_col12\" class=\"data row8 col12\" >2020-02-24</td>\n",
       "                        <td id=\"T_f7337d38_685b_11ea_ac9f_b808cfcc3516row8_col13\" class=\"data row8 col13\" >nan</td>\n",
       "                        <td id=\"T_f7337d38_685b_11ea_ac9f_b808cfcc3516row8_col14\" class=\"data row8 col14\" >released</td>\n",
       "            </tr>\n",
       "            <tr>\n",
       "                        <th id=\"T_f7337d38_685b_11ea_ac9f_b808cfcc3516level0_row9\" class=\"row_heading level0 row9\" >9</th>\n",
       "                        <td id=\"T_f7337d38_685b_11ea_ac9f_b808cfcc3516row9_col0\" class=\"data row9 col0\" >10</td>\n",
       "                        <td id=\"T_f7337d38_685b_11ea_ac9f_b808cfcc3516row9_col1\" class=\"data row9 col1\" >female</td>\n",
       "                        <td id=\"T_f7337d38_685b_11ea_ac9f_b808cfcc3516row9_col2\" class=\"data row9 col2\" >1966</td>\n",
       "                        <td id=\"T_f7337d38_685b_11ea_ac9f_b808cfcc3516row9_col3\" class=\"data row9 col3\" >Korea</td>\n",
       "                        <td id=\"T_f7337d38_685b_11ea_ac9f_b808cfcc3516row9_col4\" class=\"data row9 col4\" >capital area</td>\n",
       "                        <td id=\"T_f7337d38_685b_11ea_ac9f_b808cfcc3516row9_col5\" class=\"data row9 col5\" >nan</td>\n",
       "                        <td id=\"T_f7337d38_685b_11ea_ac9f_b808cfcc3516row9_col6\" class=\"data row9 col6\" >nan</td>\n",
       "                        <td id=\"T_f7337d38_685b_11ea_ac9f_b808cfcc3516row9_col7\" class=\"data row9 col7\" >contact with patient</td>\n",
       "                        <td id=\"T_f7337d38_685b_11ea_ac9f_b808cfcc3516row9_col8\" class=\"data row9 col8\" >3</td>\n",
       "                        <td id=\"T_f7337d38_685b_11ea_ac9f_b808cfcc3516row9_col9\" class=\"data row9 col9\" >6</td>\n",
       "                        <td id=\"T_f7337d38_685b_11ea_ac9f_b808cfcc3516row9_col10\" class=\"data row9 col10\" >43</td>\n",
       "                        <td id=\"T_f7337d38_685b_11ea_ac9f_b808cfcc3516row9_col11\" class=\"data row9 col11\" >2020-01-31</td>\n",
       "                        <td id=\"T_f7337d38_685b_11ea_ac9f_b808cfcc3516row9_col12\" class=\"data row9 col12\" >2020-02-19</td>\n",
       "                        <td id=\"T_f7337d38_685b_11ea_ac9f_b808cfcc3516row9_col13\" class=\"data row9 col13\" >nan</td>\n",
       "                        <td id=\"T_f7337d38_685b_11ea_ac9f_b808cfcc3516row9_col14\" class=\"data row9 col14\" >released</td>\n",
       "            </tr>\n",
       "            <tr>\n",
       "                        <th id=\"T_f7337d38_685b_11ea_ac9f_b808cfcc3516level0_row10\" class=\"row_heading level0 row10\" >10</th>\n",
       "                        <td id=\"T_f7337d38_685b_11ea_ac9f_b808cfcc3516row10_col0\" class=\"data row10 col0\" >11</td>\n",
       "                        <td id=\"T_f7337d38_685b_11ea_ac9f_b808cfcc3516row10_col1\" class=\"data row10 col1\" >male</td>\n",
       "                        <td id=\"T_f7337d38_685b_11ea_ac9f_b808cfcc3516row10_col2\" class=\"data row10 col2\" >1995</td>\n",
       "                        <td id=\"T_f7337d38_685b_11ea_ac9f_b808cfcc3516row10_col3\" class=\"data row10 col3\" >Korea</td>\n",
       "                        <td id=\"T_f7337d38_685b_11ea_ac9f_b808cfcc3516row10_col4\" class=\"data row10 col4\" >capital area</td>\n",
       "                        <td id=\"T_f7337d38_685b_11ea_ac9f_b808cfcc3516row10_col5\" class=\"data row10 col5\" >nan</td>\n",
       "                        <td id=\"T_f7337d38_685b_11ea_ac9f_b808cfcc3516row10_col6\" class=\"data row10 col6\" >nan</td>\n",
       "                        <td id=\"T_f7337d38_685b_11ea_ac9f_b808cfcc3516row10_col7\" class=\"data row10 col7\" >contact with patient</td>\n",
       "                        <td id=\"T_f7337d38_685b_11ea_ac9f_b808cfcc3516row10_col8\" class=\"data row10 col8\" >3</td>\n",
       "                        <td id=\"T_f7337d38_685b_11ea_ac9f_b808cfcc3516row10_col9\" class=\"data row10 col9\" >6</td>\n",
       "                        <td id=\"T_f7337d38_685b_11ea_ac9f_b808cfcc3516row10_col10\" class=\"data row10 col10\" >0</td>\n",
       "                        <td id=\"T_f7337d38_685b_11ea_ac9f_b808cfcc3516row10_col11\" class=\"data row10 col11\" >2020-01-31</td>\n",
       "                        <td id=\"T_f7337d38_685b_11ea_ac9f_b808cfcc3516row10_col12\" class=\"data row10 col12\" >2020-02-10</td>\n",
       "                        <td id=\"T_f7337d38_685b_11ea_ac9f_b808cfcc3516row10_col13\" class=\"data row10 col13\" >nan</td>\n",
       "                        <td id=\"T_f7337d38_685b_11ea_ac9f_b808cfcc3516row10_col14\" class=\"data row10 col14\" >released</td>\n",
       "            </tr>\n",
       "            <tr>\n",
       "                        <th id=\"T_f7337d38_685b_11ea_ac9f_b808cfcc3516level0_row11\" class=\"row_heading level0 row11\" >11</th>\n",
       "                        <td id=\"T_f7337d38_685b_11ea_ac9f_b808cfcc3516row11_col0\" class=\"data row11 col0\" >12</td>\n",
       "                        <td id=\"T_f7337d38_685b_11ea_ac9f_b808cfcc3516row11_col1\" class=\"data row11 col1\" >male</td>\n",
       "                        <td id=\"T_f7337d38_685b_11ea_ac9f_b808cfcc3516row11_col2\" class=\"data row11 col2\" >1971</td>\n",
       "                        <td id=\"T_f7337d38_685b_11ea_ac9f_b808cfcc3516row11_col3\" class=\"data row11 col3\" >China</td>\n",
       "                        <td id=\"T_f7337d38_685b_11ea_ac9f_b808cfcc3516row11_col4\" class=\"data row11 col4\" >capital area</td>\n",
       "                        <td id=\"T_f7337d38_685b_11ea_ac9f_b808cfcc3516row11_col5\" class=\"data row11 col5\" >nan</td>\n",
       "                        <td id=\"T_f7337d38_685b_11ea_ac9f_b808cfcc3516row11_col6\" class=\"data row11 col6\" >nan</td>\n",
       "                        <td id=\"T_f7337d38_685b_11ea_ac9f_b808cfcc3516row11_col7\" class=\"data row11 col7\" >contact with patient in Japan</td>\n",
       "                        <td id=\"T_f7337d38_685b_11ea_ac9f_b808cfcc3516row11_col8\" class=\"data row11 col8\" >2</td>\n",
       "                        <td id=\"T_f7337d38_685b_11ea_ac9f_b808cfcc3516row11_col9\" class=\"data row11 col9\" >nan</td>\n",
       "                        <td id=\"T_f7337d38_685b_11ea_ac9f_b808cfcc3516row11_col10\" class=\"data row11 col10\" >422</td>\n",
       "                        <td id=\"T_f7337d38_685b_11ea_ac9f_b808cfcc3516row11_col11\" class=\"data row11 col11\" >2020-02-01</td>\n",
       "                        <td id=\"T_f7337d38_685b_11ea_ac9f_b808cfcc3516row11_col12\" class=\"data row11 col12\" >2020-02-18</td>\n",
       "                        <td id=\"T_f7337d38_685b_11ea_ac9f_b808cfcc3516row11_col13\" class=\"data row11 col13\" >nan</td>\n",
       "                        <td id=\"T_f7337d38_685b_11ea_ac9f_b808cfcc3516row11_col14\" class=\"data row11 col14\" >released</td>\n",
       "            </tr>\n",
       "            <tr>\n",
       "                        <th id=\"T_f7337d38_685b_11ea_ac9f_b808cfcc3516level0_row12\" class=\"row_heading level0 row12\" >12</th>\n",
       "                        <td id=\"T_f7337d38_685b_11ea_ac9f_b808cfcc3516row12_col0\" class=\"data row12 col0\" >13</td>\n",
       "                        <td id=\"T_f7337d38_685b_11ea_ac9f_b808cfcc3516row12_col1\" class=\"data row12 col1\" >male</td>\n",
       "                        <td id=\"T_f7337d38_685b_11ea_ac9f_b808cfcc3516row12_col2\" class=\"data row12 col2\" >1992</td>\n",
       "                        <td id=\"T_f7337d38_685b_11ea_ac9f_b808cfcc3516row12_col3\" class=\"data row12 col3\" >Korea</td>\n",
       "                        <td id=\"T_f7337d38_685b_11ea_ac9f_b808cfcc3516row12_col4\" class=\"data row12 col4\" >filtered at airport</td>\n",
       "                        <td id=\"T_f7337d38_685b_11ea_ac9f_b808cfcc3516row12_col5\" class=\"data row12 col5\" >nan</td>\n",
       "                        <td id=\"T_f7337d38_685b_11ea_ac9f_b808cfcc3516row12_col6\" class=\"data row12 col6\" >nan</td>\n",
       "                        <td id=\"T_f7337d38_685b_11ea_ac9f_b808cfcc3516row12_col7\" class=\"data row12 col7\" >residence in Wuhan</td>\n",
       "                        <td id=\"T_f7337d38_685b_11ea_ac9f_b808cfcc3516row12_col8\" class=\"data row12 col8\" >1</td>\n",
       "                        <td id=\"T_f7337d38_685b_11ea_ac9f_b808cfcc3516row12_col9\" class=\"data row12 col9\" >nan</td>\n",
       "                        <td id=\"T_f7337d38_685b_11ea_ac9f_b808cfcc3516row12_col10\" class=\"data row12 col10\" >0</td>\n",
       "                        <td id=\"T_f7337d38_685b_11ea_ac9f_b808cfcc3516row12_col11\" class=\"data row12 col11\" >2020-02-02</td>\n",
       "                        <td id=\"T_f7337d38_685b_11ea_ac9f_b808cfcc3516row12_col12\" class=\"data row12 col12\" >2020-02-24</td>\n",
       "                        <td id=\"T_f7337d38_685b_11ea_ac9f_b808cfcc3516row12_col13\" class=\"data row12 col13\" >nan</td>\n",
       "                        <td id=\"T_f7337d38_685b_11ea_ac9f_b808cfcc3516row12_col14\" class=\"data row12 col14\" >released</td>\n",
       "            </tr>\n",
       "            <tr>\n",
       "                        <th id=\"T_f7337d38_685b_11ea_ac9f_b808cfcc3516level0_row13\" class=\"row_heading level0 row13\" >13</th>\n",
       "                        <td id=\"T_f7337d38_685b_11ea_ac9f_b808cfcc3516row13_col0\" class=\"data row13 col0\" >14</td>\n",
       "                        <td id=\"T_f7337d38_685b_11ea_ac9f_b808cfcc3516row13_col1\" class=\"data row13 col1\" >female</td>\n",
       "                        <td id=\"T_f7337d38_685b_11ea_ac9f_b808cfcc3516row13_col2\" class=\"data row13 col2\" >1980</td>\n",
       "                        <td id=\"T_f7337d38_685b_11ea_ac9f_b808cfcc3516row13_col3\" class=\"data row13 col3\" >China</td>\n",
       "                        <td id=\"T_f7337d38_685b_11ea_ac9f_b808cfcc3516row13_col4\" class=\"data row13 col4\" >capital area</td>\n",
       "                        <td id=\"T_f7337d38_685b_11ea_ac9f_b808cfcc3516row13_col5\" class=\"data row13 col5\" >nan</td>\n",
       "                        <td id=\"T_f7337d38_685b_11ea_ac9f_b808cfcc3516row13_col6\" class=\"data row13 col6\" >nan</td>\n",
       "                        <td id=\"T_f7337d38_685b_11ea_ac9f_b808cfcc3516row13_col7\" class=\"data row13 col7\" >contact with patient</td>\n",
       "                        <td id=\"T_f7337d38_685b_11ea_ac9f_b808cfcc3516row13_col8\" class=\"data row13 col8\" >3</td>\n",
       "                        <td id=\"T_f7337d38_685b_11ea_ac9f_b808cfcc3516row13_col9\" class=\"data row13 col9\" >12</td>\n",
       "                        <td id=\"T_f7337d38_685b_11ea_ac9f_b808cfcc3516row13_col10\" class=\"data row13 col10\" >3</td>\n",
       "                        <td id=\"T_f7337d38_685b_11ea_ac9f_b808cfcc3516row13_col11\" class=\"data row13 col11\" >2020-02-02</td>\n",
       "                        <td id=\"T_f7337d38_685b_11ea_ac9f_b808cfcc3516row13_col12\" class=\"data row13 col12\" >2020-02-18</td>\n",
       "                        <td id=\"T_f7337d38_685b_11ea_ac9f_b808cfcc3516row13_col13\" class=\"data row13 col13\" >nan</td>\n",
       "                        <td id=\"T_f7337d38_685b_11ea_ac9f_b808cfcc3516row13_col14\" class=\"data row13 col14\" >released</td>\n",
       "            </tr>\n",
       "            <tr>\n",
       "                        <th id=\"T_f7337d38_685b_11ea_ac9f_b808cfcc3516level0_row14\" class=\"row_heading level0 row14\" >14</th>\n",
       "                        <td id=\"T_f7337d38_685b_11ea_ac9f_b808cfcc3516row14_col0\" class=\"data row14 col0\" >15</td>\n",
       "                        <td id=\"T_f7337d38_685b_11ea_ac9f_b808cfcc3516row14_col1\" class=\"data row14 col1\" >male</td>\n",
       "                        <td id=\"T_f7337d38_685b_11ea_ac9f_b808cfcc3516row14_col2\" class=\"data row14 col2\" >1977</td>\n",
       "                        <td id=\"T_f7337d38_685b_11ea_ac9f_b808cfcc3516row14_col3\" class=\"data row14 col3\" >Korea</td>\n",
       "                        <td id=\"T_f7337d38_685b_11ea_ac9f_b808cfcc3516row14_col4\" class=\"data row14 col4\" >capital area</td>\n",
       "                        <td id=\"T_f7337d38_685b_11ea_ac9f_b808cfcc3516row14_col5\" class=\"data row14 col5\" >nan</td>\n",
       "                        <td id=\"T_f7337d38_685b_11ea_ac9f_b808cfcc3516row14_col6\" class=\"data row14 col6\" >nan</td>\n",
       "                        <td id=\"T_f7337d38_685b_11ea_ac9f_b808cfcc3516row14_col7\" class=\"data row14 col7\" >contact with patient</td>\n",
       "                        <td id=\"T_f7337d38_685b_11ea_ac9f_b808cfcc3516row14_col8\" class=\"data row14 col8\" >2</td>\n",
       "                        <td id=\"T_f7337d38_685b_11ea_ac9f_b808cfcc3516row14_col9\" class=\"data row14 col9\" >4</td>\n",
       "                        <td id=\"T_f7337d38_685b_11ea_ac9f_b808cfcc3516row14_col10\" class=\"data row14 col10\" >15</td>\n",
       "                        <td id=\"T_f7337d38_685b_11ea_ac9f_b808cfcc3516row14_col11\" class=\"data row14 col11\" >2020-02-02</td>\n",
       "                        <td id=\"T_f7337d38_685b_11ea_ac9f_b808cfcc3516row14_col12\" class=\"data row14 col12\" >2020-02-24</td>\n",
       "                        <td id=\"T_f7337d38_685b_11ea_ac9f_b808cfcc3516row14_col13\" class=\"data row14 col13\" >nan</td>\n",
       "                        <td id=\"T_f7337d38_685b_11ea_ac9f_b808cfcc3516row14_col14\" class=\"data row14 col14\" >released</td>\n",
       "            </tr>\n",
       "    </tbody></table>   "
      ],
      "text/plain": [
       "<IPython.core.display.HTML object>"
      ]
     },
     "metadata": {},
     "output_type": "display_data"
    },
    {
     "data": {
      "text/html": [
       "<font color=coral>patient_id</font> : the ID of the patient (n-th confirmed patient) <br>\n",
       "            <font color=coral>sex</font> : the sex of the patient <br>\n",
       "            <font color=coral>birth_year</font> : the birth year of the patient <br>\n",
       "            <font color=coral>country</font> : the country of the patient <br>\n",
       "            <font color=coral>region</font> : the region of the patient <br>\n",
       "            <font color=coral>disease</font> : 0: no disease / 1: underlying disease <br>\n",
       "            <font color=coral>group</font> : the collective infection <br>\n",
       "            <font color=coral>infection_reason</font> : the reason of infection <br>\n",
       "            <font color=coral>infection_order</font> : the order of infection <br>\n",
       "            <font color=coral>infected_by</font> : the ID of who has infected the patient <br>\n",
       "            <font color=coral>contact_number</font> : the number of contacts with people <br>\n",
       "            <font color=coral>confirmed_date</font> : the date of confirmation <br>\n",
       "            <font color=coral>released_date</font> : the date of discharge <br>\n",
       "            <font color=coral>deceased_date</font> : the date of decease <br>\n",
       "            <font color=coral>state</font> : isolated / released / deceased\n",
       "            "
      ],
      "text/plain": [
       "<IPython.core.display.HTML object>"
      ]
     },
     "metadata": {},
     "output_type": "display_data"
    },
    {
     "name": "stdout",
     "output_type": "stream",
     "text": [
      "---------------------------------------------------------------------------------------------------------\n"
     ]
    },
    {
     "data": {
      "text/html": [
       "<style  type=\"text/css\" >\n",
       "    #T_f735ec8a_685b_11ea_b411_b808cfcc3516 caption {\n",
       "          text-align: center;\n",
       "          font-size: 150%;\n",
       "          color: darkgreen;\n",
       "    }</style><table id=\"T_f735ec8a_685b_11ea_b411_b808cfcc3516\" style='display:inline'><caption>time</caption><thead>    <tr>        <th class=\"blank level0\" ></th>        <th class=\"col_heading level0 col0\" >date</th>        <th class=\"col_heading level0 col1\" >time</th>        <th class=\"col_heading level0 col2\" >test</th>        <th class=\"col_heading level0 col3\" >negative</th>        <th class=\"col_heading level0 col4\" >confirmed</th>        <th class=\"col_heading level0 col5\" >released</th>        <th class=\"col_heading level0 col6\" >deceased</th>        <th class=\"col_heading level0 col7\" >Seoul</th>        <th class=\"col_heading level0 col8\" >Busan</th>        <th class=\"col_heading level0 col9\" >Daegu</th>        <th class=\"col_heading level0 col10\" >Incheon</th>        <th class=\"col_heading level0 col11\" >Gwangju</th>        <th class=\"col_heading level0 col12\" >Daejeon</th>        <th class=\"col_heading level0 col13\" >Ulsan</th>        <th class=\"col_heading level0 col14\" >Sejong</th>        <th class=\"col_heading level0 col15\" >Gyeonggi-do</th>        <th class=\"col_heading level0 col16\" >Gangwon-do</th>        <th class=\"col_heading level0 col17\" >Chungcheongbuk-do</th>        <th class=\"col_heading level0 col18\" >Chungcheongnam-do</th>        <th class=\"col_heading level0 col19\" >Jeollabuk-do</th>        <th class=\"col_heading level0 col20\" >Jeollanam-do</th>        <th class=\"col_heading level0 col21\" >Gyeongsangbuk-do</th>        <th class=\"col_heading level0 col22\" >Gyeongsangnam-do</th>        <th class=\"col_heading level0 col23\" >Jeju-do</th>    </tr></thead><tbody>\n",
       "                <tr>\n",
       "                        <th id=\"T_f735ec8a_685b_11ea_b411_b808cfcc3516level0_row0\" class=\"row_heading level0 row0\" >0</th>\n",
       "                        <td id=\"T_f735ec8a_685b_11ea_b411_b808cfcc3516row0_col0\" class=\"data row0 col0\" >2020-01-20</td>\n",
       "                        <td id=\"T_f735ec8a_685b_11ea_b411_b808cfcc3516row0_col1\" class=\"data row0 col1\" >16</td>\n",
       "                        <td id=\"T_f735ec8a_685b_11ea_b411_b808cfcc3516row0_col2\" class=\"data row0 col2\" >1</td>\n",
       "                        <td id=\"T_f735ec8a_685b_11ea_b411_b808cfcc3516row0_col3\" class=\"data row0 col3\" >0</td>\n",
       "                        <td id=\"T_f735ec8a_685b_11ea_b411_b808cfcc3516row0_col4\" class=\"data row0 col4\" >1</td>\n",
       "                        <td id=\"T_f735ec8a_685b_11ea_b411_b808cfcc3516row0_col5\" class=\"data row0 col5\" >0</td>\n",
       "                        <td id=\"T_f735ec8a_685b_11ea_b411_b808cfcc3516row0_col6\" class=\"data row0 col6\" >0</td>\n",
       "                        <td id=\"T_f735ec8a_685b_11ea_b411_b808cfcc3516row0_col7\" class=\"data row0 col7\" >0</td>\n",
       "                        <td id=\"T_f735ec8a_685b_11ea_b411_b808cfcc3516row0_col8\" class=\"data row0 col8\" >0</td>\n",
       "                        <td id=\"T_f735ec8a_685b_11ea_b411_b808cfcc3516row0_col9\" class=\"data row0 col9\" >0</td>\n",
       "                        <td id=\"T_f735ec8a_685b_11ea_b411_b808cfcc3516row0_col10\" class=\"data row0 col10\" >1</td>\n",
       "                        <td id=\"T_f735ec8a_685b_11ea_b411_b808cfcc3516row0_col11\" class=\"data row0 col11\" >0</td>\n",
       "                        <td id=\"T_f735ec8a_685b_11ea_b411_b808cfcc3516row0_col12\" class=\"data row0 col12\" >0</td>\n",
       "                        <td id=\"T_f735ec8a_685b_11ea_b411_b808cfcc3516row0_col13\" class=\"data row0 col13\" >0</td>\n",
       "                        <td id=\"T_f735ec8a_685b_11ea_b411_b808cfcc3516row0_col14\" class=\"data row0 col14\" >0</td>\n",
       "                        <td id=\"T_f735ec8a_685b_11ea_b411_b808cfcc3516row0_col15\" class=\"data row0 col15\" >0</td>\n",
       "                        <td id=\"T_f735ec8a_685b_11ea_b411_b808cfcc3516row0_col16\" class=\"data row0 col16\" >0</td>\n",
       "                        <td id=\"T_f735ec8a_685b_11ea_b411_b808cfcc3516row0_col17\" class=\"data row0 col17\" >0</td>\n",
       "                        <td id=\"T_f735ec8a_685b_11ea_b411_b808cfcc3516row0_col18\" class=\"data row0 col18\" >0</td>\n",
       "                        <td id=\"T_f735ec8a_685b_11ea_b411_b808cfcc3516row0_col19\" class=\"data row0 col19\" >0</td>\n",
       "                        <td id=\"T_f735ec8a_685b_11ea_b411_b808cfcc3516row0_col20\" class=\"data row0 col20\" >0</td>\n",
       "                        <td id=\"T_f735ec8a_685b_11ea_b411_b808cfcc3516row0_col21\" class=\"data row0 col21\" >0</td>\n",
       "                        <td id=\"T_f735ec8a_685b_11ea_b411_b808cfcc3516row0_col22\" class=\"data row0 col22\" >0</td>\n",
       "                        <td id=\"T_f735ec8a_685b_11ea_b411_b808cfcc3516row0_col23\" class=\"data row0 col23\" >0</td>\n",
       "            </tr>\n",
       "            <tr>\n",
       "                        <th id=\"T_f735ec8a_685b_11ea_b411_b808cfcc3516level0_row1\" class=\"row_heading level0 row1\" >1</th>\n",
       "                        <td id=\"T_f735ec8a_685b_11ea_b411_b808cfcc3516row1_col0\" class=\"data row1 col0\" >2020-01-21</td>\n",
       "                        <td id=\"T_f735ec8a_685b_11ea_b411_b808cfcc3516row1_col1\" class=\"data row1 col1\" >16</td>\n",
       "                        <td id=\"T_f735ec8a_685b_11ea_b411_b808cfcc3516row1_col2\" class=\"data row1 col2\" >1</td>\n",
       "                        <td id=\"T_f735ec8a_685b_11ea_b411_b808cfcc3516row1_col3\" class=\"data row1 col3\" >0</td>\n",
       "                        <td id=\"T_f735ec8a_685b_11ea_b411_b808cfcc3516row1_col4\" class=\"data row1 col4\" >1</td>\n",
       "                        <td id=\"T_f735ec8a_685b_11ea_b411_b808cfcc3516row1_col5\" class=\"data row1 col5\" >0</td>\n",
       "                        <td id=\"T_f735ec8a_685b_11ea_b411_b808cfcc3516row1_col6\" class=\"data row1 col6\" >0</td>\n",
       "                        <td id=\"T_f735ec8a_685b_11ea_b411_b808cfcc3516row1_col7\" class=\"data row1 col7\" >0</td>\n",
       "                        <td id=\"T_f735ec8a_685b_11ea_b411_b808cfcc3516row1_col8\" class=\"data row1 col8\" >0</td>\n",
       "                        <td id=\"T_f735ec8a_685b_11ea_b411_b808cfcc3516row1_col9\" class=\"data row1 col9\" >0</td>\n",
       "                        <td id=\"T_f735ec8a_685b_11ea_b411_b808cfcc3516row1_col10\" class=\"data row1 col10\" >1</td>\n",
       "                        <td id=\"T_f735ec8a_685b_11ea_b411_b808cfcc3516row1_col11\" class=\"data row1 col11\" >0</td>\n",
       "                        <td id=\"T_f735ec8a_685b_11ea_b411_b808cfcc3516row1_col12\" class=\"data row1 col12\" >0</td>\n",
       "                        <td id=\"T_f735ec8a_685b_11ea_b411_b808cfcc3516row1_col13\" class=\"data row1 col13\" >0</td>\n",
       "                        <td id=\"T_f735ec8a_685b_11ea_b411_b808cfcc3516row1_col14\" class=\"data row1 col14\" >0</td>\n",
       "                        <td id=\"T_f735ec8a_685b_11ea_b411_b808cfcc3516row1_col15\" class=\"data row1 col15\" >0</td>\n",
       "                        <td id=\"T_f735ec8a_685b_11ea_b411_b808cfcc3516row1_col16\" class=\"data row1 col16\" >0</td>\n",
       "                        <td id=\"T_f735ec8a_685b_11ea_b411_b808cfcc3516row1_col17\" class=\"data row1 col17\" >0</td>\n",
       "                        <td id=\"T_f735ec8a_685b_11ea_b411_b808cfcc3516row1_col18\" class=\"data row1 col18\" >0</td>\n",
       "                        <td id=\"T_f735ec8a_685b_11ea_b411_b808cfcc3516row1_col19\" class=\"data row1 col19\" >0</td>\n",
       "                        <td id=\"T_f735ec8a_685b_11ea_b411_b808cfcc3516row1_col20\" class=\"data row1 col20\" >0</td>\n",
       "                        <td id=\"T_f735ec8a_685b_11ea_b411_b808cfcc3516row1_col21\" class=\"data row1 col21\" >0</td>\n",
       "                        <td id=\"T_f735ec8a_685b_11ea_b411_b808cfcc3516row1_col22\" class=\"data row1 col22\" >0</td>\n",
       "                        <td id=\"T_f735ec8a_685b_11ea_b411_b808cfcc3516row1_col23\" class=\"data row1 col23\" >0</td>\n",
       "            </tr>\n",
       "            <tr>\n",
       "                        <th id=\"T_f735ec8a_685b_11ea_b411_b808cfcc3516level0_row2\" class=\"row_heading level0 row2\" >2</th>\n",
       "                        <td id=\"T_f735ec8a_685b_11ea_b411_b808cfcc3516row2_col0\" class=\"data row2 col0\" >2020-01-22</td>\n",
       "                        <td id=\"T_f735ec8a_685b_11ea_b411_b808cfcc3516row2_col1\" class=\"data row2 col1\" >16</td>\n",
       "                        <td id=\"T_f735ec8a_685b_11ea_b411_b808cfcc3516row2_col2\" class=\"data row2 col2\" >4</td>\n",
       "                        <td id=\"T_f735ec8a_685b_11ea_b411_b808cfcc3516row2_col3\" class=\"data row2 col3\" >3</td>\n",
       "                        <td id=\"T_f735ec8a_685b_11ea_b411_b808cfcc3516row2_col4\" class=\"data row2 col4\" >1</td>\n",
       "                        <td id=\"T_f735ec8a_685b_11ea_b411_b808cfcc3516row2_col5\" class=\"data row2 col5\" >0</td>\n",
       "                        <td id=\"T_f735ec8a_685b_11ea_b411_b808cfcc3516row2_col6\" class=\"data row2 col6\" >0</td>\n",
       "                        <td id=\"T_f735ec8a_685b_11ea_b411_b808cfcc3516row2_col7\" class=\"data row2 col7\" >0</td>\n",
       "                        <td id=\"T_f735ec8a_685b_11ea_b411_b808cfcc3516row2_col8\" class=\"data row2 col8\" >0</td>\n",
       "                        <td id=\"T_f735ec8a_685b_11ea_b411_b808cfcc3516row2_col9\" class=\"data row2 col9\" >0</td>\n",
       "                        <td id=\"T_f735ec8a_685b_11ea_b411_b808cfcc3516row2_col10\" class=\"data row2 col10\" >1</td>\n",
       "                        <td id=\"T_f735ec8a_685b_11ea_b411_b808cfcc3516row2_col11\" class=\"data row2 col11\" >0</td>\n",
       "                        <td id=\"T_f735ec8a_685b_11ea_b411_b808cfcc3516row2_col12\" class=\"data row2 col12\" >0</td>\n",
       "                        <td id=\"T_f735ec8a_685b_11ea_b411_b808cfcc3516row2_col13\" class=\"data row2 col13\" >0</td>\n",
       "                        <td id=\"T_f735ec8a_685b_11ea_b411_b808cfcc3516row2_col14\" class=\"data row2 col14\" >0</td>\n",
       "                        <td id=\"T_f735ec8a_685b_11ea_b411_b808cfcc3516row2_col15\" class=\"data row2 col15\" >0</td>\n",
       "                        <td id=\"T_f735ec8a_685b_11ea_b411_b808cfcc3516row2_col16\" class=\"data row2 col16\" >0</td>\n",
       "                        <td id=\"T_f735ec8a_685b_11ea_b411_b808cfcc3516row2_col17\" class=\"data row2 col17\" >0</td>\n",
       "                        <td id=\"T_f735ec8a_685b_11ea_b411_b808cfcc3516row2_col18\" class=\"data row2 col18\" >0</td>\n",
       "                        <td id=\"T_f735ec8a_685b_11ea_b411_b808cfcc3516row2_col19\" class=\"data row2 col19\" >0</td>\n",
       "                        <td id=\"T_f735ec8a_685b_11ea_b411_b808cfcc3516row2_col20\" class=\"data row2 col20\" >0</td>\n",
       "                        <td id=\"T_f735ec8a_685b_11ea_b411_b808cfcc3516row2_col21\" class=\"data row2 col21\" >0</td>\n",
       "                        <td id=\"T_f735ec8a_685b_11ea_b411_b808cfcc3516row2_col22\" class=\"data row2 col22\" >0</td>\n",
       "                        <td id=\"T_f735ec8a_685b_11ea_b411_b808cfcc3516row2_col23\" class=\"data row2 col23\" >0</td>\n",
       "            </tr>\n",
       "            <tr>\n",
       "                        <th id=\"T_f735ec8a_685b_11ea_b411_b808cfcc3516level0_row3\" class=\"row_heading level0 row3\" >3</th>\n",
       "                        <td id=\"T_f735ec8a_685b_11ea_b411_b808cfcc3516row3_col0\" class=\"data row3 col0\" >2020-01-23</td>\n",
       "                        <td id=\"T_f735ec8a_685b_11ea_b411_b808cfcc3516row3_col1\" class=\"data row3 col1\" >16</td>\n",
       "                        <td id=\"T_f735ec8a_685b_11ea_b411_b808cfcc3516row3_col2\" class=\"data row3 col2\" >22</td>\n",
       "                        <td id=\"T_f735ec8a_685b_11ea_b411_b808cfcc3516row3_col3\" class=\"data row3 col3\" >21</td>\n",
       "                        <td id=\"T_f735ec8a_685b_11ea_b411_b808cfcc3516row3_col4\" class=\"data row3 col4\" >1</td>\n",
       "                        <td id=\"T_f735ec8a_685b_11ea_b411_b808cfcc3516row3_col5\" class=\"data row3 col5\" >0</td>\n",
       "                        <td id=\"T_f735ec8a_685b_11ea_b411_b808cfcc3516row3_col6\" class=\"data row3 col6\" >0</td>\n",
       "                        <td id=\"T_f735ec8a_685b_11ea_b411_b808cfcc3516row3_col7\" class=\"data row3 col7\" >0</td>\n",
       "                        <td id=\"T_f735ec8a_685b_11ea_b411_b808cfcc3516row3_col8\" class=\"data row3 col8\" >0</td>\n",
       "                        <td id=\"T_f735ec8a_685b_11ea_b411_b808cfcc3516row3_col9\" class=\"data row3 col9\" >0</td>\n",
       "                        <td id=\"T_f735ec8a_685b_11ea_b411_b808cfcc3516row3_col10\" class=\"data row3 col10\" >1</td>\n",
       "                        <td id=\"T_f735ec8a_685b_11ea_b411_b808cfcc3516row3_col11\" class=\"data row3 col11\" >0</td>\n",
       "                        <td id=\"T_f735ec8a_685b_11ea_b411_b808cfcc3516row3_col12\" class=\"data row3 col12\" >0</td>\n",
       "                        <td id=\"T_f735ec8a_685b_11ea_b411_b808cfcc3516row3_col13\" class=\"data row3 col13\" >0</td>\n",
       "                        <td id=\"T_f735ec8a_685b_11ea_b411_b808cfcc3516row3_col14\" class=\"data row3 col14\" >0</td>\n",
       "                        <td id=\"T_f735ec8a_685b_11ea_b411_b808cfcc3516row3_col15\" class=\"data row3 col15\" >0</td>\n",
       "                        <td id=\"T_f735ec8a_685b_11ea_b411_b808cfcc3516row3_col16\" class=\"data row3 col16\" >0</td>\n",
       "                        <td id=\"T_f735ec8a_685b_11ea_b411_b808cfcc3516row3_col17\" class=\"data row3 col17\" >0</td>\n",
       "                        <td id=\"T_f735ec8a_685b_11ea_b411_b808cfcc3516row3_col18\" class=\"data row3 col18\" >0</td>\n",
       "                        <td id=\"T_f735ec8a_685b_11ea_b411_b808cfcc3516row3_col19\" class=\"data row3 col19\" >0</td>\n",
       "                        <td id=\"T_f735ec8a_685b_11ea_b411_b808cfcc3516row3_col20\" class=\"data row3 col20\" >0</td>\n",
       "                        <td id=\"T_f735ec8a_685b_11ea_b411_b808cfcc3516row3_col21\" class=\"data row3 col21\" >0</td>\n",
       "                        <td id=\"T_f735ec8a_685b_11ea_b411_b808cfcc3516row3_col22\" class=\"data row3 col22\" >0</td>\n",
       "                        <td id=\"T_f735ec8a_685b_11ea_b411_b808cfcc3516row3_col23\" class=\"data row3 col23\" >0</td>\n",
       "            </tr>\n",
       "            <tr>\n",
       "                        <th id=\"T_f735ec8a_685b_11ea_b411_b808cfcc3516level0_row4\" class=\"row_heading level0 row4\" >4</th>\n",
       "                        <td id=\"T_f735ec8a_685b_11ea_b411_b808cfcc3516row4_col0\" class=\"data row4 col0\" >2020-01-24</td>\n",
       "                        <td id=\"T_f735ec8a_685b_11ea_b411_b808cfcc3516row4_col1\" class=\"data row4 col1\" >16</td>\n",
       "                        <td id=\"T_f735ec8a_685b_11ea_b411_b808cfcc3516row4_col2\" class=\"data row4 col2\" >27</td>\n",
       "                        <td id=\"T_f735ec8a_685b_11ea_b411_b808cfcc3516row4_col3\" class=\"data row4 col3\" >25</td>\n",
       "                        <td id=\"T_f735ec8a_685b_11ea_b411_b808cfcc3516row4_col4\" class=\"data row4 col4\" >2</td>\n",
       "                        <td id=\"T_f735ec8a_685b_11ea_b411_b808cfcc3516row4_col5\" class=\"data row4 col5\" >0</td>\n",
       "                        <td id=\"T_f735ec8a_685b_11ea_b411_b808cfcc3516row4_col6\" class=\"data row4 col6\" >0</td>\n",
       "                        <td id=\"T_f735ec8a_685b_11ea_b411_b808cfcc3516row4_col7\" class=\"data row4 col7\" >0</td>\n",
       "                        <td id=\"T_f735ec8a_685b_11ea_b411_b808cfcc3516row4_col8\" class=\"data row4 col8\" >0</td>\n",
       "                        <td id=\"T_f735ec8a_685b_11ea_b411_b808cfcc3516row4_col9\" class=\"data row4 col9\" >0</td>\n",
       "                        <td id=\"T_f735ec8a_685b_11ea_b411_b808cfcc3516row4_col10\" class=\"data row4 col10\" >1</td>\n",
       "                        <td id=\"T_f735ec8a_685b_11ea_b411_b808cfcc3516row4_col11\" class=\"data row4 col11\" >0</td>\n",
       "                        <td id=\"T_f735ec8a_685b_11ea_b411_b808cfcc3516row4_col12\" class=\"data row4 col12\" >0</td>\n",
       "                        <td id=\"T_f735ec8a_685b_11ea_b411_b808cfcc3516row4_col13\" class=\"data row4 col13\" >0</td>\n",
       "                        <td id=\"T_f735ec8a_685b_11ea_b411_b808cfcc3516row4_col14\" class=\"data row4 col14\" >0</td>\n",
       "                        <td id=\"T_f735ec8a_685b_11ea_b411_b808cfcc3516row4_col15\" class=\"data row4 col15\" >1</td>\n",
       "                        <td id=\"T_f735ec8a_685b_11ea_b411_b808cfcc3516row4_col16\" class=\"data row4 col16\" >0</td>\n",
       "                        <td id=\"T_f735ec8a_685b_11ea_b411_b808cfcc3516row4_col17\" class=\"data row4 col17\" >0</td>\n",
       "                        <td id=\"T_f735ec8a_685b_11ea_b411_b808cfcc3516row4_col18\" class=\"data row4 col18\" >0</td>\n",
       "                        <td id=\"T_f735ec8a_685b_11ea_b411_b808cfcc3516row4_col19\" class=\"data row4 col19\" >0</td>\n",
       "                        <td id=\"T_f735ec8a_685b_11ea_b411_b808cfcc3516row4_col20\" class=\"data row4 col20\" >0</td>\n",
       "                        <td id=\"T_f735ec8a_685b_11ea_b411_b808cfcc3516row4_col21\" class=\"data row4 col21\" >0</td>\n",
       "                        <td id=\"T_f735ec8a_685b_11ea_b411_b808cfcc3516row4_col22\" class=\"data row4 col22\" >0</td>\n",
       "                        <td id=\"T_f735ec8a_685b_11ea_b411_b808cfcc3516row4_col23\" class=\"data row4 col23\" >0</td>\n",
       "            </tr>\n",
       "    </tbody></table>   "
      ],
      "text/plain": [
       "<IPython.core.display.HTML object>"
      ]
     },
     "metadata": {},
     "output_type": "display_data"
    },
    {
     "data": {
      "text/html": [
       "<font color=coral>date</font> : Year-Month-Day <br>\n",
       "            <font color=coral>time</font> : Time (0 = AM 12:00 / 16 = PM 04:00) <br>\n",
       "            <font color=coral>test</font> : the accumulated number of tests (= negative + confirmed)<br>\n",
       "            <font color=coral>negative</font> : the accumulated number of negative results <br>\n",
       "            <font color=coral>confirmed</font> : the accumulated number of positive results <br>\n",
       "            <font color=coral>released</font> : the accumulated number of releases <br>\n",
       "            <font color=coral>deceased</font> : the accumulated number of deceases <br>\n",
       "            <font color=coral>Seoul</font> : the accumulated number of the confirmed in Seoul <br>\n",
       "            <font color=coral>Busan</font> : the accumulated number of the confirmed in Busan\n",
       "            "
      ],
      "text/plain": [
       "<IPython.core.display.HTML object>"
      ]
     },
     "metadata": {},
     "output_type": "display_data"
    },
    {
     "name": "stdout",
     "output_type": "stream",
     "text": [
      "---------------------------------------------------------------------------------------------------------\n"
     ]
    },
    {
     "data": {
      "text/html": [
       "<style  type=\"text/css\" >\n",
       "    #T_f7380e00_685b_11ea_b44c_b808cfcc3516 caption {\n",
       "          text-align: center;\n",
       "          font-size: 150%;\n",
       "          color: darkgreen;\n",
       "    }</style><table id=\"T_f7380e00_685b_11ea_b44c_b808cfcc3516\" style='display:inline'><caption>route</caption><thead>    <tr>        <th class=\"blank level0\" ></th>        <th class=\"col_heading level0 col0\" >patient_id</th>        <th class=\"col_heading level0 col1\" >date</th>        <th class=\"col_heading level0 col2\" >province</th>        <th class=\"col_heading level0 col3\" >city</th>        <th class=\"col_heading level0 col4\" >visit</th>        <th class=\"col_heading level0 col5\" >latitude</th>        <th class=\"col_heading level0 col6\" >longitude</th>    </tr></thead><tbody>\n",
       "                <tr>\n",
       "                        <th id=\"T_f7380e00_685b_11ea_b44c_b808cfcc3516level0_row0\" class=\"row_heading level0 row0\" >0</th>\n",
       "                        <td id=\"T_f7380e00_685b_11ea_b44c_b808cfcc3516row0_col0\" class=\"data row0 col0\" >1</td>\n",
       "                        <td id=\"T_f7380e00_685b_11ea_b44c_b808cfcc3516row0_col1\" class=\"data row0 col1\" >2020-01-19</td>\n",
       "                        <td id=\"T_f7380e00_685b_11ea_b44c_b808cfcc3516row0_col2\" class=\"data row0 col2\" >Incheon</td>\n",
       "                        <td id=\"T_f7380e00_685b_11ea_b44c_b808cfcc3516row0_col3\" class=\"data row0 col3\" >Jung-gu</td>\n",
       "                        <td id=\"T_f7380e00_685b_11ea_b44c_b808cfcc3516row0_col4\" class=\"data row0 col4\" >airport</td>\n",
       "                        <td id=\"T_f7380e00_685b_11ea_b44c_b808cfcc3516row0_col5\" class=\"data row0 col5\" >37.4605</td>\n",
       "                        <td id=\"T_f7380e00_685b_11ea_b44c_b808cfcc3516row0_col6\" class=\"data row0 col6\" >126.441</td>\n",
       "            </tr>\n",
       "            <tr>\n",
       "                        <th id=\"T_f7380e00_685b_11ea_b44c_b808cfcc3516level0_row1\" class=\"row_heading level0 row1\" >1</th>\n",
       "                        <td id=\"T_f7380e00_685b_11ea_b44c_b808cfcc3516row1_col0\" class=\"data row1 col0\" >1</td>\n",
       "                        <td id=\"T_f7380e00_685b_11ea_b44c_b808cfcc3516row1_col1\" class=\"data row1 col1\" >2020-01-20</td>\n",
       "                        <td id=\"T_f7380e00_685b_11ea_b44c_b808cfcc3516row1_col2\" class=\"data row1 col2\" >Incheon</td>\n",
       "                        <td id=\"T_f7380e00_685b_11ea_b44c_b808cfcc3516row1_col3\" class=\"data row1 col3\" >Seo-gu</td>\n",
       "                        <td id=\"T_f7380e00_685b_11ea_b44c_b808cfcc3516row1_col4\" class=\"data row1 col4\" >hospital_isolated</td>\n",
       "                        <td id=\"T_f7380e00_685b_11ea_b44c_b808cfcc3516row1_col5\" class=\"data row1 col5\" >37.4788</td>\n",
       "                        <td id=\"T_f7380e00_685b_11ea_b44c_b808cfcc3516row1_col6\" class=\"data row1 col6\" >126.669</td>\n",
       "            </tr>\n",
       "            <tr>\n",
       "                        <th id=\"T_f7380e00_685b_11ea_b44c_b808cfcc3516level0_row2\" class=\"row_heading level0 row2\" >2</th>\n",
       "                        <td id=\"T_f7380e00_685b_11ea_b44c_b808cfcc3516row2_col0\" class=\"data row2 col0\" >2</td>\n",
       "                        <td id=\"T_f7380e00_685b_11ea_b44c_b808cfcc3516row2_col1\" class=\"data row2 col1\" >2020-01-22</td>\n",
       "                        <td id=\"T_f7380e00_685b_11ea_b44c_b808cfcc3516row2_col2\" class=\"data row2 col2\" >Gyeonggi-do</td>\n",
       "                        <td id=\"T_f7380e00_685b_11ea_b44c_b808cfcc3516row2_col3\" class=\"data row2 col3\" >Gimpo-si</td>\n",
       "                        <td id=\"T_f7380e00_685b_11ea_b44c_b808cfcc3516row2_col4\" class=\"data row2 col4\" >airport</td>\n",
       "                        <td id=\"T_f7380e00_685b_11ea_b44c_b808cfcc3516row2_col5\" class=\"data row2 col5\" >37.5621</td>\n",
       "                        <td id=\"T_f7380e00_685b_11ea_b44c_b808cfcc3516row2_col6\" class=\"data row2 col6\" >126.802</td>\n",
       "            </tr>\n",
       "            <tr>\n",
       "                        <th id=\"T_f7380e00_685b_11ea_b44c_b808cfcc3516level0_row3\" class=\"row_heading level0 row3\" >3</th>\n",
       "                        <td id=\"T_f7380e00_685b_11ea_b44c_b808cfcc3516row3_col0\" class=\"data row3 col0\" >2</td>\n",
       "                        <td id=\"T_f7380e00_685b_11ea_b44c_b808cfcc3516row3_col1\" class=\"data row3 col1\" >2020-01-23</td>\n",
       "                        <td id=\"T_f7380e00_685b_11ea_b44c_b808cfcc3516row3_col2\" class=\"data row3 col2\" >Seoul</td>\n",
       "                        <td id=\"T_f7380e00_685b_11ea_b44c_b808cfcc3516row3_col3\" class=\"data row3 col3\" >Jung-gu</td>\n",
       "                        <td id=\"T_f7380e00_685b_11ea_b44c_b808cfcc3516row3_col4\" class=\"data row3 col4\" >hospital_isolated</td>\n",
       "                        <td id=\"T_f7380e00_685b_11ea_b44c_b808cfcc3516row3_col5\" class=\"data row3 col5\" >37.5675</td>\n",
       "                        <td id=\"T_f7380e00_685b_11ea_b44c_b808cfcc3516row3_col6\" class=\"data row3 col6\" >127.006</td>\n",
       "            </tr>\n",
       "            <tr>\n",
       "                        <th id=\"T_f7380e00_685b_11ea_b44c_b808cfcc3516level0_row4\" class=\"row_heading level0 row4\" >4</th>\n",
       "                        <td id=\"T_f7380e00_685b_11ea_b44c_b808cfcc3516row4_col0\" class=\"data row4 col0\" >3</td>\n",
       "                        <td id=\"T_f7380e00_685b_11ea_b44c_b808cfcc3516row4_col1\" class=\"data row4 col1\" >2020-01-20</td>\n",
       "                        <td id=\"T_f7380e00_685b_11ea_b44c_b808cfcc3516row4_col2\" class=\"data row4 col2\" >Incheon</td>\n",
       "                        <td id=\"T_f7380e00_685b_11ea_b44c_b808cfcc3516row4_col3\" class=\"data row4 col3\" >Jung-gu</td>\n",
       "                        <td id=\"T_f7380e00_685b_11ea_b44c_b808cfcc3516row4_col4\" class=\"data row4 col4\" >airport</td>\n",
       "                        <td id=\"T_f7380e00_685b_11ea_b44c_b808cfcc3516row4_col5\" class=\"data row4 col5\" >37.4605</td>\n",
       "                        <td id=\"T_f7380e00_685b_11ea_b44c_b808cfcc3516row4_col6\" class=\"data row4 col6\" >126.441</td>\n",
       "            </tr>\n",
       "    </tbody></table>   "
      ],
      "text/plain": [
       "<IPython.core.display.HTML object>"
      ]
     },
     "metadata": {},
     "output_type": "display_data"
    },
    {
     "data": {
      "text/html": [
       "<font color=coral>patient_id</font> : the ID of the patient (n-th confirmed patient) <br>\n",
       "            <font color=coral>date</font> : Year-Month-Day <br>\n",
       "            <font color=coral>province</font> : Special City / Metropolitan City / Province(-do) <br>\n",
       "            <font color=coral>city</font> : City(-si) / Country (-gun) / District (-gu) <br>\n",
       "            <font color=coral>visit</font> : the type of place visited <br>\n",
       "            <font color=coral>latitude</font> : the latitude of the visit (WGS84) <br>\n",
       "            <font color=coral>longitude</font> : the longitude of the visit (WGS84)\n",
       "            "
      ],
      "text/plain": [
       "<IPython.core.display.HTML object>"
      ]
     },
     "metadata": {},
     "output_type": "display_data"
    },
    {
     "name": "stdout",
     "output_type": "stream",
     "text": [
      "---------------------------------------------------------------------------------------------------------\n"
     ]
    },
    {
     "data": {
      "text/html": [
       "<style  type=\"text/css\" >\n",
       "    #T_f7396ca4_685b_11ea_bd55_b808cfcc3516 caption {\n",
       "          text-align: center;\n",
       "          font-size: 150%;\n",
       "          color: darkgreen;\n",
       "    }</style><table id=\"T_f7396ca4_685b_11ea_bd55_b808cfcc3516\" style='display:inline'><caption>case</caption><thead>    <tr>        <th class=\"blank level0\" ></th>        <th class=\"col_heading level0 col0\" >case_id</th>        <th class=\"col_heading level0 col1\" >province</th>        <th class=\"col_heading level0 col2\" >city</th>        <th class=\"col_heading level0 col3\" >group</th>        <th class=\"col_heading level0 col4\" >infection_case</th>        <th class=\"col_heading level0 col5\" >confirmed</th>        <th class=\"col_heading level0 col6\" >latitude</th>        <th class=\"col_heading level0 col7\" >longitude</th>    </tr></thead><tbody>\n",
       "                <tr>\n",
       "                        <th id=\"T_f7396ca4_685b_11ea_bd55_b808cfcc3516level0_row0\" class=\"row_heading level0 row0\" >0</th>\n",
       "                        <td id=\"T_f7396ca4_685b_11ea_bd55_b808cfcc3516row0_col0\" class=\"data row0 col0\" >1</td>\n",
       "                        <td id=\"T_f7396ca4_685b_11ea_bd55_b808cfcc3516row0_col1\" class=\"data row0 col1\" >Seoul</td>\n",
       "                        <td id=\"T_f7396ca4_685b_11ea_bd55_b808cfcc3516row0_col2\" class=\"data row0 col2\" >Guro-gu</td>\n",
       "                        <td id=\"T_f7396ca4_685b_11ea_bd55_b808cfcc3516row0_col3\" class=\"data row0 col3\" >True</td>\n",
       "                        <td id=\"T_f7396ca4_685b_11ea_bd55_b808cfcc3516row0_col4\" class=\"data row0 col4\" >Guro-gu Call Center</td>\n",
       "                        <td id=\"T_f7396ca4_685b_11ea_bd55_b808cfcc3516row0_col5\" class=\"data row0 col5\" >70</td>\n",
       "                        <td id=\"T_f7396ca4_685b_11ea_bd55_b808cfcc3516row0_col6\" class=\"data row0 col6\" >37.508163</td>\n",
       "                        <td id=\"T_f7396ca4_685b_11ea_bd55_b808cfcc3516row0_col7\" class=\"data row0 col7\" >126.884387</td>\n",
       "            </tr>\n",
       "            <tr>\n",
       "                        <th id=\"T_f7396ca4_685b_11ea_bd55_b808cfcc3516level0_row1\" class=\"row_heading level0 row1\" >1</th>\n",
       "                        <td id=\"T_f7396ca4_685b_11ea_bd55_b808cfcc3516row1_col0\" class=\"data row1 col0\" >2</td>\n",
       "                        <td id=\"T_f7396ca4_685b_11ea_bd55_b808cfcc3516row1_col1\" class=\"data row1 col1\" >Seoul</td>\n",
       "                        <td id=\"T_f7396ca4_685b_11ea_bd55_b808cfcc3516row1_col2\" class=\"data row1 col2\" >Eunpyeong-gu</td>\n",
       "                        <td id=\"T_f7396ca4_685b_11ea_bd55_b808cfcc3516row1_col3\" class=\"data row1 col3\" >True</td>\n",
       "                        <td id=\"T_f7396ca4_685b_11ea_bd55_b808cfcc3516row1_col4\" class=\"data row1 col4\" >Eunpyeong St. Mary's Hospital</td>\n",
       "                        <td id=\"T_f7396ca4_685b_11ea_bd55_b808cfcc3516row1_col5\" class=\"data row1 col5\" >14</td>\n",
       "                        <td id=\"T_f7396ca4_685b_11ea_bd55_b808cfcc3516row1_col6\" class=\"data row1 col6\" >37.63369</td>\n",
       "                        <td id=\"T_f7396ca4_685b_11ea_bd55_b808cfcc3516row1_col7\" class=\"data row1 col7\" >126.9165</td>\n",
       "            </tr>\n",
       "            <tr>\n",
       "                        <th id=\"T_f7396ca4_685b_11ea_bd55_b808cfcc3516level0_row2\" class=\"row_heading level0 row2\" >2</th>\n",
       "                        <td id=\"T_f7396ca4_685b_11ea_bd55_b808cfcc3516row2_col0\" class=\"data row2 col0\" >3</td>\n",
       "                        <td id=\"T_f7396ca4_685b_11ea_bd55_b808cfcc3516row2_col1\" class=\"data row2 col1\" >Seoul</td>\n",
       "                        <td id=\"T_f7396ca4_685b_11ea_bd55_b808cfcc3516row2_col2\" class=\"data row2 col2\" >Seongdong-gu</td>\n",
       "                        <td id=\"T_f7396ca4_685b_11ea_bd55_b808cfcc3516row2_col3\" class=\"data row2 col3\" >True</td>\n",
       "                        <td id=\"T_f7396ca4_685b_11ea_bd55_b808cfcc3516row2_col4\" class=\"data row2 col4\" >Seongdong-gu APT</td>\n",
       "                        <td id=\"T_f7396ca4_685b_11ea_bd55_b808cfcc3516row2_col5\" class=\"data row2 col5\" >13</td>\n",
       "                        <td id=\"T_f7396ca4_685b_11ea_bd55_b808cfcc3516row2_col6\" class=\"data row2 col6\" >37.55713</td>\n",
       "                        <td id=\"T_f7396ca4_685b_11ea_bd55_b808cfcc3516row2_col7\" class=\"data row2 col7\" >127.0403</td>\n",
       "            </tr>\n",
       "            <tr>\n",
       "                        <th id=\"T_f7396ca4_685b_11ea_bd55_b808cfcc3516level0_row3\" class=\"row_heading level0 row3\" >3</th>\n",
       "                        <td id=\"T_f7396ca4_685b_11ea_bd55_b808cfcc3516row3_col0\" class=\"data row3 col0\" >4</td>\n",
       "                        <td id=\"T_f7396ca4_685b_11ea_bd55_b808cfcc3516row3_col1\" class=\"data row3 col1\" >Seoul</td>\n",
       "                        <td id=\"T_f7396ca4_685b_11ea_bd55_b808cfcc3516row3_col2\" class=\"data row3 col2\" >Jongno-gu</td>\n",
       "                        <td id=\"T_f7396ca4_685b_11ea_bd55_b808cfcc3516row3_col3\" class=\"data row3 col3\" >True</td>\n",
       "                        <td id=\"T_f7396ca4_685b_11ea_bd55_b808cfcc3516row3_col4\" class=\"data row3 col4\" >Jongno Community Center</td>\n",
       "                        <td id=\"T_f7396ca4_685b_11ea_bd55_b808cfcc3516row3_col5\" class=\"data row3 col5\" >10</td>\n",
       "                        <td id=\"T_f7396ca4_685b_11ea_bd55_b808cfcc3516row3_col6\" class=\"data row3 col6\" >37.57681</td>\n",
       "                        <td id=\"T_f7396ca4_685b_11ea_bd55_b808cfcc3516row3_col7\" class=\"data row3 col7\" >127.006</td>\n",
       "            </tr>\n",
       "            <tr>\n",
       "                        <th id=\"T_f7396ca4_685b_11ea_bd55_b808cfcc3516level0_row4\" class=\"row_heading level0 row4\" >4</th>\n",
       "                        <td id=\"T_f7396ca4_685b_11ea_bd55_b808cfcc3516row4_col0\" class=\"data row4 col0\" >5</td>\n",
       "                        <td id=\"T_f7396ca4_685b_11ea_bd55_b808cfcc3516row4_col1\" class=\"data row4 col1\" >Seoul</td>\n",
       "                        <td id=\"T_f7396ca4_685b_11ea_bd55_b808cfcc3516row4_col2\" class=\"data row4 col2\" >Dongdaemun-gu</td>\n",
       "                        <td id=\"T_f7396ca4_685b_11ea_bd55_b808cfcc3516row4_col3\" class=\"data row4 col3\" >True</td>\n",
       "                        <td id=\"T_f7396ca4_685b_11ea_bd55_b808cfcc3516row4_col4\" class=\"data row4 col4\" >Dongan Church</td>\n",
       "                        <td id=\"T_f7396ca4_685b_11ea_bd55_b808cfcc3516row4_col5\" class=\"data row4 col5\" >9</td>\n",
       "                        <td id=\"T_f7396ca4_685b_11ea_bd55_b808cfcc3516row4_col6\" class=\"data row4 col6\" >37.592888</td>\n",
       "                        <td id=\"T_f7396ca4_685b_11ea_bd55_b808cfcc3516row4_col7\" class=\"data row4 col7\" >127.056766</td>\n",
       "            </tr>\n",
       "    </tbody></table>   "
      ],
      "text/plain": [
       "<IPython.core.display.HTML object>"
      ]
     },
     "metadata": {},
     "output_type": "display_data"
    },
    {
     "data": {
      "text/html": [
       "<font color=coral>case_id</font> : the ID of the infection case <br>\n",
       "            <font color=coral>province</font> : Special City / Metropolitan City / Province(-do) <br>\n",
       "            <font color=coral>city</font> : City(-si) / Country (-gun) / District (-gu) <br>\n",
       "            <font color=coral>group</font> : TRUE: group infection / FALSE: not group <br>\n",
       "            <font color=coral>infection_case</font> : the infection case (the name of group or other cases) <br>\n",
       "            <font color=coral>confirmed</font> : the accumulated number of the confirmed <br>\n",
       "            <font color=coral>latitude</font> : the latitude of the group (WGS84) <br>\n",
       "            <font color=coral>longitude</font> : the longitude of the group (WGS84)\n",
       "            "
      ],
      "text/plain": [
       "<IPython.core.display.HTML object>"
      ]
     },
     "metadata": {},
     "output_type": "display_data"
    }
   ],
   "source": [
    "styles = [dict(selector=\"caption\", \n",
    "    props=[(\"text-align\", \"center\"),\n",
    "    (\"font-size\", \"150%\"),\n",
    "    (\"color\", 'darkgreen')])]\n",
    "\n",
    "output = ''\n",
    "output += trend.head(3).style.set_table_attributes(\"style='display:inline'\").set_caption(f\"trend {trend.shape}\").set_table_styles(styles)._repr_html_()\n",
    "output += \"\\xa0\\xa0\\xa0\"\n",
    "display(HTML(output))\n",
    "display(HTML(\"\"\"<font color=coral>date</font> : Year-Month-Day <br>\n",
    "            <font color=coral>cold</font> : the search volume of \"cold\" in Korean <br>\n",
    "            <font color=coral>flu</font> : the search volume of 'flu' in Korean <br>\n",
    "            <font color=coral>pneumonia</font> : the search volume of 'pneumonia' in Korean <br>\n",
    "            <font color=coral>coronavirus</font> : the search volume of 'coronavirus' in Korean            \n",
    "            \"\"\"))\n",
    "print(\"---------------------------------------------------------------------------------------------------------\")\n",
    "output = ''\n",
    "output += patient.head(15).style.set_table_attributes(\"style='display:inline'\").set_caption(\"patient\").set_table_styles(styles)._repr_html_()\n",
    "output += \"\\xa0\\xa0\\xa0\"\n",
    "display(HTML(output))\n",
    "display(HTML(\"\"\"<font color=coral>patient_id</font> : the ID of the patient (n-th confirmed patient) <br>\n",
    "            <font color=coral>sex</font> : the sex of the patient <br>\n",
    "            <font color=coral>birth_year</font> : the birth year of the patient <br>\n",
    "            <font color=coral>country</font> : the country of the patient <br>\n",
    "            <font color=coral>region</font> : the region of the patient <br>\n",
    "            <font color=coral>disease</font> : 0: no disease / 1: underlying disease <br>\n",
    "            <font color=coral>group</font> : the collective infection <br>\n",
    "            <font color=coral>infection_reason</font> : the reason of infection <br>\n",
    "            <font color=coral>infection_order</font> : the order of infection <br>\n",
    "            <font color=coral>infected_by</font> : the ID of who has infected the patient <br>\n",
    "            <font color=coral>contact_number</font> : the number of contacts with people <br>\n",
    "            <font color=coral>confirmed_date</font> : the date of confirmation <br>\n",
    "            <font color=coral>released_date</font> : the date of discharge <br>\n",
    "            <font color=coral>deceased_date</font> : the date of decease <br>\n",
    "            <font color=coral>state</font> : isolated / released / deceased\n",
    "            \"\"\"))\n",
    "print(\"---------------------------------------------------------------------------------------------------------\")\n",
    "output = ''\n",
    "output += time.head(5).style.set_table_attributes(\"style='display:inline'\").set_caption(\"time\").set_table_styles(styles)._repr_html_()\n",
    "output += \"\\xa0\\xa0\\xa0\"\n",
    "display(HTML(output))\n",
    "display(HTML(\"\"\"<font color=coral>date</font> : Year-Month-Day <br>\n",
    "            <font color=coral>time</font> : Time (0 = AM 12:00 / 16 = PM 04:00) <br>\n",
    "            <font color=coral>test</font> : the accumulated number of tests (= negative + confirmed)<br>\n",
    "            <font color=coral>negative</font> : the accumulated number of negative results <br>\n",
    "            <font color=coral>confirmed</font> : the accumulated number of positive results <br>\n",
    "            <font color=coral>released</font> : the accumulated number of releases <br>\n",
    "            <font color=coral>deceased</font> : the accumulated number of deceases <br>\n",
    "            <font color=coral>Seoul</font> : the accumulated number of the confirmed in Seoul <br>\n",
    "            <font color=coral>Busan</font> : the accumulated number of the confirmed in Busan\n",
    "            \"\"\"))\n",
    "print(\"---------------------------------------------------------------------------------------------------------\")\n",
    "output = ''\n",
    "output += route.head().style.set_table_attributes(\"style='display:inline'\").set_caption(\"route\").set_table_styles(styles)._repr_html_()\n",
    "output += \"\\xa0\\xa0\\xa0\"\n",
    "display(HTML(output))\n",
    "display(HTML(\"\"\"<font color=coral>patient_id</font> : the ID of the patient (n-th confirmed patient) <br>\n",
    "            <font color=coral>date</font> : Year-Month-Day <br>\n",
    "            <font color=coral>province</font> : Special City / Metropolitan City / Province(-do) <br>\n",
    "            <font color=coral>city</font> : City(-si) / Country (-gun) / District (-gu) <br>\n",
    "            <font color=coral>visit</font> : the type of place visited <br>\n",
    "            <font color=coral>latitude</font> : the latitude of the visit (WGS84) <br>\n",
    "            <font color=coral>longitude</font> : the longitude of the visit (WGS84)\n",
    "            \"\"\"))\n",
    "print(\"---------------------------------------------------------------------------------------------------------\")\n",
    "output = ''\n",
    "output += case.head(5).style.set_table_attributes(\"style='display:inline'\").set_caption(\"case\").set_table_styles(styles)._repr_html_()\n",
    "output += \"\\xa0\\xa0\\xa0\"\n",
    "display(HTML(output))\n",
    "display(HTML(\"\"\"<font color=coral>case_id</font> : the ID of the infection case <br>\n",
    "            <font color=coral>province</font> : Special City / Metropolitan City / Province(-do) <br>\n",
    "            <font color=coral>city</font> : City(-si) / Country (-gun) / District (-gu) <br>\n",
    "            <font color=coral>group</font> : TRUE: group infection / FALSE: not group <br>\n",
    "            <font color=coral>infection_case</font> : the infection case (the name of group or other cases) <br>\n",
    "            <font color=coral>confirmed</font> : the accumulated number of the confirmed <br>\n",
    "            <font color=coral>latitude</font> : the latitude of the group (WGS84) <br>\n",
    "            <font color=coral>longitude</font> : the longitude of the group (WGS84)\n",
    "            \"\"\"))"
   ]
  },
  {
   "cell_type": "markdown",
   "metadata": {},
   "source": [
    "## 2. 결측치 확인"
   ]
  },
  {
   "cell_type": "code",
   "execution_count": 59,
   "metadata": {
    "ExecuteTime": {
     "end_time": "2020-03-17T14:33:12.916553Z",
     "start_time": "2020-03-17T14:33:12.908576Z"
    }
   },
   "outputs": [],
   "source": [
    "# 이 셀은 단순 함수 정의입니다.\n",
    "styles = [dict(selector=\"caption\", \n",
    "    props=[(\"text-align\", \"center\"),\n",
    "    (\"font-size\", \"120%\"),\n",
    "    (\"color\", 'red')])]\n",
    "\n",
    "\n",
    "def display_side_by_side(dfs:list, captions:list):\n",
    "    \"\"\"Display tables side by side to save vertical space\n",
    "    Input:\n",
    "        dfs: list of pandas.DataFrame\n",
    "        captions: list of table captions\n",
    "    \"\"\"\n",
    "    output = \"\"\n",
    "    combined = dict(zip(captions, dfs))\n",
    "    for caption, df in combined.items():\n",
    "        output += df.style.set_table_attributes(\"style='display:inline'\").background_gradient(cmap='summer').set_caption(caption).set_table_styles(styles)._repr_html_()\n",
    "        output += \"\\xa0\\xa0\\xa0\"\n",
    "    display(HTML(output))\n",
    "    \n",
    "def display_side_by_side2(dfs:list, captions:list):\n",
    "    \"\"\"Display tables side by side to save vertical space\n",
    "    Input:\n",
    "        dfs: list of pandas.DataFrame\n",
    "        captions: list of table captions\n",
    "    \"\"\"\n",
    "    output = \"\"\n",
    "    combined = dict(zip(captions, dfs))\n",
    "    for caption, df in combined.items():\n",
    "        output += df.style.set_table_attributes(\"style='display:inline'\").set_caption(caption).set_table_styles(styles)._repr_html_()\n",
    "        output += \"\\xa0\\xa0\\xa0\"\n",
    "    display(HTML(output))"
   ]
  },
  {
   "cell_type": "code",
   "execution_count": 60,
   "metadata": {
    "ExecuteTime": {
     "end_time": "2020-03-17T14:33:14.867335Z",
     "start_time": "2020-03-17T14:33:14.790543Z"
    }
   },
   "outputs": [
    {
     "data": {
      "text/html": [
       "<style  type=\"text/css\" >\n",
       "    #T_3c6a5cc0_685c_11ea_b99e_b808cfcc3516 caption {\n",
       "          text-align: center;\n",
       "          font-size: 120%;\n",
       "          color: red;\n",
       "    }    #T_3c6a5cc0_685c_11ea_b99e_b808cfcc3516row0_col0 {\n",
       "            background-color:  #008066;\n",
       "            color:  #f1f1f1;\n",
       "        }    #T_3c6a5cc0_685c_11ea_b99e_b808cfcc3516row1_col0 {\n",
       "            background-color:  #008066;\n",
       "            color:  #f1f1f1;\n",
       "        }    #T_3c6a5cc0_685c_11ea_b99e_b808cfcc3516row2_col0 {\n",
       "            background-color:  #008066;\n",
       "            color:  #f1f1f1;\n",
       "        }    #T_3c6a5cc0_685c_11ea_b99e_b808cfcc3516row3_col0 {\n",
       "            background-color:  #008066;\n",
       "            color:  #f1f1f1;\n",
       "        }    #T_3c6a5cc0_685c_11ea_b99e_b808cfcc3516row4_col0 {\n",
       "            background-color:  #008066;\n",
       "            color:  #f1f1f1;\n",
       "        }</style><table id=\"T_3c6a5cc0_685c_11ea_b99e_b808cfcc3516\" style='display:inline'><caption>trend_null</caption><thead>    <tr>        <th class=\"blank level0\" ></th>        <th class=\"col_heading level0 col0\" >nulls</th>    </tr></thead><tbody>\n",
       "                <tr>\n",
       "                        <th id=\"T_3c6a5cc0_685c_11ea_b99e_b808cfcc3516level0_row0\" class=\"row_heading level0 row0\" >date</th>\n",
       "                        <td id=\"T_3c6a5cc0_685c_11ea_b99e_b808cfcc3516row0_col0\" class=\"data row0 col0\" >0</td>\n",
       "            </tr>\n",
       "            <tr>\n",
       "                        <th id=\"T_3c6a5cc0_685c_11ea_b99e_b808cfcc3516level0_row1\" class=\"row_heading level0 row1\" >cold</th>\n",
       "                        <td id=\"T_3c6a5cc0_685c_11ea_b99e_b808cfcc3516row1_col0\" class=\"data row1 col0\" >0</td>\n",
       "            </tr>\n",
       "            <tr>\n",
       "                        <th id=\"T_3c6a5cc0_685c_11ea_b99e_b808cfcc3516level0_row2\" class=\"row_heading level0 row2\" >flu</th>\n",
       "                        <td id=\"T_3c6a5cc0_685c_11ea_b99e_b808cfcc3516row2_col0\" class=\"data row2 col0\" >0</td>\n",
       "            </tr>\n",
       "            <tr>\n",
       "                        <th id=\"T_3c6a5cc0_685c_11ea_b99e_b808cfcc3516level0_row3\" class=\"row_heading level0 row3\" >pneumonia</th>\n",
       "                        <td id=\"T_3c6a5cc0_685c_11ea_b99e_b808cfcc3516row3_col0\" class=\"data row3 col0\" >0</td>\n",
       "            </tr>\n",
       "            <tr>\n",
       "                        <th id=\"T_3c6a5cc0_685c_11ea_b99e_b808cfcc3516level0_row4\" class=\"row_heading level0 row4\" >coronavirus</th>\n",
       "                        <td id=\"T_3c6a5cc0_685c_11ea_b99e_b808cfcc3516row4_col0\" class=\"data row4 col0\" >0</td>\n",
       "            </tr>\n",
       "    </tbody></table>   <style  type=\"text/css\" >\n",
       "    #T_3c6be24a_685c_11ea_bb2e_b808cfcc3516 caption {\n",
       "          text-align: center;\n",
       "          font-size: 120%;\n",
       "          color: red;\n",
       "    }    #T_3c6be24a_685c_11ea_bb2e_b808cfcc3516row0_col0 {\n",
       "            background-color:  #008066;\n",
       "            color:  #f1f1f1;\n",
       "        }    #T_3c6be24a_685c_11ea_bb2e_b808cfcc3516row1_col0 {\n",
       "            background-color:  #eaf466;\n",
       "            color:  #000000;\n",
       "        }    #T_3c6be24a_685c_11ea_bb2e_b808cfcc3516row2_col0 {\n",
       "            background-color:  #ebf566;\n",
       "            color:  #000000;\n",
       "        }    #T_3c6be24a_685c_11ea_bb2e_b808cfcc3516row3_col0 {\n",
       "            background-color:  #008066;\n",
       "            color:  #f1f1f1;\n",
       "        }    #T_3c6be24a_685c_11ea_bb2e_b808cfcc3516row4_col0 {\n",
       "            background-color:  #f2f866;\n",
       "            color:  #000000;\n",
       "        }    #T_3c6be24a_685c_11ea_bb2e_b808cfcc3516row5_col0 {\n",
       "            background-color:  #ffff66;\n",
       "            color:  #000000;\n",
       "        }    #T_3c6be24a_685c_11ea_bb2e_b808cfcc3516row6_col0 {\n",
       "            background-color:  #fefe66;\n",
       "            color:  #000000;\n",
       "        }    #T_3c6be24a_685c_11ea_bb2e_b808cfcc3516row7_col0 {\n",
       "            background-color:  #fbfd66;\n",
       "            color:  #000000;\n",
       "        }    #T_3c6be24a_685c_11ea_bb2e_b808cfcc3516row8_col0 {\n",
       "            background-color:  #ffff66;\n",
       "            color:  #000000;\n",
       "        }    #T_3c6be24a_685c_11ea_bb2e_b808cfcc3516row9_col0 {\n",
       "            background-color:  #fefe66;\n",
       "            color:  #000000;\n",
       "        }    #T_3c6be24a_685c_11ea_bb2e_b808cfcc3516row10_col0 {\n",
       "            background-color:  #ffff66;\n",
       "            color:  #000000;\n",
       "        }    #T_3c6be24a_685c_11ea_bb2e_b808cfcc3516row11_col0 {\n",
       "            background-color:  #008066;\n",
       "            color:  #f1f1f1;\n",
       "        }    #T_3c6be24a_685c_11ea_bb2e_b808cfcc3516row12_col0 {\n",
       "            background-color:  #ffff66;\n",
       "            color:  #000000;\n",
       "        }    #T_3c6be24a_685c_11ea_bb2e_b808cfcc3516row13_col0 {\n",
       "            background-color:  #ffff66;\n",
       "            color:  #000000;\n",
       "        }    #T_3c6be24a_685c_11ea_bb2e_b808cfcc3516row14_col0 {\n",
       "            background-color:  #008066;\n",
       "            color:  #f1f1f1;\n",
       "        }</style><table id=\"T_3c6be24a_685c_11ea_bb2e_b808cfcc3516\" style='display:inline'><caption>patient_null</caption><thead>    <tr>        <th class=\"blank level0\" ></th>        <th class=\"col_heading level0 col0\" >nulls</th>    </tr></thead><tbody>\n",
       "                <tr>\n",
       "                        <th id=\"T_3c6be24a_685c_11ea_bb2e_b808cfcc3516level0_row0\" class=\"row_heading level0 row0\" >patient_id</th>\n",
       "                        <td id=\"T_3c6be24a_685c_11ea_bb2e_b808cfcc3516row0_col0\" class=\"data row0 col0\" >0</td>\n",
       "            </tr>\n",
       "            <tr>\n",
       "                        <th id=\"T_3c6be24a_685c_11ea_bb2e_b808cfcc3516level0_row1\" class=\"row_heading level0 row1\" >sex</th>\n",
       "                        <td id=\"T_3c6be24a_685c_11ea_bb2e_b808cfcc3516row1_col0\" class=\"data row1 col0\" >7190</td>\n",
       "            </tr>\n",
       "            <tr>\n",
       "                        <th id=\"T_3c6be24a_685c_11ea_bb2e_b808cfcc3516level0_row2\" class=\"row_heading level0 row2\" >birth_year</th>\n",
       "                        <td id=\"T_3c6be24a_685c_11ea_bb2e_b808cfcc3516row2_col0\" class=\"data row2 col0\" >7203</td>\n",
       "            </tr>\n",
       "            <tr>\n",
       "                        <th id=\"T_3c6be24a_685c_11ea_bb2e_b808cfcc3516level0_row3\" class=\"row_heading level0 row3\" >country</th>\n",
       "                        <td id=\"T_3c6be24a_685c_11ea_bb2e_b808cfcc3516row3_col0\" class=\"data row3 col0\" >0</td>\n",
       "            </tr>\n",
       "            <tr>\n",
       "                        <th id=\"T_3c6be24a_685c_11ea_bb2e_b808cfcc3516level0_row4\" class=\"row_heading level0 row4\" >region</th>\n",
       "                        <td id=\"T_3c6be24a_685c_11ea_bb2e_b808cfcc3516row4_col0\" class=\"data row4 col0\" >7432</td>\n",
       "            </tr>\n",
       "            <tr>\n",
       "                        <th id=\"T_3c6be24a_685c_11ea_bb2e_b808cfcc3516level0_row5\" class=\"row_heading level0 row5\" >disease</th>\n",
       "                        <td id=\"T_3c6be24a_685c_11ea_bb2e_b808cfcc3516row5_col0\" class=\"data row5 col0\" >7841</td>\n",
       "            </tr>\n",
       "            <tr>\n",
       "                        <th id=\"T_3c6be24a_685c_11ea_bb2e_b808cfcc3516level0_row6\" class=\"row_heading level0 row6\" >group</th>\n",
       "                        <td id=\"T_3c6be24a_685c_11ea_bb2e_b808cfcc3516row6_col0\" class=\"data row6 col0\" >7783</td>\n",
       "            </tr>\n",
       "            <tr>\n",
       "                        <th id=\"T_3c6be24a_685c_11ea_bb2e_b808cfcc3516level0_row7\" class=\"row_heading level0 row7\" >infection_reason</th>\n",
       "                        <td id=\"T_3c6be24a_685c_11ea_bb2e_b808cfcc3516row7_col0\" class=\"data row7 col0\" >7715</td>\n",
       "            </tr>\n",
       "            <tr>\n",
       "                        <th id=\"T_3c6be24a_685c_11ea_bb2e_b808cfcc3516level0_row8\" class=\"row_heading level0 row8\" >infection_order</th>\n",
       "                        <td id=\"T_3c6be24a_685c_11ea_bb2e_b808cfcc3516row8_col0\" class=\"data row8 col0\" >7833</td>\n",
       "            </tr>\n",
       "            <tr>\n",
       "                        <th id=\"T_3c6be24a_685c_11ea_bb2e_b808cfcc3516level0_row9\" class=\"row_heading level0 row9\" >infected_by</th>\n",
       "                        <td id=\"T_3c6be24a_685c_11ea_bb2e_b808cfcc3516row9_col0\" class=\"data row9 col0\" >7799</td>\n",
       "            </tr>\n",
       "            <tr>\n",
       "                        <th id=\"T_3c6be24a_685c_11ea_bb2e_b808cfcc3516level0_row10\" class=\"row_heading level0 row10\" >contact_number</th>\n",
       "                        <td id=\"T_3c6be24a_685c_11ea_bb2e_b808cfcc3516row10_col0\" class=\"data row10 col0\" >7816</td>\n",
       "            </tr>\n",
       "            <tr>\n",
       "                        <th id=\"T_3c6be24a_685c_11ea_bb2e_b808cfcc3516level0_row11\" class=\"row_heading level0 row11\" >confirmed_date</th>\n",
       "                        <td id=\"T_3c6be24a_685c_11ea_bb2e_b808cfcc3516row11_col0\" class=\"data row11 col0\" >0</td>\n",
       "            </tr>\n",
       "            <tr>\n",
       "                        <th id=\"T_3c6be24a_685c_11ea_bb2e_b808cfcc3516level0_row12\" class=\"row_heading level0 row12\" >released_date</th>\n",
       "                        <td id=\"T_3c6be24a_685c_11ea_bb2e_b808cfcc3516row12_col0\" class=\"data row12 col0\" >7813</td>\n",
       "            </tr>\n",
       "            <tr>\n",
       "                        <th id=\"T_3c6be24a_685c_11ea_bb2e_b808cfcc3516level0_row13\" class=\"row_heading level0 row13\" >deceased_date</th>\n",
       "                        <td id=\"T_3c6be24a_685c_11ea_bb2e_b808cfcc3516row13_col0\" class=\"data row13 col0\" >7833</td>\n",
       "            </tr>\n",
       "            <tr>\n",
       "                        <th id=\"T_3c6be24a_685c_11ea_bb2e_b808cfcc3516level0_row14\" class=\"row_heading level0 row14\" >state</th>\n",
       "                        <td id=\"T_3c6be24a_685c_11ea_bb2e_b808cfcc3516row14_col0\" class=\"data row14 col0\" >0</td>\n",
       "            </tr>\n",
       "    </tbody></table>   <style  type=\"text/css\" >\n",
       "    #T_3c6ddcc8_685c_11ea_9ffc_b808cfcc3516 caption {\n",
       "          text-align: center;\n",
       "          font-size: 120%;\n",
       "          color: red;\n",
       "    }    #T_3c6ddcc8_685c_11ea_9ffc_b808cfcc3516row0_col0 {\n",
       "            background-color:  #008066;\n",
       "            color:  #f1f1f1;\n",
       "        }    #T_3c6ddcc8_685c_11ea_9ffc_b808cfcc3516row1_col0 {\n",
       "            background-color:  #008066;\n",
       "            color:  #f1f1f1;\n",
       "        }    #T_3c6ddcc8_685c_11ea_9ffc_b808cfcc3516row2_col0 {\n",
       "            background-color:  #008066;\n",
       "            color:  #f1f1f1;\n",
       "        }    #T_3c6ddcc8_685c_11ea_9ffc_b808cfcc3516row3_col0 {\n",
       "            background-color:  #008066;\n",
       "            color:  #f1f1f1;\n",
       "        }    #T_3c6ddcc8_685c_11ea_9ffc_b808cfcc3516row4_col0 {\n",
       "            background-color:  #008066;\n",
       "            color:  #f1f1f1;\n",
       "        }    #T_3c6ddcc8_685c_11ea_9ffc_b808cfcc3516row5_col0 {\n",
       "            background-color:  #008066;\n",
       "            color:  #f1f1f1;\n",
       "        }    #T_3c6ddcc8_685c_11ea_9ffc_b808cfcc3516row6_col0 {\n",
       "            background-color:  #008066;\n",
       "            color:  #f1f1f1;\n",
       "        }    #T_3c6ddcc8_685c_11ea_9ffc_b808cfcc3516row7_col0 {\n",
       "            background-color:  #008066;\n",
       "            color:  #f1f1f1;\n",
       "        }    #T_3c6ddcc8_685c_11ea_9ffc_b808cfcc3516row8_col0 {\n",
       "            background-color:  #008066;\n",
       "            color:  #f1f1f1;\n",
       "        }    #T_3c6ddcc8_685c_11ea_9ffc_b808cfcc3516row9_col0 {\n",
       "            background-color:  #008066;\n",
       "            color:  #f1f1f1;\n",
       "        }    #T_3c6ddcc8_685c_11ea_9ffc_b808cfcc3516row10_col0 {\n",
       "            background-color:  #008066;\n",
       "            color:  #f1f1f1;\n",
       "        }    #T_3c6ddcc8_685c_11ea_9ffc_b808cfcc3516row11_col0 {\n",
       "            background-color:  #008066;\n",
       "            color:  #f1f1f1;\n",
       "        }    #T_3c6ddcc8_685c_11ea_9ffc_b808cfcc3516row12_col0 {\n",
       "            background-color:  #008066;\n",
       "            color:  #f1f1f1;\n",
       "        }    #T_3c6ddcc8_685c_11ea_9ffc_b808cfcc3516row13_col0 {\n",
       "            background-color:  #008066;\n",
       "            color:  #f1f1f1;\n",
       "        }    #T_3c6ddcc8_685c_11ea_9ffc_b808cfcc3516row14_col0 {\n",
       "            background-color:  #008066;\n",
       "            color:  #f1f1f1;\n",
       "        }    #T_3c6ddcc8_685c_11ea_9ffc_b808cfcc3516row15_col0 {\n",
       "            background-color:  #008066;\n",
       "            color:  #f1f1f1;\n",
       "        }    #T_3c6ddcc8_685c_11ea_9ffc_b808cfcc3516row16_col0 {\n",
       "            background-color:  #008066;\n",
       "            color:  #f1f1f1;\n",
       "        }    #T_3c6ddcc8_685c_11ea_9ffc_b808cfcc3516row17_col0 {\n",
       "            background-color:  #008066;\n",
       "            color:  #f1f1f1;\n",
       "        }    #T_3c6ddcc8_685c_11ea_9ffc_b808cfcc3516row18_col0 {\n",
       "            background-color:  #008066;\n",
       "            color:  #f1f1f1;\n",
       "        }    #T_3c6ddcc8_685c_11ea_9ffc_b808cfcc3516row19_col0 {\n",
       "            background-color:  #008066;\n",
       "            color:  #f1f1f1;\n",
       "        }    #T_3c6ddcc8_685c_11ea_9ffc_b808cfcc3516row20_col0 {\n",
       "            background-color:  #008066;\n",
       "            color:  #f1f1f1;\n",
       "        }    #T_3c6ddcc8_685c_11ea_9ffc_b808cfcc3516row21_col0 {\n",
       "            background-color:  #008066;\n",
       "            color:  #f1f1f1;\n",
       "        }    #T_3c6ddcc8_685c_11ea_9ffc_b808cfcc3516row22_col0 {\n",
       "            background-color:  #008066;\n",
       "            color:  #f1f1f1;\n",
       "        }    #T_3c6ddcc8_685c_11ea_9ffc_b808cfcc3516row23_col0 {\n",
       "            background-color:  #008066;\n",
       "            color:  #f1f1f1;\n",
       "        }</style><table id=\"T_3c6ddcc8_685c_11ea_9ffc_b808cfcc3516\" style='display:inline'><caption>time_null</caption><thead>    <tr>        <th class=\"blank level0\" ></th>        <th class=\"col_heading level0 col0\" >nulls</th>    </tr></thead><tbody>\n",
       "                <tr>\n",
       "                        <th id=\"T_3c6ddcc8_685c_11ea_9ffc_b808cfcc3516level0_row0\" class=\"row_heading level0 row0\" >date</th>\n",
       "                        <td id=\"T_3c6ddcc8_685c_11ea_9ffc_b808cfcc3516row0_col0\" class=\"data row0 col0\" >0</td>\n",
       "            </tr>\n",
       "            <tr>\n",
       "                        <th id=\"T_3c6ddcc8_685c_11ea_9ffc_b808cfcc3516level0_row1\" class=\"row_heading level0 row1\" >time</th>\n",
       "                        <td id=\"T_3c6ddcc8_685c_11ea_9ffc_b808cfcc3516row1_col0\" class=\"data row1 col0\" >0</td>\n",
       "            </tr>\n",
       "            <tr>\n",
       "                        <th id=\"T_3c6ddcc8_685c_11ea_9ffc_b808cfcc3516level0_row2\" class=\"row_heading level0 row2\" >test</th>\n",
       "                        <td id=\"T_3c6ddcc8_685c_11ea_9ffc_b808cfcc3516row2_col0\" class=\"data row2 col0\" >0</td>\n",
       "            </tr>\n",
       "            <tr>\n",
       "                        <th id=\"T_3c6ddcc8_685c_11ea_9ffc_b808cfcc3516level0_row3\" class=\"row_heading level0 row3\" >negative</th>\n",
       "                        <td id=\"T_3c6ddcc8_685c_11ea_9ffc_b808cfcc3516row3_col0\" class=\"data row3 col0\" >0</td>\n",
       "            </tr>\n",
       "            <tr>\n",
       "                        <th id=\"T_3c6ddcc8_685c_11ea_9ffc_b808cfcc3516level0_row4\" class=\"row_heading level0 row4\" >confirmed</th>\n",
       "                        <td id=\"T_3c6ddcc8_685c_11ea_9ffc_b808cfcc3516row4_col0\" class=\"data row4 col0\" >0</td>\n",
       "            </tr>\n",
       "            <tr>\n",
       "                        <th id=\"T_3c6ddcc8_685c_11ea_9ffc_b808cfcc3516level0_row5\" class=\"row_heading level0 row5\" >released</th>\n",
       "                        <td id=\"T_3c6ddcc8_685c_11ea_9ffc_b808cfcc3516row5_col0\" class=\"data row5 col0\" >0</td>\n",
       "            </tr>\n",
       "            <tr>\n",
       "                        <th id=\"T_3c6ddcc8_685c_11ea_9ffc_b808cfcc3516level0_row6\" class=\"row_heading level0 row6\" >deceased</th>\n",
       "                        <td id=\"T_3c6ddcc8_685c_11ea_9ffc_b808cfcc3516row6_col0\" class=\"data row6 col0\" >0</td>\n",
       "            </tr>\n",
       "            <tr>\n",
       "                        <th id=\"T_3c6ddcc8_685c_11ea_9ffc_b808cfcc3516level0_row7\" class=\"row_heading level0 row7\" >Seoul</th>\n",
       "                        <td id=\"T_3c6ddcc8_685c_11ea_9ffc_b808cfcc3516row7_col0\" class=\"data row7 col0\" >0</td>\n",
       "            </tr>\n",
       "            <tr>\n",
       "                        <th id=\"T_3c6ddcc8_685c_11ea_9ffc_b808cfcc3516level0_row8\" class=\"row_heading level0 row8\" >Busan</th>\n",
       "                        <td id=\"T_3c6ddcc8_685c_11ea_9ffc_b808cfcc3516row8_col0\" class=\"data row8 col0\" >0</td>\n",
       "            </tr>\n",
       "            <tr>\n",
       "                        <th id=\"T_3c6ddcc8_685c_11ea_9ffc_b808cfcc3516level0_row9\" class=\"row_heading level0 row9\" >Daegu</th>\n",
       "                        <td id=\"T_3c6ddcc8_685c_11ea_9ffc_b808cfcc3516row9_col0\" class=\"data row9 col0\" >0</td>\n",
       "            </tr>\n",
       "            <tr>\n",
       "                        <th id=\"T_3c6ddcc8_685c_11ea_9ffc_b808cfcc3516level0_row10\" class=\"row_heading level0 row10\" >Incheon</th>\n",
       "                        <td id=\"T_3c6ddcc8_685c_11ea_9ffc_b808cfcc3516row10_col0\" class=\"data row10 col0\" >0</td>\n",
       "            </tr>\n",
       "            <tr>\n",
       "                        <th id=\"T_3c6ddcc8_685c_11ea_9ffc_b808cfcc3516level0_row11\" class=\"row_heading level0 row11\" >Gwangju</th>\n",
       "                        <td id=\"T_3c6ddcc8_685c_11ea_9ffc_b808cfcc3516row11_col0\" class=\"data row11 col0\" >0</td>\n",
       "            </tr>\n",
       "            <tr>\n",
       "                        <th id=\"T_3c6ddcc8_685c_11ea_9ffc_b808cfcc3516level0_row12\" class=\"row_heading level0 row12\" >Daejeon</th>\n",
       "                        <td id=\"T_3c6ddcc8_685c_11ea_9ffc_b808cfcc3516row12_col0\" class=\"data row12 col0\" >0</td>\n",
       "            </tr>\n",
       "            <tr>\n",
       "                        <th id=\"T_3c6ddcc8_685c_11ea_9ffc_b808cfcc3516level0_row13\" class=\"row_heading level0 row13\" >Ulsan</th>\n",
       "                        <td id=\"T_3c6ddcc8_685c_11ea_9ffc_b808cfcc3516row13_col0\" class=\"data row13 col0\" >0</td>\n",
       "            </tr>\n",
       "            <tr>\n",
       "                        <th id=\"T_3c6ddcc8_685c_11ea_9ffc_b808cfcc3516level0_row14\" class=\"row_heading level0 row14\" >Sejong</th>\n",
       "                        <td id=\"T_3c6ddcc8_685c_11ea_9ffc_b808cfcc3516row14_col0\" class=\"data row14 col0\" >0</td>\n",
       "            </tr>\n",
       "            <tr>\n",
       "                        <th id=\"T_3c6ddcc8_685c_11ea_9ffc_b808cfcc3516level0_row15\" class=\"row_heading level0 row15\" >Gyeonggi-do</th>\n",
       "                        <td id=\"T_3c6ddcc8_685c_11ea_9ffc_b808cfcc3516row15_col0\" class=\"data row15 col0\" >0</td>\n",
       "            </tr>\n",
       "            <tr>\n",
       "                        <th id=\"T_3c6ddcc8_685c_11ea_9ffc_b808cfcc3516level0_row16\" class=\"row_heading level0 row16\" >Gangwon-do</th>\n",
       "                        <td id=\"T_3c6ddcc8_685c_11ea_9ffc_b808cfcc3516row16_col0\" class=\"data row16 col0\" >0</td>\n",
       "            </tr>\n",
       "            <tr>\n",
       "                        <th id=\"T_3c6ddcc8_685c_11ea_9ffc_b808cfcc3516level0_row17\" class=\"row_heading level0 row17\" >Chungcheongbuk-do</th>\n",
       "                        <td id=\"T_3c6ddcc8_685c_11ea_9ffc_b808cfcc3516row17_col0\" class=\"data row17 col0\" >0</td>\n",
       "            </tr>\n",
       "            <tr>\n",
       "                        <th id=\"T_3c6ddcc8_685c_11ea_9ffc_b808cfcc3516level0_row18\" class=\"row_heading level0 row18\" >Chungcheongnam-do</th>\n",
       "                        <td id=\"T_3c6ddcc8_685c_11ea_9ffc_b808cfcc3516row18_col0\" class=\"data row18 col0\" >0</td>\n",
       "            </tr>\n",
       "            <tr>\n",
       "                        <th id=\"T_3c6ddcc8_685c_11ea_9ffc_b808cfcc3516level0_row19\" class=\"row_heading level0 row19\" >Jeollabuk-do</th>\n",
       "                        <td id=\"T_3c6ddcc8_685c_11ea_9ffc_b808cfcc3516row19_col0\" class=\"data row19 col0\" >0</td>\n",
       "            </tr>\n",
       "            <tr>\n",
       "                        <th id=\"T_3c6ddcc8_685c_11ea_9ffc_b808cfcc3516level0_row20\" class=\"row_heading level0 row20\" >Jeollanam-do</th>\n",
       "                        <td id=\"T_3c6ddcc8_685c_11ea_9ffc_b808cfcc3516row20_col0\" class=\"data row20 col0\" >0</td>\n",
       "            </tr>\n",
       "            <tr>\n",
       "                        <th id=\"T_3c6ddcc8_685c_11ea_9ffc_b808cfcc3516level0_row21\" class=\"row_heading level0 row21\" >Gyeongsangbuk-do</th>\n",
       "                        <td id=\"T_3c6ddcc8_685c_11ea_9ffc_b808cfcc3516row21_col0\" class=\"data row21 col0\" >0</td>\n",
       "            </tr>\n",
       "            <tr>\n",
       "                        <th id=\"T_3c6ddcc8_685c_11ea_9ffc_b808cfcc3516level0_row22\" class=\"row_heading level0 row22\" >Gyeongsangnam-do</th>\n",
       "                        <td id=\"T_3c6ddcc8_685c_11ea_9ffc_b808cfcc3516row22_col0\" class=\"data row22 col0\" >0</td>\n",
       "            </tr>\n",
       "            <tr>\n",
       "                        <th id=\"T_3c6ddcc8_685c_11ea_9ffc_b808cfcc3516level0_row23\" class=\"row_heading level0 row23\" >Jeju-do</th>\n",
       "                        <td id=\"T_3c6ddcc8_685c_11ea_9ffc_b808cfcc3516row23_col0\" class=\"data row23 col0\" >0</td>\n",
       "            </tr>\n",
       "    </tbody></table>   <style  type=\"text/css\" >\n",
       "    #T_3c6f8958_685c_11ea_88f7_b808cfcc3516 caption {\n",
       "          text-align: center;\n",
       "          font-size: 120%;\n",
       "          color: red;\n",
       "    }    #T_3c6f8958_685c_11ea_88f7_b808cfcc3516row0_col0 {\n",
       "            background-color:  #008066;\n",
       "            color:  #f1f1f1;\n",
       "        }    #T_3c6f8958_685c_11ea_88f7_b808cfcc3516row1_col0 {\n",
       "            background-color:  #008066;\n",
       "            color:  #f1f1f1;\n",
       "        }    #T_3c6f8958_685c_11ea_88f7_b808cfcc3516row2_col0 {\n",
       "            background-color:  #008066;\n",
       "            color:  #f1f1f1;\n",
       "        }    #T_3c6f8958_685c_11ea_88f7_b808cfcc3516row3_col0 {\n",
       "            background-color:  #008066;\n",
       "            color:  #f1f1f1;\n",
       "        }    #T_3c6f8958_685c_11ea_88f7_b808cfcc3516row4_col0 {\n",
       "            background-color:  #008066;\n",
       "            color:  #f1f1f1;\n",
       "        }    #T_3c6f8958_685c_11ea_88f7_b808cfcc3516row5_col0 {\n",
       "            background-color:  #008066;\n",
       "            color:  #f1f1f1;\n",
       "        }    #T_3c6f8958_685c_11ea_88f7_b808cfcc3516row6_col0 {\n",
       "            background-color:  #008066;\n",
       "            color:  #f1f1f1;\n",
       "        }</style><table id=\"T_3c6f8958_685c_11ea_88f7_b808cfcc3516\" style='display:inline'><caption>route_null</caption><thead>    <tr>        <th class=\"blank level0\" ></th>        <th class=\"col_heading level0 col0\" >nulls</th>    </tr></thead><tbody>\n",
       "                <tr>\n",
       "                        <th id=\"T_3c6f8958_685c_11ea_88f7_b808cfcc3516level0_row0\" class=\"row_heading level0 row0\" >patient_id</th>\n",
       "                        <td id=\"T_3c6f8958_685c_11ea_88f7_b808cfcc3516row0_col0\" class=\"data row0 col0\" >0</td>\n",
       "            </tr>\n",
       "            <tr>\n",
       "                        <th id=\"T_3c6f8958_685c_11ea_88f7_b808cfcc3516level0_row1\" class=\"row_heading level0 row1\" >date</th>\n",
       "                        <td id=\"T_3c6f8958_685c_11ea_88f7_b808cfcc3516row1_col0\" class=\"data row1 col0\" >0</td>\n",
       "            </tr>\n",
       "            <tr>\n",
       "                        <th id=\"T_3c6f8958_685c_11ea_88f7_b808cfcc3516level0_row2\" class=\"row_heading level0 row2\" >province</th>\n",
       "                        <td id=\"T_3c6f8958_685c_11ea_88f7_b808cfcc3516row2_col0\" class=\"data row2 col0\" >0</td>\n",
       "            </tr>\n",
       "            <tr>\n",
       "                        <th id=\"T_3c6f8958_685c_11ea_88f7_b808cfcc3516level0_row3\" class=\"row_heading level0 row3\" >city</th>\n",
       "                        <td id=\"T_3c6f8958_685c_11ea_88f7_b808cfcc3516row3_col0\" class=\"data row3 col0\" >0</td>\n",
       "            </tr>\n",
       "            <tr>\n",
       "                        <th id=\"T_3c6f8958_685c_11ea_88f7_b808cfcc3516level0_row4\" class=\"row_heading level0 row4\" >visit</th>\n",
       "                        <td id=\"T_3c6f8958_685c_11ea_88f7_b808cfcc3516row4_col0\" class=\"data row4 col0\" >0</td>\n",
       "            </tr>\n",
       "            <tr>\n",
       "                        <th id=\"T_3c6f8958_685c_11ea_88f7_b808cfcc3516level0_row5\" class=\"row_heading level0 row5\" >latitude</th>\n",
       "                        <td id=\"T_3c6f8958_685c_11ea_88f7_b808cfcc3516row5_col0\" class=\"data row5 col0\" >0</td>\n",
       "            </tr>\n",
       "            <tr>\n",
       "                        <th id=\"T_3c6f8958_685c_11ea_88f7_b808cfcc3516level0_row6\" class=\"row_heading level0 row6\" >longitude</th>\n",
       "                        <td id=\"T_3c6f8958_685c_11ea_88f7_b808cfcc3516row6_col0\" class=\"data row6 col0\" >0</td>\n",
       "            </tr>\n",
       "    </tbody></table>   <style  type=\"text/css\" >\n",
       "    #T_3c71d1a4_685c_11ea_be0e_b808cfcc3516 caption {\n",
       "          text-align: center;\n",
       "          font-size: 120%;\n",
       "          color: red;\n",
       "    }    #T_3c71d1a4_685c_11ea_be0e_b808cfcc3516row0_col0 {\n",
       "            background-color:  #008066;\n",
       "            color:  #f1f1f1;\n",
       "        }    #T_3c71d1a4_685c_11ea_be0e_b808cfcc3516row1_col0 {\n",
       "            background-color:  #008066;\n",
       "            color:  #f1f1f1;\n",
       "        }    #T_3c71d1a4_685c_11ea_be0e_b808cfcc3516row2_col0 {\n",
       "            background-color:  #008066;\n",
       "            color:  #f1f1f1;\n",
       "        }    #T_3c71d1a4_685c_11ea_be0e_b808cfcc3516row3_col0 {\n",
       "            background-color:  #008066;\n",
       "            color:  #f1f1f1;\n",
       "        }    #T_3c71d1a4_685c_11ea_be0e_b808cfcc3516row4_col0 {\n",
       "            background-color:  #008066;\n",
       "            color:  #f1f1f1;\n",
       "        }    #T_3c71d1a4_685c_11ea_be0e_b808cfcc3516row5_col0 {\n",
       "            background-color:  #008066;\n",
       "            color:  #f1f1f1;\n",
       "        }    #T_3c71d1a4_685c_11ea_be0e_b808cfcc3516row6_col0 {\n",
       "            background-color:  #008066;\n",
       "            color:  #f1f1f1;\n",
       "        }    #T_3c71d1a4_685c_11ea_be0e_b808cfcc3516row7_col0 {\n",
       "            background-color:  #008066;\n",
       "            color:  #f1f1f1;\n",
       "        }</style><table id=\"T_3c71d1a4_685c_11ea_be0e_b808cfcc3516\" style='display:inline'><caption>case_null</caption><thead>    <tr>        <th class=\"blank level0\" ></th>        <th class=\"col_heading level0 col0\" >nulls</th>    </tr></thead><tbody>\n",
       "                <tr>\n",
       "                        <th id=\"T_3c71d1a4_685c_11ea_be0e_b808cfcc3516level0_row0\" class=\"row_heading level0 row0\" >case_id</th>\n",
       "                        <td id=\"T_3c71d1a4_685c_11ea_be0e_b808cfcc3516row0_col0\" class=\"data row0 col0\" >0</td>\n",
       "            </tr>\n",
       "            <tr>\n",
       "                        <th id=\"T_3c71d1a4_685c_11ea_be0e_b808cfcc3516level0_row1\" class=\"row_heading level0 row1\" >province</th>\n",
       "                        <td id=\"T_3c71d1a4_685c_11ea_be0e_b808cfcc3516row1_col0\" class=\"data row1 col0\" >0</td>\n",
       "            </tr>\n",
       "            <tr>\n",
       "                        <th id=\"T_3c71d1a4_685c_11ea_be0e_b808cfcc3516level0_row2\" class=\"row_heading level0 row2\" >city</th>\n",
       "                        <td id=\"T_3c71d1a4_685c_11ea_be0e_b808cfcc3516row2_col0\" class=\"data row2 col0\" >0</td>\n",
       "            </tr>\n",
       "            <tr>\n",
       "                        <th id=\"T_3c71d1a4_685c_11ea_be0e_b808cfcc3516level0_row3\" class=\"row_heading level0 row3\" >group</th>\n",
       "                        <td id=\"T_3c71d1a4_685c_11ea_be0e_b808cfcc3516row3_col0\" class=\"data row3 col0\" >0</td>\n",
       "            </tr>\n",
       "            <tr>\n",
       "                        <th id=\"T_3c71d1a4_685c_11ea_be0e_b808cfcc3516level0_row4\" class=\"row_heading level0 row4\" >infection_case</th>\n",
       "                        <td id=\"T_3c71d1a4_685c_11ea_be0e_b808cfcc3516row4_col0\" class=\"data row4 col0\" >0</td>\n",
       "            </tr>\n",
       "            <tr>\n",
       "                        <th id=\"T_3c71d1a4_685c_11ea_be0e_b808cfcc3516level0_row5\" class=\"row_heading level0 row5\" >confirmed</th>\n",
       "                        <td id=\"T_3c71d1a4_685c_11ea_be0e_b808cfcc3516row5_col0\" class=\"data row5 col0\" >0</td>\n",
       "            </tr>\n",
       "            <tr>\n",
       "                        <th id=\"T_3c71d1a4_685c_11ea_be0e_b808cfcc3516level0_row6\" class=\"row_heading level0 row6\" >latitude</th>\n",
       "                        <td id=\"T_3c71d1a4_685c_11ea_be0e_b808cfcc3516row6_col0\" class=\"data row6 col0\" >0</td>\n",
       "            </tr>\n",
       "            <tr>\n",
       "                        <th id=\"T_3c71d1a4_685c_11ea_be0e_b808cfcc3516level0_row7\" class=\"row_heading level0 row7\" >longitude</th>\n",
       "                        <td id=\"T_3c71d1a4_685c_11ea_be0e_b808cfcc3516row7_col0\" class=\"data row7 col0\" >0</td>\n",
       "            </tr>\n",
       "    </tbody></table>   "
      ],
      "text/plain": [
       "<IPython.core.display.HTML object>"
      ]
     },
     "metadata": {},
     "output_type": "display_data"
    }
   ],
   "source": [
    "# 각 데이터셋들의 결측치 확인\n",
    "trend_null = pd.DataFrame(trend.isnull().sum()).rename(columns={0:\"nulls\"}) #checking for total null values\n",
    "patient_null = pd.DataFrame(patient.isnull().sum()).rename(columns={0:\"nulls\"}) #checking for total null values\n",
    "time_null = pd.DataFrame(time.isnull().sum()).rename(columns={0:\"nulls\"}) #checking for total null values\n",
    "route_null = pd.DataFrame(route.isnull().sum()).rename(columns={0:\"nulls\"}) #checking for total null values\n",
    "case_null = pd.DataFrame(case.isnull().sum()).rename(columns={0:\"nulls\"}) #checking for total null values\n",
    "\n",
    "display_side_by_side([trend_null, patient_null, time_null, route_null, case_null], ['trend_null' , 'patient_null', 'time_null', 'route_null', 'case_null'])"
   ]
  },
  {
   "cell_type": "markdown",
   "metadata": {},
   "source": [
    "#### 확인 결과\n",
    "- 각 데이터셋의 결측치들을 분석한 결과, **paitent** 데이터셋에서의 결측치가 많았습니다.\n",
    "- route 데이터셋과 case 데이터셋에서 latitude(위도), longtitude(경도)과 같은 column들에서는 사실상 null값이라고 할 수 있는 '-'값이 많았는데 follium 모듈을 이용한 시각화를 하는 것에만 사용될 것 같아서 큰 의의를 두지 않지 않겠습니다.\n",
    "- 결측치 handling은 patient 데이터셋에서만 하면 된다는 결론을 얻었습니다."
   ]
  },
  {
   "cell_type": "markdown",
   "metadata": {},
   "source": [
    "## 3. Trend"
   ]
  },
  {
   "cell_type": "code",
   "execution_count": 63,
   "metadata": {
    "ExecuteTime": {
     "end_time": "2020-03-17T14:35:54.800559Z",
     "start_time": "2020-03-17T14:35:54.766652Z"
    },
    "scrolled": false
   },
   "outputs": [
    {
     "name": "stdout",
     "output_type": "stream",
     "text": [
      "date            object\n",
      "cold           float64\n",
      "flu            float64\n",
      "pneumonia      float64\n",
      "coronavirus    float64\n",
      "dtype: object\n",
      "\n",
      "\n",
      "shape of trend :  (96, 5)\n"
     ]
    },
    {
     "data": {
      "text/html": [
       "<style  type=\"text/css\" >\n",
       "    #T_9bc53c64_685c_11ea_83c0_b808cfcc3516 caption {\n",
       "          text-align: center;\n",
       "          font-size: 120%;\n",
       "          color: red;\n",
       "    }</style><table id=\"T_9bc53c64_685c_11ea_83c0_b808cfcc3516\" style='display:inline'><caption>trend</caption><thead>    <tr>        <th class=\"blank level0\" ></th>        <th class=\"col_heading level0 col0\" >date</th>        <th class=\"col_heading level0 col1\" >cold</th>        <th class=\"col_heading level0 col2\" >flu</th>        <th class=\"col_heading level0 col3\" >pneumonia</th>        <th class=\"col_heading level0 col4\" >coronavirus</th>    </tr></thead><tbody>\n",
       "                <tr>\n",
       "                        <th id=\"T_9bc53c64_685c_11ea_83c0_b808cfcc3516level0_row0\" class=\"row_heading level0 row0\" >0</th>\n",
       "                        <td id=\"T_9bc53c64_685c_11ea_83c0_b808cfcc3516row0_col0\" class=\"data row0 col0\" >2019-12-07</td>\n",
       "                        <td id=\"T_9bc53c64_685c_11ea_83c0_b808cfcc3516row0_col1\" class=\"data row0 col1\" >0.12408</td>\n",
       "                        <td id=\"T_9bc53c64_685c_11ea_83c0_b808cfcc3516row0_col2\" class=\"data row0 col2\" >0.24699</td>\n",
       "                        <td id=\"T_9bc53c64_685c_11ea_83c0_b808cfcc3516row0_col3\" class=\"data row0 col3\" >0.22144</td>\n",
       "                        <td id=\"T_9bc53c64_685c_11ea_83c0_b808cfcc3516row0_col4\" class=\"data row0 col4\" >0.01309</td>\n",
       "            </tr>\n",
       "            <tr>\n",
       "                        <th id=\"T_9bc53c64_685c_11ea_83c0_b808cfcc3516level0_row1\" class=\"row_heading level0 row1\" >1</th>\n",
       "                        <td id=\"T_9bc53c64_685c_11ea_83c0_b808cfcc3516row1_col0\" class=\"data row1 col0\" >2019-12-08</td>\n",
       "                        <td id=\"T_9bc53c64_685c_11ea_83c0_b808cfcc3516row1_col1\" class=\"data row1 col1\" >0.11863</td>\n",
       "                        <td id=\"T_9bc53c64_685c_11ea_83c0_b808cfcc3516row1_col2\" class=\"data row1 col2\" >0.2539</td>\n",
       "                        <td id=\"T_9bc53c64_685c_11ea_83c0_b808cfcc3516row1_col3\" class=\"data row1 col3\" >0.19617</td>\n",
       "                        <td id=\"T_9bc53c64_685c_11ea_83c0_b808cfcc3516row1_col4\" class=\"data row1 col4\" >0.00836</td>\n",
       "            </tr>\n",
       "            <tr>\n",
       "                        <th id=\"T_9bc53c64_685c_11ea_83c0_b808cfcc3516level0_row2\" class=\"row_heading level0 row2\" >2</th>\n",
       "                        <td id=\"T_9bc53c64_685c_11ea_83c0_b808cfcc3516row2_col0\" class=\"data row2 col0\" >2019-12-09</td>\n",
       "                        <td id=\"T_9bc53c64_685c_11ea_83c0_b808cfcc3516row2_col1\" class=\"data row2 col1\" >0.16308</td>\n",
       "                        <td id=\"T_9bc53c64_685c_11ea_83c0_b808cfcc3516row2_col2\" class=\"data row2 col2\" >0.4788</td>\n",
       "                        <td id=\"T_9bc53c64_685c_11ea_83c0_b808cfcc3516row2_col3\" class=\"data row2 col3\" >0.3318</td>\n",
       "                        <td id=\"T_9bc53c64_685c_11ea_83c0_b808cfcc3516row2_col4\" class=\"data row2 col4\" >0.01272</td>\n",
       "            </tr>\n",
       "            <tr>\n",
       "                        <th id=\"T_9bc53c64_685c_11ea_83c0_b808cfcc3516level0_row3\" class=\"row_heading level0 row3\" >3</th>\n",
       "                        <td id=\"T_9bc53c64_685c_11ea_83c0_b808cfcc3516row3_col0\" class=\"data row3 col0\" >2019-12-10</td>\n",
       "                        <td id=\"T_9bc53c64_685c_11ea_83c0_b808cfcc3516row3_col1\" class=\"data row3 col1\" >0.13981</td>\n",
       "                        <td id=\"T_9bc53c64_685c_11ea_83c0_b808cfcc3516row3_col2\" class=\"data row3 col2\" >0.40789</td>\n",
       "                        <td id=\"T_9bc53c64_685c_11ea_83c0_b808cfcc3516row3_col3\" class=\"data row3 col3\" >0.30671</td>\n",
       "                        <td id=\"T_9bc53c64_685c_11ea_83c0_b808cfcc3516row3_col4\" class=\"data row3 col4\" >0.01881</td>\n",
       "            </tr>\n",
       "            <tr>\n",
       "                        <th id=\"T_9bc53c64_685c_11ea_83c0_b808cfcc3516level0_row4\" class=\"row_heading level0 row4\" >4</th>\n",
       "                        <td id=\"T_9bc53c64_685c_11ea_83c0_b808cfcc3516row4_col0\" class=\"data row4 col0\" >2019-12-11</td>\n",
       "                        <td id=\"T_9bc53c64_685c_11ea_83c0_b808cfcc3516row4_col1\" class=\"data row4 col1\" >0.13972</td>\n",
       "                        <td id=\"T_9bc53c64_685c_11ea_83c0_b808cfcc3516row4_col2\" class=\"data row4 col2\" >0.39007</td>\n",
       "                        <td id=\"T_9bc53c64_685c_11ea_83c0_b808cfcc3516row4_col3\" class=\"data row4 col3\" >0.30299</td>\n",
       "                        <td id=\"T_9bc53c64_685c_11ea_83c0_b808cfcc3516row4_col4\" class=\"data row4 col4\" >0.01854</td>\n",
       "            </tr>\n",
       "            <tr>\n",
       "                        <th id=\"T_9bc53c64_685c_11ea_83c0_b808cfcc3516level0_row5\" class=\"row_heading level0 row5\" >5</th>\n",
       "                        <td id=\"T_9bc53c64_685c_11ea_83c0_b808cfcc3516row5_col0\" class=\"data row5 col0\" >2019-12-12</td>\n",
       "                        <td id=\"T_9bc53c64_685c_11ea_83c0_b808cfcc3516row5_col1\" class=\"data row5 col1\" >0.13954</td>\n",
       "                        <td id=\"T_9bc53c64_685c_11ea_83c0_b808cfcc3516row5_col2\" class=\"data row5 col2\" >0.38226</td>\n",
       "                        <td id=\"T_9bc53c64_685c_11ea_83c0_b808cfcc3516row5_col3\" class=\"data row5 col3\" >0.30526</td>\n",
       "                        <td id=\"T_9bc53c64_685c_11ea_83c0_b808cfcc3516row5_col4\" class=\"data row5 col4\" >0.0199</td>\n",
       "            </tr>\n",
       "            <tr>\n",
       "                        <th id=\"T_9bc53c64_685c_11ea_83c0_b808cfcc3516level0_row6\" class=\"row_heading level0 row6\" >6</th>\n",
       "                        <td id=\"T_9bc53c64_685c_11ea_83c0_b808cfcc3516row6_col0\" class=\"data row6 col0\" >2019-12-13</td>\n",
       "                        <td id=\"T_9bc53c64_685c_11ea_83c0_b808cfcc3516row6_col1\" class=\"data row6 col1\" >0.14217</td>\n",
       "                        <td id=\"T_9bc53c64_685c_11ea_83c0_b808cfcc3516row6_col2\" class=\"data row6 col2\" >0.44098</td>\n",
       "                        <td id=\"T_9bc53c64_685c_11ea_83c0_b808cfcc3516row6_col3\" class=\"data row6 col3\" >0.28344</td>\n",
       "                        <td id=\"T_9bc53c64_685c_11ea_83c0_b808cfcc3516row6_col4\" class=\"data row6 col4\" >0.01881</td>\n",
       "            </tr>\n",
       "            <tr>\n",
       "                        <th id=\"T_9bc53c64_685c_11ea_83c0_b808cfcc3516level0_row7\" class=\"row_heading level0 row7\" >7</th>\n",
       "                        <td id=\"T_9bc53c64_685c_11ea_83c0_b808cfcc3516row7_col0\" class=\"data row7 col0\" >2019-12-14</td>\n",
       "                        <td id=\"T_9bc53c64_685c_11ea_83c0_b808cfcc3516row7_col1\" class=\"data row7 col1\" >0.11363</td>\n",
       "                        <td id=\"T_9bc53c64_685c_11ea_83c0_b808cfcc3516row7_col2\" class=\"data row7 col2\" >0.35898</td>\n",
       "                        <td id=\"T_9bc53c64_685c_11ea_83c0_b808cfcc3516row7_col3\" class=\"data row7 col3\" >0.21672</td>\n",
       "                        <td id=\"T_9bc53c64_685c_11ea_83c0_b808cfcc3516row7_col4\" class=\"data row7 col4\" >0.01499</td>\n",
       "            </tr>\n",
       "    </tbody></table>   <style  type=\"text/css\" >\n",
       "    #T_9bc5b146_685c_11ea_adec_b808cfcc3516 caption {\n",
       "          text-align: center;\n",
       "          font-size: 120%;\n",
       "          color: red;\n",
       "    }</style><table id=\"T_9bc5b146_685c_11ea_adec_b808cfcc3516\" style='display:inline'><caption>trend_describe</caption><thead>    <tr>        <th class=\"blank level0\" ></th>        <th class=\"col_heading level0 col0\" >cold</th>        <th class=\"col_heading level0 col1\" >flu</th>        <th class=\"col_heading level0 col2\" >pneumonia</th>        <th class=\"col_heading level0 col3\" >coronavirus</th>    </tr></thead><tbody>\n",
       "                <tr>\n",
       "                        <th id=\"T_9bc5b146_685c_11ea_adec_b808cfcc3516level0_row0\" class=\"row_heading level0 row0\" >count</th>\n",
       "                        <td id=\"T_9bc5b146_685c_11ea_adec_b808cfcc3516row0_col0\" class=\"data row0 col0\" >96</td>\n",
       "                        <td id=\"T_9bc5b146_685c_11ea_adec_b808cfcc3516row0_col1\" class=\"data row0 col1\" >96</td>\n",
       "                        <td id=\"T_9bc5b146_685c_11ea_adec_b808cfcc3516row0_col2\" class=\"data row0 col2\" >96</td>\n",
       "                        <td id=\"T_9bc5b146_685c_11ea_adec_b808cfcc3516row0_col3\" class=\"data row0 col3\" >96</td>\n",
       "            </tr>\n",
       "            <tr>\n",
       "                        <th id=\"T_9bc5b146_685c_11ea_adec_b808cfcc3516level0_row1\" class=\"row_heading level0 row1\" >mean</th>\n",
       "                        <td id=\"T_9bc5b146_685c_11ea_adec_b808cfcc3516row1_col0\" class=\"data row1 col0\" >0.561531</td>\n",
       "                        <td id=\"T_9bc5b146_685c_11ea_adec_b808cfcc3516row1_col1\" class=\"data row1 col1\" >0.426736</td>\n",
       "                        <td id=\"T_9bc5b146_685c_11ea_adec_b808cfcc3516row1_col2\" class=\"data row1 col2\" >1.0773</td>\n",
       "                        <td id=\"T_9bc5b146_685c_11ea_adec_b808cfcc3516row1_col3\" class=\"data row1 col3\" >25.052</td>\n",
       "            </tr>\n",
       "            <tr>\n",
       "                        <th id=\"T_9bc5b146_685c_11ea_adec_b808cfcc3516level0_row2\" class=\"row_heading level0 row2\" >std</th>\n",
       "                        <td id=\"T_9bc5b146_685c_11ea_adec_b808cfcc3516row2_col0\" class=\"data row2 col0\" >0.501887</td>\n",
       "                        <td id=\"T_9bc5b146_685c_11ea_adec_b808cfcc3516row2_col1\" class=\"data row2 col1\" >0.261861</td>\n",
       "                        <td id=\"T_9bc5b146_685c_11ea_adec_b808cfcc3516row2_col2\" class=\"data row2 col2\" >1.6891</td>\n",
       "                        <td id=\"T_9bc5b146_685c_11ea_adec_b808cfcc3516row2_col3\" class=\"data row2 col3\" >27.9232</td>\n",
       "            </tr>\n",
       "            <tr>\n",
       "                        <th id=\"T_9bc5b146_685c_11ea_adec_b808cfcc3516level0_row3\" class=\"row_heading level0 row3\" >min</th>\n",
       "                        <td id=\"T_9bc5b146_685c_11ea_adec_b808cfcc3516row3_col0\" class=\"data row3 col0\" >0.11363</td>\n",
       "                        <td id=\"T_9bc5b146_685c_11ea_adec_b808cfcc3516row3_col1\" class=\"data row3 col1\" >0.06717</td>\n",
       "                        <td id=\"T_9bc5b146_685c_11ea_adec_b808cfcc3516row3_col2\" class=\"data row3 col2\" >0.1919</td>\n",
       "                        <td id=\"T_9bc5b146_685c_11ea_adec_b808cfcc3516row3_col3\" class=\"data row3 col3\" >0.00836</td>\n",
       "            </tr>\n",
       "            <tr>\n",
       "                        <th id=\"T_9bc5b146_685c_11ea_adec_b808cfcc3516level0_row4\" class=\"row_heading level0 row4\" >25%</th>\n",
       "                        <td id=\"T_9bc5b146_685c_11ea_adec_b808cfcc3516row4_col0\" class=\"data row4 col0\" >0.1654</td>\n",
       "                        <td id=\"T_9bc5b146_685c_11ea_adec_b808cfcc3516row4_col1\" class=\"data row4 col1\" >0.17658</td>\n",
       "                        <td id=\"T_9bc5b146_685c_11ea_adec_b808cfcc3516row4_col2\" class=\"data row4 col2\" >0.30176</td>\n",
       "                        <td id=\"T_9bc5b146_685c_11ea_adec_b808cfcc3516row4_col3\" class=\"data row4 col3\" >0.021155</td>\n",
       "            </tr>\n",
       "            <tr>\n",
       "                        <th id=\"T_9bc5b146_685c_11ea_adec_b808cfcc3516level0_row5\" class=\"row_heading level0 row5\" >50%</th>\n",
       "                        <td id=\"T_9bc5b146_685c_11ea_adec_b808cfcc3516row5_col0\" class=\"data row5 col0\" >0.321305</td>\n",
       "                        <td id=\"T_9bc5b146_685c_11ea_adec_b808cfcc3516row5_col1\" class=\"data row5 col1\" >0.411435</td>\n",
       "                        <td id=\"T_9bc5b146_685c_11ea_adec_b808cfcc3516row5_col2\" class=\"data row5 col2\" >0.463935</td>\n",
       "                        <td id=\"T_9bc5b146_685c_11ea_adec_b808cfcc3516row5_col3\" class=\"data row5 col3\" >15.4973</td>\n",
       "            </tr>\n",
       "            <tr>\n",
       "                        <th id=\"T_9bc5b146_685c_11ea_adec_b808cfcc3516level0_row6\" class=\"row_heading level0 row6\" >75%</th>\n",
       "                        <td id=\"T_9bc5b146_685c_11ea_adec_b808cfcc3516row6_col0\" class=\"data row6 col0\" >0.901265</td>\n",
       "                        <td id=\"T_9bc5b146_685c_11ea_adec_b808cfcc3516row6_col1\" class=\"data row6 col1\" >0.596727</td>\n",
       "                        <td id=\"T_9bc5b146_685c_11ea_adec_b808cfcc3516row6_col2\" class=\"data row6 col2\" >0.99756</td>\n",
       "                        <td id=\"T_9bc5b146_685c_11ea_adec_b808cfcc3516row6_col3\" class=\"data row6 col3\" >41.5646</td>\n",
       "            </tr>\n",
       "            <tr>\n",
       "                        <th id=\"T_9bc5b146_685c_11ea_adec_b808cfcc3516level0_row7\" class=\"row_heading level0 row7\" >max</th>\n",
       "                        <td id=\"T_9bc5b146_685c_11ea_adec_b808cfcc3516row7_col0\" class=\"data row7 col0\" >1.94203</td>\n",
       "                        <td id=\"T_9bc5b146_685c_11ea_adec_b808cfcc3516row7_col1\" class=\"data row7 col1\" >1.1816</td>\n",
       "                        <td id=\"T_9bc5b146_685c_11ea_adec_b808cfcc3516row7_col2\" class=\"data row7 col2\" >11.3932</td>\n",
       "                        <td id=\"T_9bc5b146_685c_11ea_adec_b808cfcc3516row7_col3\" class=\"data row7 col3\" >100</td>\n",
       "            </tr>\n",
       "    </tbody></table>   <style  type=\"text/css\" >\n",
       "    #T_9bc5ff30_685c_11ea_8595_b808cfcc3516 caption {\n",
       "          text-align: center;\n",
       "          font-size: 120%;\n",
       "          color: red;\n",
       "    }</style><table id=\"T_9bc5ff30_685c_11ea_8595_b808cfcc3516\" style='display:inline'><caption>trend_null</caption><thead>    <tr>        <th class=\"blank level0\" ></th>        <th class=\"col_heading level0 col0\" >nulls</th>    </tr></thead><tbody>\n",
       "                <tr>\n",
       "                        <th id=\"T_9bc5ff30_685c_11ea_8595_b808cfcc3516level0_row0\" class=\"row_heading level0 row0\" >date</th>\n",
       "                        <td id=\"T_9bc5ff30_685c_11ea_8595_b808cfcc3516row0_col0\" class=\"data row0 col0\" >0</td>\n",
       "            </tr>\n",
       "            <tr>\n",
       "                        <th id=\"T_9bc5ff30_685c_11ea_8595_b808cfcc3516level0_row1\" class=\"row_heading level0 row1\" >cold</th>\n",
       "                        <td id=\"T_9bc5ff30_685c_11ea_8595_b808cfcc3516row1_col0\" class=\"data row1 col0\" >0</td>\n",
       "            </tr>\n",
       "            <tr>\n",
       "                        <th id=\"T_9bc5ff30_685c_11ea_8595_b808cfcc3516level0_row2\" class=\"row_heading level0 row2\" >flu</th>\n",
       "                        <td id=\"T_9bc5ff30_685c_11ea_8595_b808cfcc3516row2_col0\" class=\"data row2 col0\" >0</td>\n",
       "            </tr>\n",
       "            <tr>\n",
       "                        <th id=\"T_9bc5ff30_685c_11ea_8595_b808cfcc3516level0_row3\" class=\"row_heading level0 row3\" >pneumonia</th>\n",
       "                        <td id=\"T_9bc5ff30_685c_11ea_8595_b808cfcc3516row3_col0\" class=\"data row3 col0\" >0</td>\n",
       "            </tr>\n",
       "            <tr>\n",
       "                        <th id=\"T_9bc5ff30_685c_11ea_8595_b808cfcc3516level0_row4\" class=\"row_heading level0 row4\" >coronavirus</th>\n",
       "                        <td id=\"T_9bc5ff30_685c_11ea_8595_b808cfcc3516row4_col0\" class=\"data row4 col0\" >0</td>\n",
       "            </tr>\n",
       "    </tbody></table>   "
      ],
      "text/plain": [
       "<IPython.core.display.HTML object>"
      ]
     },
     "metadata": {},
     "output_type": "display_data"
    }
   ],
   "source": [
    "print(trend.dtypes)\n",
    "print('\\n')\n",
    "print(\"shape of trend : \", trend.shape)\n",
    "display_side_by_side2([trend.head(8), trend.describe(), trend_null], ['trend', 'trend_describe', 'trend_null'])"
   ]
  },
  {
   "cell_type": "code",
   "execution_count": 7,
   "metadata": {
    "ExecuteTime": {
     "end_time": "2020-03-17T13:43:46.180443Z",
     "start_time": "2020-03-17T13:43:42.622956Z"
    }
   },
   "outputs": [
    {
     "data": {
      "text/plain": [
       "<seaborn.axisgrid.PairGrid at 0x2b840c96348>"
      ]
     },
     "execution_count": 7,
     "metadata": {},
     "output_type": "execute_result"
    },
    {
     "data": {
      "image/png": "[encoded data removed]",
      "text/plain": [
       "<Figure size 720x720 with 20 Axes>"
      ]
     },
     "metadata": {
      "image/png": {
       "height": 712,
       "width": 708
      },
      "needs_background": "light"
     },
     "output_type": "display_data"
    }
   ],
   "source": [
    "sns.pairplot(trend[[\"cold\", \"flu\", \"pneumonia\", \"coronavirus\"]], diag_kind=\"kde\")"
   ]
  },
  {
   "cell_type": "code",
   "execution_count": 22,
   "metadata": {
    "ExecuteTime": {
     "end_time": "2020-03-17T13:57:51.727725Z",
     "start_time": "2020-03-17T13:57:50.163875Z"
    },
    "scrolled": false
   },
   "outputs": [
    {
     "data": {
      "application/vnd.plotly.v1+json": {
       "config": {
        "plotlyServerURL": "https://plot.ly"
       },
       "data": [
        {
         "hoverlabel": {
          "namelength": 0
         },
         "hovertemplate": "date=%{x}<br>cold=%{y}",
         "legendgroup": "",
         "line": {
          "color": "#636efa",
          "dash": "solid"
         },
         "mode": "lines",
         "name": "",
         "showlegend": false,
         "type": "scatter",
         "x": [
          "2019-12-07",
          "2019-12-08",
          "2019-12-09",
          "2019-12-10",
          "2019-12-11",
          "2019-12-12",
          "2019-12-13",
          "2019-12-14",
          "2019-12-15",
          "2019-12-16",
          "2019-12-17",
          "2019-12-18",
          "2019-12-19",
          "2019-12-20",
          "2019-12-21",
          "2019-12-22",
          "2019-12-23",
          "2019-12-24",
          "2019-12-25",
          "2019-12-26",
          "2019-12-27",
          "2019-12-28",
          "2019-12-29",
          "2019-12-30",
          "2019-12-31",
          "2020-01-01",
          "2020-01-02",
          "2020-01-03",
          "2020-01-04",
          "2020-01-05",
          "2020-01-06",
          "2020-01-07",
          "2020-01-08",
          "2020-01-09",
          "2020-01-10",
          "2020-01-11",
          "2020-01-12",
          "2020-01-13",
          "2020-01-14",
          "2020-01-15",
          "2020-01-16",
          "2020-01-17",
          "2020-01-18",
          "2020-01-19",
          "2020-01-20",
          "2020-01-21",
          "2020-01-22",
          "2020-01-23",
          "2020-01-24",
          "2020-01-25",
          "2020-01-26",
          "2020-01-27",
          "2020-01-28",
          "2020-01-29",
          "2020-01-30",
          "2020-01-31",
          "2020-02-01",
          "2020-02-02",
          "2020-02-03",
          "2020-02-04",
          "2020-02-05",
          "2020-02-06",
          "2020-02-07",
          "2020-02-08",
          "2020-02-09",
          "2020-02-10",
          "2020-02-11",
          "2020-02-12",
          "2020-02-13",
          "2020-02-14",
          "2020-02-15",
          "2020-02-16",
          "2020-02-17",
          "2020-02-18",
          "2020-02-19",
          "2020-02-20",
          "2020-02-21",
          "2020-02-22",
          "2020-02-23",
          "2020-02-24",
          "2020-02-25",
          "2020-02-26",
          "2020-02-27",
          "2020-02-28",
          "2020-02-29",
          "2020-03-01",
          "2020-03-02",
          "2020-03-03",
          "2020-03-04",
          "2020-03-05",
          "2020-03-06",
          "2020-03-07",
          "2020-03-08",
          "2020-03-09",
          "2020-03-10",
          "2020-03-11"
         ],
         "xaxis": "x",
         "y": [
          0.12408,
          0.11863,
          0.16308,
          0.13981,
          0.13972,
          0.13954,
          0.14217,
          0.11363,
          0.12445,
          0.16417,
          0.16172,
          0.15063,
          0.16935,
          0.15225999999999998,
          0.12899000000000002,
          0.1409,
          0.19125999999999999,
          0.15880999999999998,
          0.15608,
          0.18417,
          0.18044000000000002,
          0.16663,
          0.15825999999999998,
          0.18126,
          0.16580999999999999,
          0.14454,
          0.19508,
          0.19580999999999998,
          0.60343,
          0.20081,
          0.23081,
          0.20853000000000002,
          0.1949,
          0.1979,
          0.17854,
          0.15872,
          0.16199000000000002,
          0.17744000000000001,
          0.16708,
          0.15999000000000002,
          0.16754000000000002,
          0.1659,
          0.14345,
          0.15217,
          0.19217,
          0.22462,
          0.23808,
          0.30308,
          0.34689000000000003,
          0.7088800000000001,
          0.9656899999999999,
          1.39513,
          1.56922,
          1.1997799999999998,
          0.9897799999999999,
          1.3584100000000001,
          1.29296,
          1.4925,
          1.2093200000000002,
          1.06169,
          1.09323,
          1.03724,
          0.91715,
          0.89597,
          0.77052,
          0.6381600000000001,
          0.5338,
          0.47862,
          0.38444,
          0.32153000000000004,
          0.35944,
          0.35170999999999997,
          0.32426,
          0.32108000000000003,
          0.59207,
          0.98306,
          1.42804,
          1.9159400000000002,
          1.94203,
          1.78603,
          1.67058,
          1.42177,
          1.2255,
          1.2494100000000001,
          1.3085,
          1.23605,
          0.8816,
          0.6793399999999999,
          0.8257899999999999,
          0.6491600000000001,
          0.58625,
          0.71743,
          0.5875199999999999,
          0.45435,
          0.46934,
          0.70143
         ],
         "yaxis": "y"
        }
       ],
       "layout": {
        "height": 400,
        "legend": {
         "tracegroupgap": 0
        },
        "template": {
         "data": {
          "bar": [
           {
            "error_x": {
             "color": "#2a3f5f"
            },
            "error_y": {
             "color": "#2a3f5f"
            },
            "marker": {
             "line": {
              "color": "#E5ECF6",
              "width": 0.5
             }
            },
            "type": "bar"
           }
          ],
          "barpolar": [
           {
            "marker": {
             "line": {
              "color": "#E5ECF6",
              "width": 0.5
             }
            },
            "type": "barpolar"
           }
          ],
          "carpet": [
           {
            "aaxis": {
             "endlinecolor": "#2a3f5f",
             "gridcolor": "white",
             "linecolor": "white",
             "minorgridcolor": "white",
             "startlinecolor": "#2a3f5f"
            },
            "baxis": {
             "endlinecolor": "#2a3f5f",
             "gridcolor": "white",
             "linecolor": "white",
             "minorgridcolor": "white",
             "startlinecolor": "#2a3f5f"
            },
            "type": "carpet"
           }
          ],
          "choropleth": [
           {
            "colorbar": {
             "outlinewidth": 0,
             "ticks": ""
            },
            "type": "choropleth"
           }
          ],
          "contour": [
           {
            "colorbar": {
             "outlinewidth": 0,
             "ticks": ""
            },
            "colorscale": [
             [
              0,
              "#0d0887"
             ],
             [
              0.1111111111111111,
              "#46039f"
             ],
             [
              0.2222222222222222,
              "#7201a8"
             ],
             [
              0.3333333333333333,
              "#9c179e"
             ],
             [
              0.4444444444444444,
              "#bd3786"
             ],
             [
              0.5555555555555556,
              "#d8576b"
             ],
             [
              0.6666666666666666,
              "#ed7953"
             ],
             [
              0.7777777777777778,
              "#fb9f3a"
             ],
             [
              0.8888888888888888,
              "#fdca26"
             ],
             [
              1,
              "#f0f921"
             ]
            ],
            "type": "contour"
           }
          ],
          "contourcarpet": [
           {
            "colorbar": {
             "outlinewidth": 0,
             "ticks": ""
            },
            "type": "contourcarpet"
           }
          ],
          "heatmap": [
           {
            "colorbar": {
             "outlinewidth": 0,
             "ticks": ""
            },
            "colorscale": [
             [
              0,
              "#0d0887"
             ],
             [
              0.1111111111111111,
              "#46039f"
             ],
             [
              0.2222222222222222,
              "#7201a8"
             ],
             [
              0.3333333333333333,
              "#9c179e"
             ],
             [
              0.4444444444444444,
              "#bd3786"
             ],
             [
              0.5555555555555556,
              "#d8576b"
             ],
             [
              0.6666666666666666,
              "#ed7953"
             ],
             [
              0.7777777777777778,
              "#fb9f3a"
             ],
             [
              0.8888888888888888,
              "#fdca26"
             ],
             [
              1,
              "#f0f921"
             ]
            ],
            "type": "heatmap"
           }
          ],
          "heatmapgl": [
           {
            "colorbar": {
             "outlinewidth": 0,
             "ticks": ""
            },
            "colorscale": [
             [
              0,
              "#0d0887"
             ],
             [
              0.1111111111111111,
              "#46039f"
             ],
             [
              0.2222222222222222,
              "#7201a8"
             ],
             [
              0.3333333333333333,
              "#9c179e"
             ],
             [
              0.4444444444444444,
              "#bd3786"
             ],
             [
              0.5555555555555556,
              "#d8576b"
             ],
             [
              0.6666666666666666,
              "#ed7953"
             ],
             [
              0.7777777777777778,
              "#fb9f3a"
             ],
             [
              0.8888888888888888,
              "#fdca26"
             ],
             [
              1,
              "#f0f921"
             ]
            ],
            "type": "heatmapgl"
           }
          ],
          "histogram": [
           {
            "marker": {
             "colorbar": {
              "outlinewidth": 0,
              "ticks": ""
             }
            },
            "type": "histogram"
           }
          ],
          "histogram2d": [
           {
            "colorbar": {
             "outlinewidth": 0,
             "ticks": ""
            },
            "colorscale": [
             [
              0,
              "#0d0887"
             ],
             [
              0.1111111111111111,
              "#46039f"
             ],
             [
              0.2222222222222222,
              "#7201a8"
             ],
             [
              0.3333333333333333,
              "#9c179e"
             ],
             [
              0.4444444444444444,
              "#bd3786"
             ],
             [
              0.5555555555555556,
              "#d8576b"
             ],
             [
              0.6666666666666666,
              "#ed7953"
             ],
             [
              0.7777777777777778,
              "#fb9f3a"
             ],
             [
              0.8888888888888888,
              "#fdca26"
             ],
             [
              1,
              "#f0f921"
             ]
            ],
            "type": "histogram2d"
           }
          ],
          "histogram2dcontour": [
           {
            "colorbar": {
             "outlinewidth": 0,
             "ticks": ""
            },
            "colorscale": [
             [
              0,
              "#0d0887"
             ],
             [
              0.1111111111111111,
              "#46039f"
             ],
             [
              0.2222222222222222,
              "#7201a8"
             ],
             [
              0.3333333333333333,
              "#9c179e"
             ],
             [
              0.4444444444444444,
              "#bd3786"
             ],
             [
              0.5555555555555556,
              "#d8576b"
             ],
             [
              0.6666666666666666,
              "#ed7953"
             ],
             [
              0.7777777777777778,
              "#fb9f3a"
             ],
             [
              0.8888888888888888,
              "#fdca26"
             ],
             [
              1,
              "#f0f921"
             ]
            ],
            "type": "histogram2dcontour"
           }
          ],
          "mesh3d": [
           {
            "colorbar": {
             "outlinewidth": 0,
             "ticks": ""
            },
            "type": "mesh3d"
           }
          ],
          "parcoords": [
           {
            "line": {
             "colorbar": {
              "outlinewidth": 0,
              "ticks": ""
             }
            },
            "type": "parcoords"
           }
          ],
          "pie": [
           {
            "automargin": true,
            "type": "pie"
           }
          ],
          "scatter": [
           {
            "marker": {
             "colorbar": {
              "outlinewidth": 0,
              "ticks": ""
             }
            },
            "type": "scatter"
           }
          ],
          "scatter3d": [
           {
            "line": {
             "colorbar": {
              "outlinewidth": 0,
              "ticks": ""
             }
            },
            "marker": {
             "colorbar": {
              "outlinewidth": 0,
              "ticks": ""
             }
            },
            "type": "scatter3d"
           }
          ],
          "scattercarpet": [
           {
            "marker": {
             "colorbar": {
              "outlinewidth": 0,
              "ticks": ""
             }
            },
            "type": "scattercarpet"
           }
          ],
          "scattergeo": [
           {
            "marker": {
             "colorbar": {
              "outlinewidth": 0,
              "ticks": ""
             }
            },
            "type": "scattergeo"
           }
          ],
          "scattergl": [
           {
            "marker": {
             "colorbar": {
              "outlinewidth": 0,
              "ticks": ""
             }
            },
            "type": "scattergl"
           }
          ],
          "scattermapbox": [
           {
            "marker": {
             "colorbar": {
              "outlinewidth": 0,
              "ticks": ""
             }
            },
            "type": "scattermapbox"
           }
          ],
          "scatterpolar": [
           {
            "marker": {
             "colorbar": {
              "outlinewidth": 0,
              "ticks": ""
             }
            },
            "type": "scatterpolar"
           }
          ],
          "scatterpolargl": [
           {
            "marker": {
             "colorbar": {
              "outlinewidth": 0,
              "ticks": ""
             }
            },
            "type": "scatterpolargl"
           }
          ],
          "scatterternary": [
           {
            "marker": {
             "colorbar": {
              "outlinewidth": 0,
              "ticks": ""
             }
            },
            "type": "scatterternary"
           }
          ],
          "surface": [
           {
            "colorbar": {
             "outlinewidth": 0,
             "ticks": ""
            },
            "colorscale": [
             [
              0,
              "#0d0887"
             ],
             [
              0.1111111111111111,
              "#46039f"
             ],
             [
              0.2222222222222222,
              "#7201a8"
             ],
             [
              0.3333333333333333,
              "#9c179e"
             ],
             [
              0.4444444444444444,
              "#bd3786"
             ],
             [
              0.5555555555555556,
              "#d8576b"
             ],
             [
              0.6666666666666666,
              "#ed7953"
             ],
             [
              0.7777777777777778,
              "#fb9f3a"
             ],
             [
              0.8888888888888888,
              "#fdca26"
             ],
             [
              1,
              "#f0f921"
             ]
            ],
            "type": "surface"
           }
          ],
          "table": [
           {
            "cells": {
             "fill": {
              "color": "#EBF0F8"
             },
             "line": {
              "color": "white"
             }
            },
            "header": {
             "fill": {
              "color": "#C8D4E3"
             },
             "line": {
              "color": "white"
             }
            },
            "type": "table"
           }
          ]
         },
         "layout": {
          "annotationdefaults": {
           "arrowcolor": "#2a3f5f",
           "arrowhead": 0,
           "arrowwidth": 1
          },
          "coloraxis": {
           "colorbar": {
            "outlinewidth": 0,
            "ticks": ""
           }
          },
          "colorscale": {
           "diverging": [
            [
             0,
             "#8e0152"
            ],
            [
             0.1,
             "#c51b7d"
            ],
            [
             0.2,
             "#de77ae"
            ],
            [
             0.3,
             "#f1b6da"
            ],
            [
             0.4,
             "#fde0ef"
            ],
            [
             0.5,
             "#f7f7f7"
            ],
            [
             0.6,
             "#e6f5d0"
            ],
            [
             0.7,
             "#b8e186"
            ],
            [
             0.8,
             "#7fbc41"
            ],
            [
             0.9,
             "#4d9221"
            ],
            [
             1,
             "#276419"
            ]
           ],
           "sequential": [
            [
             0,
             "#0d0887"
            ],
            [
             0.1111111111111111,
             "#46039f"
            ],
            [
             0.2222222222222222,
             "#7201a8"
            ],
            [
             0.3333333333333333,
             "#9c179e"
            ],
            [
             0.4444444444444444,
             "#bd3786"
            ],
            [
             0.5555555555555556,
             "#d8576b"
            ],
            [
             0.6666666666666666,
             "#ed7953"
            ],
            [
             0.7777777777777778,
             "#fb9f3a"
            ],
            [
             0.8888888888888888,
             "#fdca26"
            ],
            [
             1,
             "#f0f921"
            ]
           ],
           "sequentialminus": [
            [
             0,
             "#0d0887"
            ],
            [
             0.1111111111111111,
             "#46039f"
            ],
            [
             0.2222222222222222,
             "#7201a8"
            ],
            [
             0.3333333333333333,
             "#9c179e"
            ],
            [
             0.4444444444444444,
             "#bd3786"
            ],
            [
             0.5555555555555556,
             "#d8576b"
            ],
            [
             0.6666666666666666,
             "#ed7953"
            ],
            [
             0.7777777777777778,
             "#fb9f3a"
            ],
            [
             0.8888888888888888,
             "#fdca26"
            ],
            [
             1,
             "#f0f921"
            ]
           ]
          },
          "colorway": [
           "#636efa",
           "#EF553B",
           "#00cc96",
           "#ab63fa",
           "#FFA15A",
           "#19d3f3",
           "#FF6692",
           "#B6E880",
           "#FF97FF",
           "#FECB52"
          ],
          "font": {
           "color": "#2a3f5f"
          },
          "geo": {
           "bgcolor": "white",
           "lakecolor": "white",
           "landcolor": "#E5ECF6",
           "showlakes": true,
           "showland": true,
           "subunitcolor": "white"
          },
          "hoverlabel": {
           "align": "left"
          },
          "hovermode": "closest",
          "mapbox": {
           "style": "light"
          },
          "paper_bgcolor": "white",
          "plot_bgcolor": "#E5ECF6",
          "polar": {
           "angularaxis": {
            "gridcolor": "white",
            "linecolor": "white",
            "ticks": ""
           },
           "bgcolor": "#E5ECF6",
           "radialaxis": {
            "gridcolor": "white",
            "linecolor": "white",
            "ticks": ""
           }
          },
          "scene": {
           "xaxis": {
            "backgroundcolor": "#E5ECF6",
            "gridcolor": "white",
            "gridwidth": 2,
            "linecolor": "white",
            "showbackground": true,
            "ticks": "",
            "zerolinecolor": "white"
           },
           "yaxis": {
            "backgroundcolor": "#E5ECF6",
            "gridcolor": "white",
            "gridwidth": 2,
            "linecolor": "white",
            "showbackground": true,
            "ticks": "",
            "zerolinecolor": "white"
           },
           "zaxis": {
            "backgroundcolor": "#E5ECF6",
            "gridcolor": "white",
            "gridwidth": 2,
            "linecolor": "white",
            "showbackground": true,
            "ticks": "",
            "zerolinecolor": "white"
           }
          },
          "shapedefaults": {
           "line": {
            "color": "#2a3f5f"
           }
          },
          "ternary": {
           "aaxis": {
            "gridcolor": "white",
            "linecolor": "white",
            "ticks": ""
           },
           "baxis": {
            "gridcolor": "white",
            "linecolor": "white",
            "ticks": ""
           },
           "bgcolor": "#E5ECF6",
           "caxis": {
            "gridcolor": "white",
            "linecolor": "white",
            "ticks": ""
           }
          },
          "title": {
           "x": 0.05
          },
          "xaxis": {
           "automargin": true,
           "gridcolor": "white",
           "linecolor": "white",
           "ticks": "",
           "title": {
            "standoff": 15
           },
           "zerolinecolor": "white",
           "zerolinewidth": 2
          },
          "yaxis": {
           "automargin": true,
           "gridcolor": "white",
           "linecolor": "white",
           "ticks": "",
           "title": {
            "standoff": 15
           },
           "zerolinecolor": "white",
           "zerolinewidth": 2
          }
         }
        },
        "title": {
         "text": "time serise cold"
        },
        "width": 900,
        "xaxis": {
         "anchor": "y",
         "domain": [
          0,
          1
         ],
         "title": {
          "text": "date"
         }
        },
        "yaxis": {
         "anchor": "x",
         "domain": [
          0,
          1
         ],
         "title": {
          "text": "cold"
         }
        }
       }
      },
      "text/html": [
       "<div>\n",
       "        \n",
       "        \n",
       "            <div id=\"8cb494aa-6745-44ca-a3fe-9a19afd49144\" class=\"plotly-graph-div\" style=\"height:400px; width:900px;\"></div>\n",
       "            <script type=\"text/javascript\">\n",
       "                require([\"plotly\"], function(Plotly) {\n",
       "                    window.PLOTLYENV=window.PLOTLYENV || {};\n",
       "                    \n",
       "                if (document.getElementById(\"8cb494aa-6745-44ca-a3fe-9a19afd49144\")) {\n",
       "                    Plotly.newPlot(\n",
       "                        '8cb494aa-6745-44ca-a3fe-9a19afd49144',\n",
       "                        [{\"hoverlabel\": {\"namelength\": 0}, \"hovertemplate\": \"date=%{x}<br>cold=%{y}\", \"legendgroup\": \"\", \"line\": {\"color\": \"#636efa\", \"dash\": \"solid\"}, \"mode\": \"lines\", \"name\": \"\", \"showlegend\": false, \"type\": \"scatter\", \"x\": [\"2019-12-07\", \"2019-12-08\", \"2019-12-09\", \"2019-12-10\", \"2019-12-11\", \"2019-12-12\", \"2019-12-13\", \"2019-12-14\", \"2019-12-15\", \"2019-12-16\", \"2019-12-17\", \"2019-12-18\", \"2019-12-19\", \"2019-12-20\", \"2019-12-21\", \"2019-12-22\", \"2019-12-23\", \"2019-12-24\", \"2019-12-25\", \"2019-12-26\", \"2019-12-27\", \"2019-12-28\", \"2019-12-29\", \"2019-12-30\", \"2019-12-31\", \"2020-01-01\", \"2020-01-02\", \"2020-01-03\", \"2020-01-04\", \"2020-01-05\", \"2020-01-06\", \"2020-01-07\", \"2020-01-08\", \"2020-01-09\", \"2020-01-10\", \"2020-01-11\", \"2020-01-12\", \"2020-01-13\", \"2020-01-14\", \"2020-01-15\", \"2020-01-16\", \"2020-01-17\", \"2020-01-18\", \"2020-01-19\", \"2020-01-20\", \"2020-01-21\", \"2020-01-22\", \"2020-01-23\", \"2020-01-24\", \"2020-01-25\", \"2020-01-26\", \"2020-01-27\", \"2020-01-28\", \"2020-01-29\", \"2020-01-30\", \"2020-01-31\", \"2020-02-01\", \"2020-02-02\", \"2020-02-03\", \"2020-02-04\", \"2020-02-05\", \"2020-02-06\", \"2020-02-07\", \"2020-02-08\", \"2020-02-09\", \"2020-02-10\", \"2020-02-11\", \"2020-02-12\", \"2020-02-13\", \"2020-02-14\", \"2020-02-15\", \"2020-02-16\", \"2020-02-17\", \"2020-02-18\", \"2020-02-19\", \"2020-02-20\", \"2020-02-21\", \"2020-02-22\", \"2020-02-23\", \"2020-02-24\", \"2020-02-25\", \"2020-02-26\", \"2020-02-27\", \"2020-02-28\", \"2020-02-29\", \"2020-03-01\", \"2020-03-02\", \"2020-03-03\", \"2020-03-04\", \"2020-03-05\", \"2020-03-06\", \"2020-03-07\", \"2020-03-08\", \"2020-03-09\", \"2020-03-10\", \"2020-03-11\"], \"xaxis\": \"x\", \"y\": [0.12408, 0.11863, 0.16308, 0.13981, 0.13972, 0.13954, 0.14217, 0.11363, 0.12445, 0.16417, 0.16172, 0.15063, 0.16935, 0.15225999999999998, 0.12899000000000002, 0.1409, 0.19125999999999999, 0.15880999999999998, 0.15608, 0.18417, 0.18044000000000002, 0.16663, 0.15825999999999998, 0.18126, 0.16580999999999999, 0.14454, 0.19508, 0.19580999999999998, 0.60343, 0.20081, 0.23081, 0.20853000000000002, 0.1949, 0.1979, 0.17854, 0.15872, 0.16199000000000002, 0.17744000000000001, 0.16708, 0.15999000000000002, 0.16754000000000002, 0.1659, 0.14345, 0.15217, 0.19217, 0.22462, 0.23808, 0.30308, 0.34689000000000003, 0.7088800000000001, 0.9656899999999999, 1.39513, 1.56922, 1.1997799999999998, 0.9897799999999999, 1.3584100000000001, 1.29296, 1.4925, 1.2093200000000002, 1.06169, 1.09323, 1.03724, 0.91715, 0.89597, 0.77052, 0.6381600000000001, 0.5338, 0.47862, 0.38444, 0.32153000000000004, 0.35944, 0.35170999999999997, 0.32426, 0.32108000000000003, 0.59207, 0.98306, 1.42804, 1.9159400000000002, 1.94203, 1.78603, 1.67058, 1.42177, 1.2255, 1.2494100000000001, 1.3085, 1.23605, 0.8816, 0.6793399999999999, 0.8257899999999999, 0.6491600000000001, 0.58625, 0.71743, 0.5875199999999999, 0.45435, 0.46934, 0.70143], \"yaxis\": \"y\"}],\n",
       "                        {\"height\": 400, \"legend\": {\"tracegroupgap\": 0}, \"template\": {\"data\": {\"bar\": [{\"error_x\": {\"color\": \"#2a3f5f\"}, \"error_y\": {\"color\": \"#2a3f5f\"}, \"marker\": {\"line\": {\"color\": \"#E5ECF6\", \"width\": 0.5}}, \"type\": \"bar\"}], \"barpolar\": [{\"marker\": {\"line\": {\"color\": \"#E5ECF6\", \"width\": 0.5}}, \"type\": \"barpolar\"}], \"carpet\": [{\"aaxis\": {\"endlinecolor\": \"#2a3f5f\", \"gridcolor\": \"white\", \"linecolor\": \"white\", \"minorgridcolor\": \"white\", \"startlinecolor\": \"#2a3f5f\"}, \"baxis\": {\"endlinecolor\": \"#2a3f5f\", \"gridcolor\": \"white\", \"linecolor\": \"white\", \"minorgridcolor\": \"white\", \"startlinecolor\": \"#2a3f5f\"}, \"type\": \"carpet\"}], \"choropleth\": [{\"colorbar\": {\"outlinewidth\": 0, \"ticks\": \"\"}, \"type\": \"choropleth\"}], \"contour\": [{\"colorbar\": {\"outlinewidth\": 0, \"ticks\": \"\"}, \"colorscale\": [[0.0, \"#0d0887\"], [0.1111111111111111, \"#46039f\"], [0.2222222222222222, \"#7201a8\"], [0.3333333333333333, \"#9c179e\"], [0.4444444444444444, \"#bd3786\"], [0.5555555555555556, \"#d8576b\"], [0.6666666666666666, \"#ed7953\"], [0.7777777777777778, \"#fb9f3a\"], [0.8888888888888888, \"#fdca26\"], [1.0, \"#f0f921\"]], \"type\": \"contour\"}], \"contourcarpet\": [{\"colorbar\": {\"outlinewidth\": 0, \"ticks\": \"\"}, \"type\": \"contourcarpet\"}], \"heatmap\": [{\"colorbar\": {\"outlinewidth\": 0, \"ticks\": \"\"}, \"colorscale\": [[0.0, \"#0d0887\"], [0.1111111111111111, \"#46039f\"], [0.2222222222222222, \"#7201a8\"], [0.3333333333333333, \"#9c179e\"], [0.4444444444444444, \"#bd3786\"], [0.5555555555555556, \"#d8576b\"], [0.6666666666666666, \"#ed7953\"], [0.7777777777777778, \"#fb9f3a\"], [0.8888888888888888, \"#fdca26\"], [1.0, \"#f0f921\"]], \"type\": \"heatmap\"}], \"heatmapgl\": [{\"colorbar\": {\"outlinewidth\": 0, \"ticks\": \"\"}, \"colorscale\": [[0.0, \"#0d0887\"], [0.1111111111111111, \"#46039f\"], [0.2222222222222222, \"#7201a8\"], [0.3333333333333333, \"#9c179e\"], [0.4444444444444444, \"#bd3786\"], [0.5555555555555556, \"#d8576b\"], [0.6666666666666666, \"#ed7953\"], [0.7777777777777778, \"#fb9f3a\"], [0.8888888888888888, \"#fdca26\"], [1.0, \"#f0f921\"]], \"type\": \"heatmapgl\"}], \"histogram\": [{\"marker\": {\"colorbar\": {\"outlinewidth\": 0, \"ticks\": \"\"}}, \"type\": \"histogram\"}], \"histogram2d\": [{\"colorbar\": {\"outlinewidth\": 0, \"ticks\": \"\"}, \"colorscale\": [[0.0, \"#0d0887\"], [0.1111111111111111, \"#46039f\"], [0.2222222222222222, \"#7201a8\"], [0.3333333333333333, \"#9c179e\"], [0.4444444444444444, \"#bd3786\"], [0.5555555555555556, \"#d8576b\"], [0.6666666666666666, \"#ed7953\"], [0.7777777777777778, \"#fb9f3a\"], [0.8888888888888888, \"#fdca26\"], [1.0, \"#f0f921\"]], \"type\": \"histogram2d\"}], \"histogram2dcontour\": [{\"colorbar\": {\"outlinewidth\": 0, \"ticks\": \"\"}, \"colorscale\": [[0.0, \"#0d0887\"], [0.1111111111111111, \"#46039f\"], [0.2222222222222222, \"#7201a8\"], [0.3333333333333333, \"#9c179e\"], [0.4444444444444444, \"#bd3786\"], [0.5555555555555556, \"#d8576b\"], [0.6666666666666666, \"#ed7953\"], [0.7777777777777778, \"#fb9f3a\"], [0.8888888888888888, \"#fdca26\"], [1.0, \"#f0f921\"]], \"type\": \"histogram2dcontour\"}], \"mesh3d\": [{\"colorbar\": {\"outlinewidth\": 0, \"ticks\": \"\"}, \"type\": \"mesh3d\"}], \"parcoords\": [{\"line\": {\"colorbar\": {\"outlinewidth\": 0, \"ticks\": \"\"}}, \"type\": \"parcoords\"}], \"pie\": [{\"automargin\": true, \"type\": \"pie\"}], \"scatter\": [{\"marker\": {\"colorbar\": {\"outlinewidth\": 0, \"ticks\": \"\"}}, \"type\": \"scatter\"}], \"scatter3d\": [{\"line\": {\"colorbar\": {\"outlinewidth\": 0, \"ticks\": \"\"}}, \"marker\": {\"colorbar\": {\"outlinewidth\": 0, \"ticks\": \"\"}}, \"type\": \"scatter3d\"}], \"scattercarpet\": [{\"marker\": {\"colorbar\": {\"outlinewidth\": 0, \"ticks\": \"\"}}, \"type\": \"scattercarpet\"}], \"scattergeo\": [{\"marker\": {\"colorbar\": {\"outlinewidth\": 0, \"ticks\": \"\"}}, \"type\": \"scattergeo\"}], \"scattergl\": [{\"marker\": {\"colorbar\": {\"outlinewidth\": 0, \"ticks\": \"\"}}, \"type\": \"scattergl\"}], \"scattermapbox\": [{\"marker\": {\"colorbar\": {\"outlinewidth\": 0, \"ticks\": \"\"}}, \"type\": \"scattermapbox\"}], \"scatterpolar\": [{\"marker\": {\"colorbar\": {\"outlinewidth\": 0, \"ticks\": \"\"}}, \"type\": \"scatterpolar\"}], \"scatterpolargl\": [{\"marker\": {\"colorbar\": {\"outlinewidth\": 0, \"ticks\": \"\"}}, \"type\": \"scatterpolargl\"}], \"scatterternary\": [{\"marker\": {\"colorbar\": {\"outlinewidth\": 0, \"ticks\": \"\"}}, \"type\": \"scatterternary\"}], \"surface\": [{\"colorbar\": {\"outlinewidth\": 0, \"ticks\": \"\"}, \"colorscale\": [[0.0, \"#0d0887\"], [0.1111111111111111, \"#46039f\"], [0.2222222222222222, \"#7201a8\"], [0.3333333333333333, \"#9c179e\"], [0.4444444444444444, \"#bd3786\"], [0.5555555555555556, \"#d8576b\"], [0.6666666666666666, \"#ed7953\"], [0.7777777777777778, \"#fb9f3a\"], [0.8888888888888888, \"#fdca26\"], [1.0, \"#f0f921\"]], \"type\": \"surface\"}], \"table\": [{\"cells\": {\"fill\": {\"color\": \"#EBF0F8\"}, \"line\": {\"color\": \"white\"}}, \"header\": {\"fill\": {\"color\": \"#C8D4E3\"}, \"line\": {\"color\": \"white\"}}, \"type\": \"table\"}]}, \"layout\": {\"annotationdefaults\": {\"arrowcolor\": \"#2a3f5f\", \"arrowhead\": 0, \"arrowwidth\": 1}, \"coloraxis\": {\"colorbar\": {\"outlinewidth\": 0, \"ticks\": \"\"}}, \"colorscale\": {\"diverging\": [[0, \"#8e0152\"], [0.1, \"#c51b7d\"], [0.2, \"#de77ae\"], [0.3, \"#f1b6da\"], [0.4, \"#fde0ef\"], [0.5, \"#f7f7f7\"], [0.6, \"#e6f5d0\"], [0.7, \"#b8e186\"], [0.8, \"#7fbc41\"], [0.9, \"#4d9221\"], [1, \"#276419\"]], \"sequential\": [[0.0, \"#0d0887\"], [0.1111111111111111, \"#46039f\"], [0.2222222222222222, \"#7201a8\"], [0.3333333333333333, \"#9c179e\"], [0.4444444444444444, \"#bd3786\"], [0.5555555555555556, \"#d8576b\"], [0.6666666666666666, \"#ed7953\"], [0.7777777777777778, \"#fb9f3a\"], [0.8888888888888888, \"#fdca26\"], [1.0, \"#f0f921\"]], \"sequentialminus\": [[0.0, \"#0d0887\"], [0.1111111111111111, \"#46039f\"], [0.2222222222222222, \"#7201a8\"], [0.3333333333333333, \"#9c179e\"], [0.4444444444444444, \"#bd3786\"], [0.5555555555555556, \"#d8576b\"], [0.6666666666666666, \"#ed7953\"], [0.7777777777777778, \"#fb9f3a\"], [0.8888888888888888, \"#fdca26\"], [1.0, \"#f0f921\"]]}, \"colorway\": [\"#636efa\", \"#EF553B\", \"#00cc96\", \"#ab63fa\", \"#FFA15A\", \"#19d3f3\", \"#FF6692\", \"#B6E880\", \"#FF97FF\", \"#FECB52\"], \"font\": {\"color\": \"#2a3f5f\"}, \"geo\": {\"bgcolor\": \"white\", \"lakecolor\": \"white\", \"landcolor\": \"#E5ECF6\", \"showlakes\": true, \"showland\": true, \"subunitcolor\": \"white\"}, \"hoverlabel\": {\"align\": \"left\"}, \"hovermode\": \"closest\", \"mapbox\": {\"style\": \"light\"}, \"paper_bgcolor\": \"white\", \"plot_bgcolor\": \"#E5ECF6\", \"polar\": {\"angularaxis\": {\"gridcolor\": \"white\", \"linecolor\": \"white\", \"ticks\": \"\"}, \"bgcolor\": \"#E5ECF6\", \"radialaxis\": {\"gridcolor\": \"white\", \"linecolor\": \"white\", \"ticks\": \"\"}}, \"scene\": {\"xaxis\": {\"backgroundcolor\": \"#E5ECF6\", \"gridcolor\": \"white\", \"gridwidth\": 2, \"linecolor\": \"white\", \"showbackground\": true, \"ticks\": \"\", \"zerolinecolor\": \"white\"}, \"yaxis\": {\"backgroundcolor\": \"#E5ECF6\", \"gridcolor\": \"white\", \"gridwidth\": 2, \"linecolor\": \"white\", \"showbackground\": true, \"ticks\": \"\", \"zerolinecolor\": \"white\"}, \"zaxis\": {\"backgroundcolor\": \"#E5ECF6\", \"gridcolor\": \"white\", \"gridwidth\": 2, \"linecolor\": \"white\", \"showbackground\": true, \"ticks\": \"\", \"zerolinecolor\": \"white\"}}, \"shapedefaults\": {\"line\": {\"color\": \"#2a3f5f\"}}, \"ternary\": {\"aaxis\": {\"gridcolor\": \"white\", \"linecolor\": \"white\", \"ticks\": \"\"}, \"baxis\": {\"gridcolor\": \"white\", \"linecolor\": \"white\", \"ticks\": \"\"}, \"bgcolor\": \"#E5ECF6\", \"caxis\": {\"gridcolor\": \"white\", \"linecolor\": \"white\", \"ticks\": \"\"}}, \"title\": {\"x\": 0.05}, \"xaxis\": {\"automargin\": true, \"gridcolor\": \"white\", \"linecolor\": \"white\", \"ticks\": \"\", \"title\": {\"standoff\": 15}, \"zerolinecolor\": \"white\", \"zerolinewidth\": 2}, \"yaxis\": {\"automargin\": true, \"gridcolor\": \"white\", \"linecolor\": \"white\", \"ticks\": \"\", \"title\": {\"standoff\": 15}, \"zerolinecolor\": \"white\", \"zerolinewidth\": 2}}}, \"title\": {\"text\": \"time serise cold\"}, \"width\": 900, \"xaxis\": {\"anchor\": \"y\", \"domain\": [0.0, 1.0], \"title\": {\"text\": \"date\"}}, \"yaxis\": {\"anchor\": \"x\", \"domain\": [0.0, 1.0], \"title\": {\"text\": \"cold\"}}},\n",
       "                        {\"responsive\": true}\n",
       "                    ).then(function(){\n",
       "                            \n",
       "var gd = document.getElementById('8cb494aa-6745-44ca-a3fe-9a19afd49144');\n",
       "var x = new MutationObserver(function (mutations, observer) {{\n",
       "        var display = window.getComputedStyle(gd).display;\n",
       "        if (!display || display === 'none') {{\n",
       "            console.log([gd, 'removed!']);\n",
       "            Plotly.purge(gd);\n",
       "            observer.disconnect();\n",
       "        }}\n",
       "}});\n",
       "\n",
       "// Listen for the removal of the full notebook cells\n",
       "var notebookContainer = gd.closest('#notebook-container');\n",
       "if (notebookContainer) {{\n",
       "    x.observe(notebookContainer, {childList: true});\n",
       "}}\n",
       "\n",
       "// Listen for the clearing of the current output cell\n",
       "var outputEl = gd.closest('.output');\n",
       "if (outputEl) {{\n",
       "    x.observe(outputEl, {childList: true});\n",
       "}}\n",
       "\n",
       "                        })\n",
       "                };\n",
       "                });\n",
       "            </script>\n",
       "        </div>"
      ]
     },
     "metadata": {},
     "output_type": "display_data"
    },
    {
     "data": {
      "application/vnd.plotly.v1+json": {
       "config": {
        "plotlyServerURL": "https://plot.ly"
       },
       "data": [
        {
         "hoverlabel": {
          "namelength": 0
         },
         "hovertemplate": "date=%{x}<br>flu=%{y}",
         "legendgroup": "",
         "line": {
          "color": "#636efa",
          "dash": "solid"
         },
         "mode": "lines",
         "name": "",
         "showlegend": false,
         "type": "scatter",
         "x": [
          "2019-12-07",
          "2019-12-08",
          "2019-12-09",
          "2019-12-10",
          "2019-12-11",
          "2019-12-12",
          "2019-12-13",
          "2019-12-14",
          "2019-12-15",
          "2019-12-16",
          "2019-12-17",
          "2019-12-18",
          "2019-12-19",
          "2019-12-20",
          "2019-12-21",
          "2019-12-22",
          "2019-12-23",
          "2019-12-24",
          "2019-12-25",
          "2019-12-26",
          "2019-12-27",
          "2019-12-28",
          "2019-12-29",
          "2019-12-30",
          "2019-12-31",
          "2020-01-01",
          "2020-01-02",
          "2020-01-03",
          "2020-01-04",
          "2020-01-05",
          "2020-01-06",
          "2020-01-07",
          "2020-01-08",
          "2020-01-09",
          "2020-01-10",
          "2020-01-11",
          "2020-01-12",
          "2020-01-13",
          "2020-01-14",
          "2020-01-15",
          "2020-01-16",
          "2020-01-17",
          "2020-01-18",
          "2020-01-19",
          "2020-01-20",
          "2020-01-21",
          "2020-01-22",
          "2020-01-23",
          "2020-01-24",
          "2020-01-25",
          "2020-01-26",
          "2020-01-27",
          "2020-01-28",
          "2020-01-29",
          "2020-01-30",
          "2020-01-31",
          "2020-02-01",
          "2020-02-02",
          "2020-02-03",
          "2020-02-04",
          "2020-02-05",
          "2020-02-06",
          "2020-02-07",
          "2020-02-08",
          "2020-02-09",
          "2020-02-10",
          "2020-02-11",
          "2020-02-12",
          "2020-02-13",
          "2020-02-14",
          "2020-02-15",
          "2020-02-16",
          "2020-02-17",
          "2020-02-18",
          "2020-02-19",
          "2020-02-20",
          "2020-02-21",
          "2020-02-22",
          "2020-02-23",
          "2020-02-24",
          "2020-02-25",
          "2020-02-26",
          "2020-02-27",
          "2020-02-28",
          "2020-02-29",
          "2020-03-01",
          "2020-03-02",
          "2020-03-03",
          "2020-03-04",
          "2020-03-05",
          "2020-03-06",
          "2020-03-07",
          "2020-03-08",
          "2020-03-09",
          "2020-03-10",
          "2020-03-11"
         ],
         "xaxis": "x",
         "y": [
          0.24699000000000002,
          0.2539,
          0.4788,
          0.40789000000000003,
          0.39007,
          0.38226,
          0.44098000000000004,
          0.35898,
          0.35189000000000004,
          0.6643399999999999,
          0.59634,
          0.56607,
          0.56161,
          0.50853,
          0.43062,
          0.44361999999999996,
          0.75988,
          0.60034,
          0.41498,
          0.8326100000000001,
          0.7700600000000001,
          0.6228899999999999,
          0.57089,
          0.8857,
          0.64488,
          0.48433999999999994,
          0.85751,
          0.80443,
          0.86961,
          0.84152,
          1.1816,
          0.9623299999999999,
          0.81824,
          0.77115,
          0.72197,
          0.5578,
          0.50962,
          0.83315,
          0.7147,
          0.5947,
          0.5917,
          0.56916,
          0.42089,
          0.39953,
          0.70343,
          0.5978899999999999,
          0.5666100000000001,
          0.55625,
          0.40226,
          0.39744,
          0.40126,
          0.50253,
          0.64298,
          0.49207,
          0.44953000000000004,
          0.8406100000000001,
          0.79288,
          0.45298,
          0.49516000000000004,
          0.37906999999999996,
          0.34444,
          0.31644,
          0.25808000000000003,
          0.18081,
          0.17207999999999998,
          0.21499000000000001,
          0.17072,
          0.15281,
          0.13999,
          0.11807999999999999,
          0.10026,
          0.0899,
          0.12045,
          0.11963,
          0.13172,
          0.17026,
          0.17808,
          0.19472,
          0.19326,
          0.22708000000000003,
          0.20181,
          0.19280999999999998,
          0.18535,
          0.16544,
          0.16108,
          0.13754,
          0.13345,
          0.11917,
          0.1079,
          0.09745,
          0.09162999999999999,
          0.0769,
          0.06717000000000001,
          0.09262999999999999,
          0.09108,
          0.08945
         ],
         "yaxis": "y"
        }
       ],
       "layout": {
        "height": 400,
        "legend": {
         "tracegroupgap": 0
        },
        "template": {
         "data": {
          "bar": [
           {
            "error_x": {
             "color": "#2a3f5f"
            },
            "error_y": {
             "color": "#2a3f5f"
            },
            "marker": {
             "line": {
              "color": "#E5ECF6",
              "width": 0.5
             }
            },
            "type": "bar"
           }
          ],
          "barpolar": [
           {
            "marker": {
             "line": {
              "color": "#E5ECF6",
              "width": 0.5
             }
            },
            "type": "barpolar"
           }
          ],
          "carpet": [
           {
            "aaxis": {
             "endlinecolor": "#2a3f5f",
             "gridcolor": "white",
             "linecolor": "white",
             "minorgridcolor": "white",
             "startlinecolor": "#2a3f5f"
            },
            "baxis": {
             "endlinecolor": "#2a3f5f",
             "gridcolor": "white",
             "linecolor": "white",
             "minorgridcolor": "white",
             "startlinecolor": "#2a3f5f"
            },
            "type": "carpet"
           }
          ],
          "choropleth": [
           {
            "colorbar": {
             "outlinewidth": 0,
             "ticks": ""
            },
            "type": "choropleth"
           }
          ],
          "contour": [
           {
            "colorbar": {
             "outlinewidth": 0,
             "ticks": ""
            },
            "colorscale": [
             [
              0,
              "#0d0887"
             ],
             [
              0.1111111111111111,
              "#46039f"
             ],
             [
              0.2222222222222222,
              "#7201a8"
             ],
             [
              0.3333333333333333,
              "#9c179e"
             ],
             [
              0.4444444444444444,
              "#bd3786"
             ],
             [
              0.5555555555555556,
              "#d8576b"
             ],
             [
              0.6666666666666666,
              "#ed7953"
             ],
             [
              0.7777777777777778,
              "#fb9f3a"
             ],
             [
              0.8888888888888888,
              "#fdca26"
             ],
             [
              1,
              "#f0f921"
             ]
            ],
            "type": "contour"
           }
          ],
          "contourcarpet": [
           {
            "colorbar": {
             "outlinewidth": 0,
             "ticks": ""
            },
            "type": "contourcarpet"
           }
          ],
          "heatmap": [
           {
            "colorbar": {
             "outlinewidth": 0,
             "ticks": ""
            },
            "colorscale": [
             [
              0,
              "#0d0887"
             ],
             [
              0.1111111111111111,
              "#46039f"
             ],
             [
              0.2222222222222222,
              "#7201a8"
             ],
             [
              0.3333333333333333,
              "#9c179e"
             ],
             [
              0.4444444444444444,
              "#bd3786"
             ],
             [
              0.5555555555555556,
              "#d8576b"
             ],
             [
              0.6666666666666666,
              "#ed7953"
             ],
             [
              0.7777777777777778,
              "#fb9f3a"
             ],
             [
              0.8888888888888888,
              "#fdca26"
             ],
             [
              1,
              "#f0f921"
             ]
            ],
            "type": "heatmap"
           }
          ],
          "heatmapgl": [
           {
            "colorbar": {
             "outlinewidth": 0,
             "ticks": ""
            },
            "colorscale": [
             [
              0,
              "#0d0887"
             ],
             [
              0.1111111111111111,
              "#46039f"
             ],
             [
              0.2222222222222222,
              "#7201a8"
             ],
             [
              0.3333333333333333,
              "#9c179e"
             ],
             [
              0.4444444444444444,
              "#bd3786"
             ],
             [
              0.5555555555555556,
              "#d8576b"
             ],
             [
              0.6666666666666666,
              "#ed7953"
             ],
             [
              0.7777777777777778,
              "#fb9f3a"
             ],
             [
              0.8888888888888888,
              "#fdca26"
             ],
             [
              1,
              "#f0f921"
             ]
            ],
            "type": "heatmapgl"
           }
          ],
          "histogram": [
           {
            "marker": {
             "colorbar": {
              "outlinewidth": 0,
              "ticks": ""
             }
            },
            "type": "histogram"
           }
          ],
          "histogram2d": [
           {
            "colorbar": {
             "outlinewidth": 0,
             "ticks": ""
            },
            "colorscale": [
             [
              0,
              "#0d0887"
             ],
             [
              0.1111111111111111,
              "#46039f"
             ],
             [
              0.2222222222222222,
              "#7201a8"
             ],
             [
              0.3333333333333333,
              "#9c179e"
             ],
             [
              0.4444444444444444,
              "#bd3786"
             ],
             [
              0.5555555555555556,
              "#d8576b"
             ],
             [
              0.6666666666666666,
              "#ed7953"
             ],
             [
              0.7777777777777778,
              "#fb9f3a"
             ],
             [
              0.8888888888888888,
              "#fdca26"
             ],
             [
              1,
              "#f0f921"
             ]
            ],
            "type": "histogram2d"
           }
          ],
          "histogram2dcontour": [
           {
            "colorbar": {
             "outlinewidth": 0,
             "ticks": ""
            },
            "colorscale": [
             [
              0,
              "#0d0887"
             ],
             [
              0.1111111111111111,
              "#46039f"
             ],
             [
              0.2222222222222222,
              "#7201a8"
             ],
             [
              0.3333333333333333,
              "#9c179e"
             ],
             [
              0.4444444444444444,
              "#bd3786"
             ],
             [
              0.5555555555555556,
              "#d8576b"
             ],
             [
              0.6666666666666666,
              "#ed7953"
             ],
             [
              0.7777777777777778,
              "#fb9f3a"
             ],
             [
              0.8888888888888888,
              "#fdca26"
             ],
             [
              1,
              "#f0f921"
             ]
            ],
            "type": "histogram2dcontour"
           }
          ],
          "mesh3d": [
           {
            "colorbar": {
             "outlinewidth": 0,
             "ticks": ""
            },
            "type": "mesh3d"
           }
          ],
          "parcoords": [
           {
            "line": {
             "colorbar": {
              "outlinewidth": 0,
              "ticks": ""
             }
            },
            "type": "parcoords"
           }
          ],
          "pie": [
           {
            "automargin": true,
            "type": "pie"
           }
          ],
          "scatter": [
           {
            "marker": {
             "colorbar": {
              "outlinewidth": 0,
              "ticks": ""
             }
            },
            "type": "scatter"
           }
          ],
          "scatter3d": [
           {
            "line": {
             "colorbar": {
              "outlinewidth": 0,
              "ticks": ""
             }
            },
            "marker": {
             "colorbar": {
              "outlinewidth": 0,
              "ticks": ""
             }
            },
            "type": "scatter3d"
           }
          ],
          "scattercarpet": [
           {
            "marker": {
             "colorbar": {
              "outlinewidth": 0,
              "ticks": ""
             }
            },
            "type": "scattercarpet"
           }
          ],
          "scattergeo": [
           {
            "marker": {
             "colorbar": {
              "outlinewidth": 0,
              "ticks": ""
             }
            },
            "type": "scattergeo"
           }
          ],
          "scattergl": [
           {
            "marker": {
             "colorbar": {
              "outlinewidth": 0,
              "ticks": ""
             }
            },
            "type": "scattergl"
           }
          ],
          "scattermapbox": [
           {
            "marker": {
             "colorbar": {
              "outlinewidth": 0,
              "ticks": ""
             }
            },
            "type": "scattermapbox"
           }
          ],
          "scatterpolar": [
           {
            "marker": {
             "colorbar": {
              "outlinewidth": 0,
              "ticks": ""
             }
            },
            "type": "scatterpolar"
           }
          ],
          "scatterpolargl": [
           {
            "marker": {
             "colorbar": {
              "outlinewidth": 0,
              "ticks": ""
             }
            },
            "type": "scatterpolargl"
           }
          ],
          "scatterternary": [
           {
            "marker": {
             "colorbar": {
              "outlinewidth": 0,
              "ticks": ""
             }
            },
            "type": "scatterternary"
           }
          ],
          "surface": [
           {
            "colorbar": {
             "outlinewidth": 0,
             "ticks": ""
            },
            "colorscale": [
             [
              0,
              "#0d0887"
             ],
             [
              0.1111111111111111,
              "#46039f"
             ],
             [
              0.2222222222222222,
              "#7201a8"
             ],
             [
              0.3333333333333333,
              "#9c179e"
             ],
             [
              0.4444444444444444,
              "#bd3786"
             ],
             [
              0.5555555555555556,
              "#d8576b"
             ],
             [
              0.6666666666666666,
              "#ed7953"
             ],
             [
              0.7777777777777778,
              "#fb9f3a"
             ],
             [
              0.8888888888888888,
              "#fdca26"
             ],
             [
              1,
              "#f0f921"
             ]
            ],
            "type": "surface"
           }
          ],
          "table": [
           {
            "cells": {
             "fill": {
              "color": "#EBF0F8"
             },
             "line": {
              "color": "white"
             }
            },
            "header": {
             "fill": {
              "color": "#C8D4E3"
             },
             "line": {
              "color": "white"
             }
            },
            "type": "table"
           }
          ]
         },
         "layout": {
          "annotationdefaults": {
           "arrowcolor": "#2a3f5f",
           "arrowhead": 0,
           "arrowwidth": 1
          },
          "coloraxis": {
           "colorbar": {
            "outlinewidth": 0,
            "ticks": ""
           }
          },
          "colorscale": {
           "diverging": [
            [
             0,
             "#8e0152"
            ],
            [
             0.1,
             "#c51b7d"
            ],
            [
             0.2,
             "#de77ae"
            ],
            [
             0.3,
             "#f1b6da"
            ],
            [
             0.4,
             "#fde0ef"
            ],
            [
             0.5,
             "#f7f7f7"
            ],
            [
             0.6,
             "#e6f5d0"
            ],
            [
             0.7,
             "#b8e186"
            ],
            [
             0.8,
             "#7fbc41"
            ],
            [
             0.9,
             "#4d9221"
            ],
            [
             1,
             "#276419"
            ]
           ],
           "sequential": [
            [
             0,
             "#0d0887"
            ],
            [
             0.1111111111111111,
             "#46039f"
            ],
            [
             0.2222222222222222,
             "#7201a8"
            ],
            [
             0.3333333333333333,
             "#9c179e"
            ],
            [
             0.4444444444444444,
             "#bd3786"
            ],
            [
             0.5555555555555556,
             "#d8576b"
            ],
            [
             0.6666666666666666,
             "#ed7953"
            ],
            [
             0.7777777777777778,
             "#fb9f3a"
            ],
            [
             0.8888888888888888,
             "#fdca26"
            ],
            [
             1,
             "#f0f921"
            ]
           ],
           "sequentialminus": [
            [
             0,
             "#0d0887"
            ],
            [
             0.1111111111111111,
             "#46039f"
            ],
            [
             0.2222222222222222,
             "#7201a8"
            ],
            [
             0.3333333333333333,
             "#9c179e"
            ],
            [
             0.4444444444444444,
             "#bd3786"
            ],
            [
             0.5555555555555556,
             "#d8576b"
            ],
            [
             0.6666666666666666,
             "#ed7953"
            ],
            [
             0.7777777777777778,
             "#fb9f3a"
            ],
            [
             0.8888888888888888,
             "#fdca26"
            ],
            [
             1,
             "#f0f921"
            ]
           ]
          },
          "colorway": [
           "#636efa",
           "#EF553B",
           "#00cc96",
           "#ab63fa",
           "#FFA15A",
           "#19d3f3",
           "#FF6692",
           "#B6E880",
           "#FF97FF",
           "#FECB52"
          ],
          "font": {
           "color": "#2a3f5f"
          },
          "geo": {
           "bgcolor": "white",
           "lakecolor": "white",
           "landcolor": "#E5ECF6",
           "showlakes": true,
           "showland": true,
           "subunitcolor": "white"
          },
          "hoverlabel": {
           "align": "left"
          },
          "hovermode": "closest",
          "mapbox": {
           "style": "light"
          },
          "paper_bgcolor": "white",
          "plot_bgcolor": "#E5ECF6",
          "polar": {
           "angularaxis": {
            "gridcolor": "white",
            "linecolor": "white",
            "ticks": ""
           },
           "bgcolor": "#E5ECF6",
           "radialaxis": {
            "gridcolor": "white",
            "linecolor": "white",
            "ticks": ""
           }
          },
          "scene": {
           "xaxis": {
            "backgroundcolor": "#E5ECF6",
            "gridcolor": "white",
            "gridwidth": 2,
            "linecolor": "white",
            "showbackground": true,
            "ticks": "",
            "zerolinecolor": "white"
           },
           "yaxis": {
            "backgroundcolor": "#E5ECF6",
            "gridcolor": "white",
            "gridwidth": 2,
            "linecolor": "white",
            "showbackground": true,
            "ticks": "",
            "zerolinecolor": "white"
           },
           "zaxis": {
            "backgroundcolor": "#E5ECF6",
            "gridcolor": "white",
            "gridwidth": 2,
            "linecolor": "white",
            "showbackground": true,
            "ticks": "",
            "zerolinecolor": "white"
           }
          },
          "shapedefaults": {
           "line": {
            "color": "#2a3f5f"
           }
          },
          "ternary": {
           "aaxis": {
            "gridcolor": "white",
            "linecolor": "white",
            "ticks": ""
           },
           "baxis": {
            "gridcolor": "white",
            "linecolor": "white",
            "ticks": ""
           },
           "bgcolor": "#E5ECF6",
           "caxis": {
            "gridcolor": "white",
            "linecolor": "white",
            "ticks": ""
           }
          },
          "title": {
           "x": 0.05
          },
          "xaxis": {
           "automargin": true,
           "gridcolor": "white",
           "linecolor": "white",
           "ticks": "",
           "title": {
            "standoff": 15
           },
           "zerolinecolor": "white",
           "zerolinewidth": 2
          },
          "yaxis": {
           "automargin": true,
           "gridcolor": "white",
           "linecolor": "white",
           "ticks": "",
           "title": {
            "standoff": 15
           },
           "zerolinecolor": "white",
           "zerolinewidth": 2
          }
         }
        },
        "title": {
         "text": "time serise flu"
        },
        "width": 900,
        "xaxis": {
         "anchor": "y",
         "domain": [
          0,
          1
         ],
         "title": {
          "text": "date"
         }
        },
        "yaxis": {
         "anchor": "x",
         "domain": [
          0,
          1
         ],
         "title": {
          "text": "flu"
         }
        }
       }
      },
      "text/html": [
       "<div>\n",
       "        \n",
       "        \n",
       "            <div id=\"8e75e090-9a62-425b-9b9c-9ec77ae4a963\" class=\"plotly-graph-div\" style=\"height:400px; width:900px;\"></div>\n",
       "            <script type=\"text/javascript\">\n",
       "                require([\"plotly\"], function(Plotly) {\n",
       "                    window.PLOTLYENV=window.PLOTLYENV || {};\n",
       "                    \n",
       "                if (document.getElementById(\"8e75e090-9a62-425b-9b9c-9ec77ae4a963\")) {\n",
       "                    Plotly.newPlot(\n",
       "                        '8e75e090-9a62-425b-9b9c-9ec77ae4a963',\n",
       "                        [{\"hoverlabel\": {\"namelength\": 0}, \"hovertemplate\": \"date=%{x}<br>flu=%{y}\", \"legendgroup\": \"\", \"line\": {\"color\": \"#636efa\", \"dash\": \"solid\"}, \"mode\": \"lines\", \"name\": \"\", \"showlegend\": false, \"type\": \"scatter\", \"x\": [\"2019-12-07\", \"2019-12-08\", \"2019-12-09\", \"2019-12-10\", \"2019-12-11\", \"2019-12-12\", \"2019-12-13\", \"2019-12-14\", \"2019-12-15\", \"2019-12-16\", \"2019-12-17\", \"2019-12-18\", \"2019-12-19\", \"2019-12-20\", \"2019-12-21\", \"2019-12-22\", \"2019-12-23\", \"2019-12-24\", \"2019-12-25\", \"2019-12-26\", \"2019-12-27\", \"2019-12-28\", \"2019-12-29\", \"2019-12-30\", \"2019-12-31\", \"2020-01-01\", \"2020-01-02\", \"2020-01-03\", \"2020-01-04\", \"2020-01-05\", \"2020-01-06\", \"2020-01-07\", \"2020-01-08\", \"2020-01-09\", \"2020-01-10\", \"2020-01-11\", \"2020-01-12\", \"2020-01-13\", \"2020-01-14\", \"2020-01-15\", \"2020-01-16\", \"2020-01-17\", \"2020-01-18\", \"2020-01-19\", \"2020-01-20\", \"2020-01-21\", \"2020-01-22\", \"2020-01-23\", \"2020-01-24\", \"2020-01-25\", \"2020-01-26\", \"2020-01-27\", \"2020-01-28\", \"2020-01-29\", \"2020-01-30\", \"2020-01-31\", \"2020-02-01\", \"2020-02-02\", \"2020-02-03\", \"2020-02-04\", \"2020-02-05\", \"2020-02-06\", \"2020-02-07\", \"2020-02-08\", \"2020-02-09\", \"2020-02-10\", \"2020-02-11\", \"2020-02-12\", \"2020-02-13\", \"2020-02-14\", \"2020-02-15\", \"2020-02-16\", \"2020-02-17\", \"2020-02-18\", \"2020-02-19\", \"2020-02-20\", \"2020-02-21\", \"2020-02-22\", \"2020-02-23\", \"2020-02-24\", \"2020-02-25\", \"2020-02-26\", \"2020-02-27\", \"2020-02-28\", \"2020-02-29\", \"2020-03-01\", \"2020-03-02\", \"2020-03-03\", \"2020-03-04\", \"2020-03-05\", \"2020-03-06\", \"2020-03-07\", \"2020-03-08\", \"2020-03-09\", \"2020-03-10\", \"2020-03-11\"], \"xaxis\": \"x\", \"y\": [0.24699000000000002, 0.2539, 0.4788, 0.40789000000000003, 0.39007, 0.38226, 0.44098000000000004, 0.35898, 0.35189000000000004, 0.6643399999999999, 0.59634, 0.56607, 0.56161, 0.50853, 0.43062, 0.44361999999999996, 0.75988, 0.60034, 0.41498, 0.8326100000000001, 0.7700600000000001, 0.6228899999999999, 0.57089, 0.8857, 0.64488, 0.48433999999999994, 0.85751, 0.80443, 0.86961, 0.84152, 1.1816, 0.9623299999999999, 0.81824, 0.77115, 0.72197, 0.5578, 0.50962, 0.83315, 0.7147, 0.5947, 0.5917, 0.56916, 0.42089, 0.39953, 0.70343, 0.5978899999999999, 0.5666100000000001, 0.55625, 0.40226, 0.39744, 0.40126, 0.50253, 0.64298, 0.49207, 0.44953000000000004, 0.8406100000000001, 0.79288, 0.45298, 0.49516000000000004, 0.37906999999999996, 0.34444, 0.31644, 0.25808000000000003, 0.18081, 0.17207999999999998, 0.21499000000000001, 0.17072, 0.15281, 0.13999, 0.11807999999999999, 0.10026, 0.0899, 0.12045, 0.11963, 0.13172, 0.17026, 0.17808, 0.19472, 0.19326, 0.22708000000000003, 0.20181, 0.19280999999999998, 0.18535, 0.16544, 0.16108, 0.13754, 0.13345, 0.11917, 0.1079, 0.09745, 0.09162999999999999, 0.0769, 0.06717000000000001, 0.09262999999999999, 0.09108, 0.08945], \"yaxis\": \"y\"}],\n",
       "                        {\"height\": 400, \"legend\": {\"tracegroupgap\": 0}, \"template\": {\"data\": {\"bar\": [{\"error_x\": {\"color\": \"#2a3f5f\"}, \"error_y\": {\"color\": \"#2a3f5f\"}, \"marker\": {\"line\": {\"color\": \"#E5ECF6\", \"width\": 0.5}}, \"type\": \"bar\"}], \"barpolar\": [{\"marker\": {\"line\": {\"color\": \"#E5ECF6\", \"width\": 0.5}}, \"type\": \"barpolar\"}], \"carpet\": [{\"aaxis\": {\"endlinecolor\": \"#2a3f5f\", \"gridcolor\": \"white\", \"linecolor\": \"white\", \"minorgridcolor\": \"white\", \"startlinecolor\": \"#2a3f5f\"}, \"baxis\": {\"endlinecolor\": \"#2a3f5f\", \"gridcolor\": \"white\", \"linecolor\": \"white\", \"minorgridcolor\": \"white\", \"startlinecolor\": \"#2a3f5f\"}, \"type\": \"carpet\"}], \"choropleth\": [{\"colorbar\": {\"outlinewidth\": 0, \"ticks\": \"\"}, \"type\": \"choropleth\"}], \"contour\": [{\"colorbar\": {\"outlinewidth\": 0, \"ticks\": \"\"}, \"colorscale\": [[0.0, \"#0d0887\"], [0.1111111111111111, \"#46039f\"], [0.2222222222222222, \"#7201a8\"], [0.3333333333333333, \"#9c179e\"], [0.4444444444444444, \"#bd3786\"], [0.5555555555555556, \"#d8576b\"], [0.6666666666666666, \"#ed7953\"], [0.7777777777777778, \"#fb9f3a\"], [0.8888888888888888, \"#fdca26\"], [1.0, \"#f0f921\"]], \"type\": \"contour\"}], \"contourcarpet\": [{\"colorbar\": {\"outlinewidth\": 0, \"ticks\": \"\"}, \"type\": \"contourcarpet\"}], \"heatmap\": [{\"colorbar\": {\"outlinewidth\": 0, \"ticks\": \"\"}, \"colorscale\": [[0.0, \"#0d0887\"], [0.1111111111111111, \"#46039f\"], [0.2222222222222222, \"#7201a8\"], [0.3333333333333333, \"#9c179e\"], [0.4444444444444444, \"#bd3786\"], [0.5555555555555556, \"#d8576b\"], [0.6666666666666666, \"#ed7953\"], [0.7777777777777778, \"#fb9f3a\"], [0.8888888888888888, \"#fdca26\"], [1.0, \"#f0f921\"]], \"type\": \"heatmap\"}], \"heatmapgl\": [{\"colorbar\": {\"outlinewidth\": 0, \"ticks\": \"\"}, \"colorscale\": [[0.0, \"#0d0887\"], [0.1111111111111111, \"#46039f\"], [0.2222222222222222, \"#7201a8\"], [0.3333333333333333, \"#9c179e\"], [0.4444444444444444, \"#bd3786\"], [0.5555555555555556, \"#d8576b\"], [0.6666666666666666, \"#ed7953\"], [0.7777777777777778, \"#fb9f3a\"], [0.8888888888888888, \"#fdca26\"], [1.0, \"#f0f921\"]], \"type\": \"heatmapgl\"}], \"histogram\": [{\"marker\": {\"colorbar\": {\"outlinewidth\": 0, \"ticks\": \"\"}}, \"type\": \"histogram\"}], \"histogram2d\": [{\"colorbar\": {\"outlinewidth\": 0, \"ticks\": \"\"}, \"colorscale\": [[0.0, \"#0d0887\"], [0.1111111111111111, \"#46039f\"], [0.2222222222222222, \"#7201a8\"], [0.3333333333333333, \"#9c179e\"], [0.4444444444444444, \"#bd3786\"], [0.5555555555555556, \"#d8576b\"], [0.6666666666666666, \"#ed7953\"], [0.7777777777777778, \"#fb9f3a\"], [0.8888888888888888, \"#fdca26\"], [1.0, \"#f0f921\"]], \"type\": \"histogram2d\"}], \"histogram2dcontour\": [{\"colorbar\": {\"outlinewidth\": 0, \"ticks\": \"\"}, \"colorscale\": [[0.0, \"#0d0887\"], [0.1111111111111111, \"#46039f\"], [0.2222222222222222, \"#7201a8\"], [0.3333333333333333, \"#9c179e\"], [0.4444444444444444, \"#bd3786\"], [0.5555555555555556, \"#d8576b\"], [0.6666666666666666, \"#ed7953\"], [0.7777777777777778, \"#fb9f3a\"], [0.8888888888888888, \"#fdca26\"], [1.0, \"#f0f921\"]], \"type\": \"histogram2dcontour\"}], \"mesh3d\": [{\"colorbar\": {\"outlinewidth\": 0, \"ticks\": \"\"}, \"type\": \"mesh3d\"}], \"parcoords\": [{\"line\": {\"colorbar\": {\"outlinewidth\": 0, \"ticks\": \"\"}}, \"type\": \"parcoords\"}], \"pie\": [{\"automargin\": true, \"type\": \"pie\"}], \"scatter\": [{\"marker\": {\"colorbar\": {\"outlinewidth\": 0, \"ticks\": \"\"}}, \"type\": \"scatter\"}], \"scatter3d\": [{\"line\": {\"colorbar\": {\"outlinewidth\": 0, \"ticks\": \"\"}}, \"marker\": {\"colorbar\": {\"outlinewidth\": 0, \"ticks\": \"\"}}, \"type\": \"scatter3d\"}], \"scattercarpet\": [{\"marker\": {\"colorbar\": {\"outlinewidth\": 0, \"ticks\": \"\"}}, \"type\": \"scattercarpet\"}], \"scattergeo\": [{\"marker\": {\"colorbar\": {\"outlinewidth\": 0, \"ticks\": \"\"}}, \"type\": \"scattergeo\"}], \"scattergl\": [{\"marker\": {\"colorbar\": {\"outlinewidth\": 0, \"ticks\": \"\"}}, \"type\": \"scattergl\"}], \"scattermapbox\": [{\"marker\": {\"colorbar\": {\"outlinewidth\": 0, \"ticks\": \"\"}}, \"type\": \"scattermapbox\"}], \"scatterpolar\": [{\"marker\": {\"colorbar\": {\"outlinewidth\": 0, \"ticks\": \"\"}}, \"type\": \"scatterpolar\"}], \"scatterpolargl\": [{\"marker\": {\"colorbar\": {\"outlinewidth\": 0, \"ticks\": \"\"}}, \"type\": \"scatterpolargl\"}], \"scatterternary\": [{\"marker\": {\"colorbar\": {\"outlinewidth\": 0, \"ticks\": \"\"}}, \"type\": \"scatterternary\"}], \"surface\": [{\"colorbar\": {\"outlinewidth\": 0, \"ticks\": \"\"}, \"colorscale\": [[0.0, \"#0d0887\"], [0.1111111111111111, \"#46039f\"], [0.2222222222222222, \"#7201a8\"], [0.3333333333333333, \"#9c179e\"], [0.4444444444444444, \"#bd3786\"], [0.5555555555555556, \"#d8576b\"], [0.6666666666666666, \"#ed7953\"], [0.7777777777777778, \"#fb9f3a\"], [0.8888888888888888, \"#fdca26\"], [1.0, \"#f0f921\"]], \"type\": \"surface\"}], \"table\": [{\"cells\": {\"fill\": {\"color\": \"#EBF0F8\"}, \"line\": {\"color\": \"white\"}}, \"header\": {\"fill\": {\"color\": \"#C8D4E3\"}, \"line\": {\"color\": \"white\"}}, \"type\": \"table\"}]}, \"layout\": {\"annotationdefaults\": {\"arrowcolor\": \"#2a3f5f\", \"arrowhead\": 0, \"arrowwidth\": 1}, \"coloraxis\": {\"colorbar\": {\"outlinewidth\": 0, \"ticks\": \"\"}}, \"colorscale\": {\"diverging\": [[0, \"#8e0152\"], [0.1, \"#c51b7d\"], [0.2, \"#de77ae\"], [0.3, \"#f1b6da\"], [0.4, \"#fde0ef\"], [0.5, \"#f7f7f7\"], [0.6, \"#e6f5d0\"], [0.7, \"#b8e186\"], [0.8, \"#7fbc41\"], [0.9, \"#4d9221\"], [1, \"#276419\"]], \"sequential\": [[0.0, \"#0d0887\"], [0.1111111111111111, \"#46039f\"], [0.2222222222222222, \"#7201a8\"], [0.3333333333333333, \"#9c179e\"], [0.4444444444444444, \"#bd3786\"], [0.5555555555555556, \"#d8576b\"], [0.6666666666666666, \"#ed7953\"], [0.7777777777777778, \"#fb9f3a\"], [0.8888888888888888, \"#fdca26\"], [1.0, \"#f0f921\"]], \"sequentialminus\": [[0.0, \"#0d0887\"], [0.1111111111111111, \"#46039f\"], [0.2222222222222222, \"#7201a8\"], [0.3333333333333333, \"#9c179e\"], [0.4444444444444444, \"#bd3786\"], [0.5555555555555556, \"#d8576b\"], [0.6666666666666666, \"#ed7953\"], [0.7777777777777778, \"#fb9f3a\"], [0.8888888888888888, \"#fdca26\"], [1.0, \"#f0f921\"]]}, \"colorway\": [\"#636efa\", \"#EF553B\", \"#00cc96\", \"#ab63fa\", \"#FFA15A\", \"#19d3f3\", \"#FF6692\", \"#B6E880\", \"#FF97FF\", \"#FECB52\"], \"font\": {\"color\": \"#2a3f5f\"}, \"geo\": {\"bgcolor\": \"white\", \"lakecolor\": \"white\", \"landcolor\": \"#E5ECF6\", \"showlakes\": true, \"showland\": true, \"subunitcolor\": \"white\"}, \"hoverlabel\": {\"align\": \"left\"}, \"hovermode\": \"closest\", \"mapbox\": {\"style\": \"light\"}, \"paper_bgcolor\": \"white\", \"plot_bgcolor\": \"#E5ECF6\", \"polar\": {\"angularaxis\": {\"gridcolor\": \"white\", \"linecolor\": \"white\", \"ticks\": \"\"}, \"bgcolor\": \"#E5ECF6\", \"radialaxis\": {\"gridcolor\": \"white\", \"linecolor\": \"white\", \"ticks\": \"\"}}, \"scene\": {\"xaxis\": {\"backgroundcolor\": \"#E5ECF6\", \"gridcolor\": \"white\", \"gridwidth\": 2, \"linecolor\": \"white\", \"showbackground\": true, \"ticks\": \"\", \"zerolinecolor\": \"white\"}, \"yaxis\": {\"backgroundcolor\": \"#E5ECF6\", \"gridcolor\": \"white\", \"gridwidth\": 2, \"linecolor\": \"white\", \"showbackground\": true, \"ticks\": \"\", \"zerolinecolor\": \"white\"}, \"zaxis\": {\"backgroundcolor\": \"#E5ECF6\", \"gridcolor\": \"white\", \"gridwidth\": 2, \"linecolor\": \"white\", \"showbackground\": true, \"ticks\": \"\", \"zerolinecolor\": \"white\"}}, \"shapedefaults\": {\"line\": {\"color\": \"#2a3f5f\"}}, \"ternary\": {\"aaxis\": {\"gridcolor\": \"white\", \"linecolor\": \"white\", \"ticks\": \"\"}, \"baxis\": {\"gridcolor\": \"white\", \"linecolor\": \"white\", \"ticks\": \"\"}, \"bgcolor\": \"#E5ECF6\", \"caxis\": {\"gridcolor\": \"white\", \"linecolor\": \"white\", \"ticks\": \"\"}}, \"title\": {\"x\": 0.05}, \"xaxis\": {\"automargin\": true, \"gridcolor\": \"white\", \"linecolor\": \"white\", \"ticks\": \"\", \"title\": {\"standoff\": 15}, \"zerolinecolor\": \"white\", \"zerolinewidth\": 2}, \"yaxis\": {\"automargin\": true, \"gridcolor\": \"white\", \"linecolor\": \"white\", \"ticks\": \"\", \"title\": {\"standoff\": 15}, \"zerolinecolor\": \"white\", \"zerolinewidth\": 2}}}, \"title\": {\"text\": \"time serise flu\"}, \"width\": 900, \"xaxis\": {\"anchor\": \"y\", \"domain\": [0.0, 1.0], \"title\": {\"text\": \"date\"}}, \"yaxis\": {\"anchor\": \"x\", \"domain\": [0.0, 1.0], \"title\": {\"text\": \"flu\"}}},\n",
       "                        {\"responsive\": true}\n",
       "                    ).then(function(){\n",
       "                            \n",
       "var gd = document.getElementById('8e75e090-9a62-425b-9b9c-9ec77ae4a963');\n",
       "var x = new MutationObserver(function (mutations, observer) {{\n",
       "        var display = window.getComputedStyle(gd).display;\n",
       "        if (!display || display === 'none') {{\n",
       "            console.log([gd, 'removed!']);\n",
       "            Plotly.purge(gd);\n",
       "            observer.disconnect();\n",
       "        }}\n",
       "}});\n",
       "\n",
       "// Listen for the removal of the full notebook cells\n",
       "var notebookContainer = gd.closest('#notebook-container');\n",
       "if (notebookContainer) {{\n",
       "    x.observe(notebookContainer, {childList: true});\n",
       "}}\n",
       "\n",
       "// Listen for the clearing of the current output cell\n",
       "var outputEl = gd.closest('.output');\n",
       "if (outputEl) {{\n",
       "    x.observe(outputEl, {childList: true});\n",
       "}}\n",
       "\n",
       "                        })\n",
       "                };\n",
       "                });\n",
       "            </script>\n",
       "        </div>"
      ]
     },
     "metadata": {},
     "output_type": "display_data"
    },
    {
     "data": {
      "application/vnd.plotly.v1+json": {
       "config": {
        "plotlyServerURL": "https://plot.ly"
       },
       "data": [
        {
         "hoverlabel": {
          "namelength": 0
         },
         "hovertemplate": "date=%{x}<br>pneumonia=%{y}",
         "legendgroup": "",
         "line": {
          "color": "#636efa",
          "dash": "solid"
         },
         "mode": "lines",
         "name": "",
         "showlegend": false,
         "type": "scatter",
         "x": [
          "2019-12-07",
          "2019-12-08",
          "2019-12-09",
          "2019-12-10",
          "2019-12-11",
          "2019-12-12",
          "2019-12-13",
          "2019-12-14",
          "2019-12-15",
          "2019-12-16",
          "2019-12-17",
          "2019-12-18",
          "2019-12-19",
          "2019-12-20",
          "2019-12-21",
          "2019-12-22",
          "2019-12-23",
          "2019-12-24",
          "2019-12-25",
          "2019-12-26",
          "2019-12-27",
          "2019-12-28",
          "2019-12-29",
          "2019-12-30",
          "2019-12-31",
          "2020-01-01",
          "2020-01-02",
          "2020-01-03",
          "2020-01-04",
          "2020-01-05",
          "2020-01-06",
          "2020-01-07",
          "2020-01-08",
          "2020-01-09",
          "2020-01-10",
          "2020-01-11",
          "2020-01-12",
          "2020-01-13",
          "2020-01-14",
          "2020-01-15",
          "2020-01-16",
          "2020-01-17",
          "2020-01-18",
          "2020-01-19",
          "2020-01-20",
          "2020-01-21",
          "2020-01-22",
          "2020-01-23",
          "2020-01-24",
          "2020-01-25",
          "2020-01-26",
          "2020-01-27",
          "2020-01-28",
          "2020-01-29",
          "2020-01-30",
          "2020-01-31",
          "2020-02-01",
          "2020-02-02",
          "2020-02-03",
          "2020-02-04",
          "2020-02-05",
          "2020-02-06",
          "2020-02-07",
          "2020-02-08",
          "2020-02-09",
          "2020-02-10",
          "2020-02-11",
          "2020-02-12",
          "2020-02-13",
          "2020-02-14",
          "2020-02-15",
          "2020-02-16",
          "2020-02-17",
          "2020-02-18",
          "2020-02-19",
          "2020-02-20",
          "2020-02-21",
          "2020-02-22",
          "2020-02-23",
          "2020-02-24",
          "2020-02-25",
          "2020-02-26",
          "2020-02-27",
          "2020-02-28",
          "2020-02-29",
          "2020-03-01",
          "2020-03-02",
          "2020-03-03",
          "2020-03-04",
          "2020-03-05",
          "2020-03-06",
          "2020-03-07",
          "2020-03-08",
          "2020-03-09",
          "2020-03-10",
          "2020-03-11"
         ],
         "xaxis": "x",
         "y": [
          0.22144,
          0.19617,
          0.3318,
          0.30671,
          0.30299,
          0.30526,
          0.28344,
          0.21671999999999997,
          0.20381,
          0.33216999999999997,
          0.30362,
          0.2918,
          0.28608,
          0.26899,
          0.2249,
          0.1919,
          0.3008,
          0.26544,
          0.19963,
          0.29299000000000003,
          0.26661999999999997,
          0.22535,
          0.21625999999999998,
          0.31561999999999996,
          0.31153000000000003,
          0.4488,
          0.36471,
          0.46598,
          0.49571000000000004,
          0.41644,
          0.66088,
          0.5777,
          11.3932,
          8.93,
          0.62352,
          0.66398,
          0.42062,
          0.56871,
          0.49453,
          0.48116000000000003,
          0.79143,
          0.79361,
          0.55216,
          0.61598,
          3.6371599999999997,
          4.31987,
          3.66416,
          3.18035,
          2.48156,
          3.4092599999999997,
          3.43989,
          4.38777,
          4.5434,
          2.73,
          2.1781099999999998,
          2.1802,
          1.44032,
          1.37923,
          1.33886,
          0.99397,
          0.85588,
          0.79524,
          0.80733,
          0.53789,
          0.46188999999999997,
          0.50871,
          0.40544,
          0.37889,
          0.37753000000000003,
          0.2769,
          0.25471,
          0.35953,
          0.45143999999999995,
          1.00833,
          0.9676899999999999,
          1.15151,
          1.17051,
          1.2703200000000001,
          1.15841,
          1.17887,
          1.02206,
          0.8714200000000001,
          0.75252,
          0.6417,
          0.52989,
          0.44588999999999995,
          0.4408,
          0.39853,
          0.35670999999999997,
          0.31726,
          0.28071,
          0.22762,
          0.20553000000000002,
          0.23961999999999997,
          0.28635,
          0.30208
         ],
         "yaxis": "y"
        }
       ],
       "layout": {
        "height": 400,
        "legend": {
         "tracegroupgap": 0
        },
        "template": {
         "data": {
          "bar": [
           {
            "error_x": {
             "color": "#2a3f5f"
            },
            "error_y": {
             "color": "#2a3f5f"
            },
            "marker": {
             "line": {
              "color": "#E5ECF6",
              "width": 0.5
             }
            },
            "type": "bar"
           }
          ],
          "barpolar": [
           {
            "marker": {
             "line": {
              "color": "#E5ECF6",
              "width": 0.5
             }
            },
            "type": "barpolar"
           }
          ],
          "carpet": [
           {
            "aaxis": {
             "endlinecolor": "#2a3f5f",
             "gridcolor": "white",
             "linecolor": "white",
             "minorgridcolor": "white",
             "startlinecolor": "#2a3f5f"
            },
            "baxis": {
             "endlinecolor": "#2a3f5f",
             "gridcolor": "white",
             "linecolor": "white",
             "minorgridcolor": "white",
             "startlinecolor": "#2a3f5f"
            },
            "type": "carpet"
           }
          ],
          "choropleth": [
           {
            "colorbar": {
             "outlinewidth": 0,
             "ticks": ""
            },
            "type": "choropleth"
           }
          ],
          "contour": [
           {
            "colorbar": {
             "outlinewidth": 0,
             "ticks": ""
            },
            "colorscale": [
             [
              0,
              "#0d0887"
             ],
             [
              0.1111111111111111,
              "#46039f"
             ],
             [
              0.2222222222222222,
              "#7201a8"
             ],
             [
              0.3333333333333333,
              "#9c179e"
             ],
             [
              0.4444444444444444,
              "#bd3786"
             ],
             [
              0.5555555555555556,
              "#d8576b"
             ],
             [
              0.6666666666666666,
              "#ed7953"
             ],
             [
              0.7777777777777778,
              "#fb9f3a"
             ],
             [
              0.8888888888888888,
              "#fdca26"
             ],
             [
              1,
              "#f0f921"
             ]
            ],
            "type": "contour"
           }
          ],
          "contourcarpet": [
           {
            "colorbar": {
             "outlinewidth": 0,
             "ticks": ""
            },
            "type": "contourcarpet"
           }
          ],
          "heatmap": [
           {
            "colorbar": {
             "outlinewidth": 0,
             "ticks": ""
            },
            "colorscale": [
             [
              0,
              "#0d0887"
             ],
             [
              0.1111111111111111,
              "#46039f"
             ],
             [
              0.2222222222222222,
              "#7201a8"
             ],
             [
              0.3333333333333333,
              "#9c179e"
             ],
             [
              0.4444444444444444,
              "#bd3786"
             ],
             [
              0.5555555555555556,
              "#d8576b"
             ],
             [
              0.6666666666666666,
              "#ed7953"
             ],
             [
              0.7777777777777778,
              "#fb9f3a"
             ],
             [
              0.8888888888888888,
              "#fdca26"
             ],
             [
              1,
              "#f0f921"
             ]
            ],
            "type": "heatmap"
           }
          ],
          "heatmapgl": [
           {
            "colorbar": {
             "outlinewidth": 0,
             "ticks": ""
            },
            "colorscale": [
             [
              0,
              "#0d0887"
             ],
             [
              0.1111111111111111,
              "#46039f"
             ],
             [
              0.2222222222222222,
              "#7201a8"
             ],
             [
              0.3333333333333333,
              "#9c179e"
             ],
             [
              0.4444444444444444,
              "#bd3786"
             ],
             [
              0.5555555555555556,
              "#d8576b"
             ],
             [
              0.6666666666666666,
              "#ed7953"
             ],
             [
              0.7777777777777778,
              "#fb9f3a"
             ],
             [
              0.8888888888888888,
              "#fdca26"
             ],
             [
              1,
              "#f0f921"
             ]
            ],
            "type": "heatmapgl"
           }
          ],
          "histogram": [
           {
            "marker": {
             "colorbar": {
              "outlinewidth": 0,
              "ticks": ""
             }
            },
            "type": "histogram"
           }
          ],
          "histogram2d": [
           {
            "colorbar": {
             "outlinewidth": 0,
             "ticks": ""
            },
            "colorscale": [
             [
              0,
              "#0d0887"
             ],
             [
              0.1111111111111111,
              "#46039f"
             ],
             [
              0.2222222222222222,
              "#7201a8"
             ],
             [
              0.3333333333333333,
              "#9c179e"
             ],
             [
              0.4444444444444444,
              "#bd3786"
             ],
             [
              0.5555555555555556,
              "#d8576b"
             ],
             [
              0.6666666666666666,
              "#ed7953"
             ],
             [
              0.7777777777777778,
              "#fb9f3a"
             ],
             [
              0.8888888888888888,
              "#fdca26"
             ],
             [
              1,
              "#f0f921"
             ]
            ],
            "type": "histogram2d"
           }
          ],
          "histogram2dcontour": [
           {
            "colorbar": {
             "outlinewidth": 0,
             "ticks": ""
            },
            "colorscale": [
             [
              0,
              "#0d0887"
             ],
             [
              0.1111111111111111,
              "#46039f"
             ],
             [
              0.2222222222222222,
              "#7201a8"
             ],
             [
              0.3333333333333333,
              "#9c179e"
             ],
             [
              0.4444444444444444,
              "#bd3786"
             ],
             [
              0.5555555555555556,
              "#d8576b"
             ],
             [
              0.6666666666666666,
              "#ed7953"
             ],
             [
              0.7777777777777778,
              "#fb9f3a"
             ],
             [
              0.8888888888888888,
              "#fdca26"
             ],
             [
              1,
              "#f0f921"
             ]
            ],
            "type": "histogram2dcontour"
           }
          ],
          "mesh3d": [
           {
            "colorbar": {
             "outlinewidth": 0,
             "ticks": ""
            },
            "type": "mesh3d"
           }
          ],
          "parcoords": [
           {
            "line": {
             "colorbar": {
              "outlinewidth": 0,
              "ticks": ""
             }
            },
            "type": "parcoords"
           }
          ],
          "pie": [
           {
            "automargin": true,
            "type": "pie"
           }
          ],
          "scatter": [
           {
            "marker": {
             "colorbar": {
              "outlinewidth": 0,
              "ticks": ""
             }
            },
            "type": "scatter"
           }
          ],
          "scatter3d": [
           {
            "line": {
             "colorbar": {
              "outlinewidth": 0,
              "ticks": ""
             }
            },
            "marker": {
             "colorbar": {
              "outlinewidth": 0,
              "ticks": ""
             }
            },
            "type": "scatter3d"
           }
          ],
          "scattercarpet": [
           {
            "marker": {
             "colorbar": {
              "outlinewidth": 0,
              "ticks": ""
             }
            },
            "type": "scattercarpet"
           }
          ],
          "scattergeo": [
           {
            "marker": {
             "colorbar": {
              "outlinewidth": 0,
              "ticks": ""
             }
            },
            "type": "scattergeo"
           }
          ],
          "scattergl": [
           {
            "marker": {
             "colorbar": {
              "outlinewidth": 0,
              "ticks": ""
             }
            },
            "type": "scattergl"
           }
          ],
          "scattermapbox": [
           {
            "marker": {
             "colorbar": {
              "outlinewidth": 0,
              "ticks": ""
             }
            },
            "type": "scattermapbox"
           }
          ],
          "scatterpolar": [
           {
            "marker": {
             "colorbar": {
              "outlinewidth": 0,
              "ticks": ""
             }
            },
            "type": "scatterpolar"
           }
          ],
          "scatterpolargl": [
           {
            "marker": {
             "colorbar": {
              "outlinewidth": 0,
              "ticks": ""
             }
            },
            "type": "scatterpolargl"
           }
          ],
          "scatterternary": [
           {
            "marker": {
             "colorbar": {
              "outlinewidth": 0,
              "ticks": ""
             }
            },
            "type": "scatterternary"
           }
          ],
          "surface": [
           {
            "colorbar": {
             "outlinewidth": 0,
             "ticks": ""
            },
            "colorscale": [
             [
              0,
              "#0d0887"
             ],
             [
              0.1111111111111111,
              "#46039f"
             ],
             [
              0.2222222222222222,
              "#7201a8"
             ],
             [
              0.3333333333333333,
              "#9c179e"
             ],
             [
              0.4444444444444444,
              "#bd3786"
             ],
             [
              0.5555555555555556,
              "#d8576b"
             ],
             [
              0.6666666666666666,
              "#ed7953"
             ],
             [
              0.7777777777777778,
              "#fb9f3a"
             ],
             [
              0.8888888888888888,
              "#fdca26"
             ],
             [
              1,
              "#f0f921"
             ]
            ],
            "type": "surface"
           }
          ],
          "table": [
           {
            "cells": {
             "fill": {
              "color": "#EBF0F8"
             },
             "line": {
              "color": "white"
             }
            },
            "header": {
             "fill": {
              "color": "#C8D4E3"
             },
             "line": {
              "color": "white"
             }
            },
            "type": "table"
           }
          ]
         },
         "layout": {
          "annotationdefaults": {
           "arrowcolor": "#2a3f5f",
           "arrowhead": 0,
           "arrowwidth": 1
          },
          "coloraxis": {
           "colorbar": {
            "outlinewidth": 0,
            "ticks": ""
           }
          },
          "colorscale": {
           "diverging": [
            [
             0,
             "#8e0152"
            ],
            [
             0.1,
             "#c51b7d"
            ],
            [
             0.2,
             "#de77ae"
            ],
            [
             0.3,
             "#f1b6da"
            ],
            [
             0.4,
             "#fde0ef"
            ],
            [
             0.5,
             "#f7f7f7"
            ],
            [
             0.6,
             "#e6f5d0"
            ],
            [
             0.7,
             "#b8e186"
            ],
            [
             0.8,
             "#7fbc41"
            ],
            [
             0.9,
             "#4d9221"
            ],
            [
             1,
             "#276419"
            ]
           ],
           "sequential": [
            [
             0,
             "#0d0887"
            ],
            [
             0.1111111111111111,
             "#46039f"
            ],
            [
             0.2222222222222222,
             "#7201a8"
            ],
            [
             0.3333333333333333,
             "#9c179e"
            ],
            [
             0.4444444444444444,
             "#bd3786"
            ],
            [
             0.5555555555555556,
             "#d8576b"
            ],
            [
             0.6666666666666666,
             "#ed7953"
            ],
            [
             0.7777777777777778,
             "#fb9f3a"
            ],
            [
             0.8888888888888888,
             "#fdca26"
            ],
            [
             1,
             "#f0f921"
            ]
           ],
           "sequentialminus": [
            [
             0,
             "#0d0887"
            ],
            [
             0.1111111111111111,
             "#46039f"
            ],
            [
             0.2222222222222222,
             "#7201a8"
            ],
            [
             0.3333333333333333,
             "#9c179e"
            ],
            [
             0.4444444444444444,
             "#bd3786"
            ],
            [
             0.5555555555555556,
             "#d8576b"
            ],
            [
             0.6666666666666666,
             "#ed7953"
            ],
            [
             0.7777777777777778,
             "#fb9f3a"
            ],
            [
             0.8888888888888888,
             "#fdca26"
            ],
            [
             1,
             "#f0f921"
            ]
           ]
          },
          "colorway": [
           "#636efa",
           "#EF553B",
           "#00cc96",
           "#ab63fa",
           "#FFA15A",
           "#19d3f3",
           "#FF6692",
           "#B6E880",
           "#FF97FF",
           "#FECB52"
          ],
          "font": {
           "color": "#2a3f5f"
          },
          "geo": {
           "bgcolor": "white",
           "lakecolor": "white",
           "landcolor": "#E5ECF6",
           "showlakes": true,
           "showland": true,
           "subunitcolor": "white"
          },
          "hoverlabel": {
           "align": "left"
          },
          "hovermode": "closest",
          "mapbox": {
           "style": "light"
          },
          "paper_bgcolor": "white",
          "plot_bgcolor": "#E5ECF6",
          "polar": {
           "angularaxis": {
            "gridcolor": "white",
            "linecolor": "white",
            "ticks": ""
           },
           "bgcolor": "#E5ECF6",
           "radialaxis": {
            "gridcolor": "white",
            "linecolor": "white",
            "ticks": ""
           }
          },
          "scene": {
           "xaxis": {
            "backgroundcolor": "#E5ECF6",
            "gridcolor": "white",
            "gridwidth": 2,
            "linecolor": "white",
            "showbackground": true,
            "ticks": "",
            "zerolinecolor": "white"
           },
           "yaxis": {
            "backgroundcolor": "#E5ECF6",
            "gridcolor": "white",
            "gridwidth": 2,
            "linecolor": "white",
            "showbackground": true,
            "ticks": "",
            "zerolinecolor": "white"
           },
           "zaxis": {
            "backgroundcolor": "#E5ECF6",
            "gridcolor": "white",
            "gridwidth": 2,
            "linecolor": "white",
            "showbackground": true,
            "ticks": "",
            "zerolinecolor": "white"
           }
          },
          "shapedefaults": {
           "line": {
            "color": "#2a3f5f"
           }
          },
          "ternary": {
           "aaxis": {
            "gridcolor": "white",
            "linecolor": "white",
            "ticks": ""
           },
           "baxis": {
            "gridcolor": "white",
            "linecolor": "white",
            "ticks": ""
           },
           "bgcolor": "#E5ECF6",
           "caxis": {
            "gridcolor": "white",
            "linecolor": "white",
            "ticks": ""
           }
          },
          "title": {
           "x": 0.05
          },
          "xaxis": {
           "automargin": true,
           "gridcolor": "white",
           "linecolor": "white",
           "ticks": "",
           "title": {
            "standoff": 15
           },
           "zerolinecolor": "white",
           "zerolinewidth": 2
          },
          "yaxis": {
           "automargin": true,
           "gridcolor": "white",
           "linecolor": "white",
           "ticks": "",
           "title": {
            "standoff": 15
           },
           "zerolinecolor": "white",
           "zerolinewidth": 2
          }
         }
        },
        "title": {
         "text": "time serise pneumonia"
        },
        "width": 900,
        "xaxis": {
         "anchor": "y",
         "domain": [
          0,
          1
         ],
         "title": {
          "text": "date"
         }
        },
        "yaxis": {
         "anchor": "x",
         "domain": [
          0,
          1
         ],
         "title": {
          "text": "pneumonia"
         }
        }
       }
      },
      "text/html": [
       "<div>\n",
       "        \n",
       "        \n",
       "            <div id=\"ab3d8edc-a863-4572-86e5-4672c2e6c7d6\" class=\"plotly-graph-div\" style=\"height:400px; width:900px;\"></div>\n",
       "            <script type=\"text/javascript\">\n",
       "                require([\"plotly\"], function(Plotly) {\n",
       "                    window.PLOTLYENV=window.PLOTLYENV || {};\n",
       "                    \n",
       "                if (document.getElementById(\"ab3d8edc-a863-4572-86e5-4672c2e6c7d6\")) {\n",
       "                    Plotly.newPlot(\n",
       "                        'ab3d8edc-a863-4572-86e5-4672c2e6c7d6',\n",
       "                        [{\"hoverlabel\": {\"namelength\": 0}, \"hovertemplate\": \"date=%{x}<br>pneumonia=%{y}\", \"legendgroup\": \"\", \"line\": {\"color\": \"#636efa\", \"dash\": \"solid\"}, \"mode\": \"lines\", \"name\": \"\", \"showlegend\": false, \"type\": \"scatter\", \"x\": [\"2019-12-07\", \"2019-12-08\", \"2019-12-09\", \"2019-12-10\", \"2019-12-11\", \"2019-12-12\", \"2019-12-13\", \"2019-12-14\", \"2019-12-15\", \"2019-12-16\", \"2019-12-17\", \"2019-12-18\", \"2019-12-19\", \"2019-12-20\", \"2019-12-21\", \"2019-12-22\", \"2019-12-23\", \"2019-12-24\", \"2019-12-25\", \"2019-12-26\", \"2019-12-27\", \"2019-12-28\", \"2019-12-29\", \"2019-12-30\", \"2019-12-31\", \"2020-01-01\", \"2020-01-02\", \"2020-01-03\", \"2020-01-04\", \"2020-01-05\", \"2020-01-06\", \"2020-01-07\", \"2020-01-08\", \"2020-01-09\", \"2020-01-10\", \"2020-01-11\", \"2020-01-12\", \"2020-01-13\", \"2020-01-14\", \"2020-01-15\", \"2020-01-16\", \"2020-01-17\", \"2020-01-18\", \"2020-01-19\", \"2020-01-20\", \"2020-01-21\", \"2020-01-22\", \"2020-01-23\", \"2020-01-24\", \"2020-01-25\", \"2020-01-26\", \"2020-01-27\", \"2020-01-28\", \"2020-01-29\", \"2020-01-30\", \"2020-01-31\", \"2020-02-01\", \"2020-02-02\", \"2020-02-03\", \"2020-02-04\", \"2020-02-05\", \"2020-02-06\", \"2020-02-07\", \"2020-02-08\", \"2020-02-09\", \"2020-02-10\", \"2020-02-11\", \"2020-02-12\", \"2020-02-13\", \"2020-02-14\", \"2020-02-15\", \"2020-02-16\", \"2020-02-17\", \"2020-02-18\", \"2020-02-19\", \"2020-02-20\", \"2020-02-21\", \"2020-02-22\", \"2020-02-23\", \"2020-02-24\", \"2020-02-25\", \"2020-02-26\", \"2020-02-27\", \"2020-02-28\", \"2020-02-29\", \"2020-03-01\", \"2020-03-02\", \"2020-03-03\", \"2020-03-04\", \"2020-03-05\", \"2020-03-06\", \"2020-03-07\", \"2020-03-08\", \"2020-03-09\", \"2020-03-10\", \"2020-03-11\"], \"xaxis\": \"x\", \"y\": [0.22144, 0.19617, 0.3318, 0.30671, 0.30299, 0.30526, 0.28344, 0.21671999999999997, 0.20381, 0.33216999999999997, 0.30362, 0.2918, 0.28608, 0.26899, 0.2249, 0.1919, 0.3008, 0.26544, 0.19963, 0.29299000000000003, 0.26661999999999997, 0.22535, 0.21625999999999998, 0.31561999999999996, 0.31153000000000003, 0.4488, 0.36471, 0.46598, 0.49571000000000004, 0.41644, 0.66088, 0.5777, 11.3932, 8.93, 0.62352, 0.66398, 0.42062, 0.56871, 0.49453, 0.48116000000000003, 0.79143, 0.79361, 0.55216, 0.61598, 3.6371599999999997, 4.31987, 3.66416, 3.18035, 2.48156, 3.4092599999999997, 3.43989, 4.38777, 4.5434, 2.73, 2.1781099999999998, 2.1802, 1.44032, 1.37923, 1.33886, 0.99397, 0.85588, 0.79524, 0.80733, 0.53789, 0.46188999999999997, 0.50871, 0.40544, 0.37889, 0.37753000000000003, 0.2769, 0.25471, 0.35953, 0.45143999999999995, 1.00833, 0.9676899999999999, 1.15151, 1.17051, 1.2703200000000001, 1.15841, 1.17887, 1.02206, 0.8714200000000001, 0.75252, 0.6417, 0.52989, 0.44588999999999995, 0.4408, 0.39853, 0.35670999999999997, 0.31726, 0.28071, 0.22762, 0.20553000000000002, 0.23961999999999997, 0.28635, 0.30208], \"yaxis\": \"y\"}],\n",
       "                        {\"height\": 400, \"legend\": {\"tracegroupgap\": 0}, \"template\": {\"data\": {\"bar\": [{\"error_x\": {\"color\": \"#2a3f5f\"}, \"error_y\": {\"color\": \"#2a3f5f\"}, \"marker\": {\"line\": {\"color\": \"#E5ECF6\", \"width\": 0.5}}, \"type\": \"bar\"}], \"barpolar\": [{\"marker\": {\"line\": {\"color\": \"#E5ECF6\", \"width\": 0.5}}, \"type\": \"barpolar\"}], \"carpet\": [{\"aaxis\": {\"endlinecolor\": \"#2a3f5f\", \"gridcolor\": \"white\", \"linecolor\": \"white\", \"minorgridcolor\": \"white\", \"startlinecolor\": \"#2a3f5f\"}, \"baxis\": {\"endlinecolor\": \"#2a3f5f\", \"gridcolor\": \"white\", \"linecolor\": \"white\", \"minorgridcolor\": \"white\", \"startlinecolor\": \"#2a3f5f\"}, \"type\": \"carpet\"}], \"choropleth\": [{\"colorbar\": {\"outlinewidth\": 0, \"ticks\": \"\"}, \"type\": \"choropleth\"}], \"contour\": [{\"colorbar\": {\"outlinewidth\": 0, \"ticks\": \"\"}, \"colorscale\": [[0.0, \"#0d0887\"], [0.1111111111111111, \"#46039f\"], [0.2222222222222222, \"#7201a8\"], [0.3333333333333333, \"#9c179e\"], [0.4444444444444444, \"#bd3786\"], [0.5555555555555556, \"#d8576b\"], [0.6666666666666666, \"#ed7953\"], [0.7777777777777778, \"#fb9f3a\"], [0.8888888888888888, \"#fdca26\"], [1.0, \"#f0f921\"]], \"type\": \"contour\"}], \"contourcarpet\": [{\"colorbar\": {\"outlinewidth\": 0, \"ticks\": \"\"}, \"type\": \"contourcarpet\"}], \"heatmap\": [{\"colorbar\": {\"outlinewidth\": 0, \"ticks\": \"\"}, \"colorscale\": [[0.0, \"#0d0887\"], [0.1111111111111111, \"#46039f\"], [0.2222222222222222, \"#7201a8\"], [0.3333333333333333, \"#9c179e\"], [0.4444444444444444, \"#bd3786\"], [0.5555555555555556, \"#d8576b\"], [0.6666666666666666, \"#ed7953\"], [0.7777777777777778, \"#fb9f3a\"], [0.8888888888888888, \"#fdca26\"], [1.0, \"#f0f921\"]], \"type\": \"heatmap\"}], \"heatmapgl\": [{\"colorbar\": {\"outlinewidth\": 0, \"ticks\": \"\"}, \"colorscale\": [[0.0, \"#0d0887\"], [0.1111111111111111, \"#46039f\"], [0.2222222222222222, \"#7201a8\"], [0.3333333333333333, \"#9c179e\"], [0.4444444444444444, \"#bd3786\"], [0.5555555555555556, \"#d8576b\"], [0.6666666666666666, \"#ed7953\"], [0.7777777777777778, \"#fb9f3a\"], [0.8888888888888888, \"#fdca26\"], [1.0, \"#f0f921\"]], \"type\": \"heatmapgl\"}], \"histogram\": [{\"marker\": {\"colorbar\": {\"outlinewidth\": 0, \"ticks\": \"\"}}, \"type\": \"histogram\"}], \"histogram2d\": [{\"colorbar\": {\"outlinewidth\": 0, \"ticks\": \"\"}, \"colorscale\": [[0.0, \"#0d0887\"], [0.1111111111111111, \"#46039f\"], [0.2222222222222222, \"#7201a8\"], [0.3333333333333333, \"#9c179e\"], [0.4444444444444444, \"#bd3786\"], [0.5555555555555556, \"#d8576b\"], [0.6666666666666666, \"#ed7953\"], [0.7777777777777778, \"#fb9f3a\"], [0.8888888888888888, \"#fdca26\"], [1.0, \"#f0f921\"]], \"type\": \"histogram2d\"}], \"histogram2dcontour\": [{\"colorbar\": {\"outlinewidth\": 0, \"ticks\": \"\"}, \"colorscale\": [[0.0, \"#0d0887\"], [0.1111111111111111, \"#46039f\"], [0.2222222222222222, \"#7201a8\"], [0.3333333333333333, \"#9c179e\"], [0.4444444444444444, \"#bd3786\"], [0.5555555555555556, \"#d8576b\"], [0.6666666666666666, \"#ed7953\"], [0.7777777777777778, \"#fb9f3a\"], [0.8888888888888888, \"#fdca26\"], [1.0, \"#f0f921\"]], \"type\": \"histogram2dcontour\"}], \"mesh3d\": [{\"colorbar\": {\"outlinewidth\": 0, \"ticks\": \"\"}, \"type\": \"mesh3d\"}], \"parcoords\": [{\"line\": {\"colorbar\": {\"outlinewidth\": 0, \"ticks\": \"\"}}, \"type\": \"parcoords\"}], \"pie\": [{\"automargin\": true, \"type\": \"pie\"}], \"scatter\": [{\"marker\": {\"colorbar\": {\"outlinewidth\": 0, \"ticks\": \"\"}}, \"type\": \"scatter\"}], \"scatter3d\": [{\"line\": {\"colorbar\": {\"outlinewidth\": 0, \"ticks\": \"\"}}, \"marker\": {\"colorbar\": {\"outlinewidth\": 0, \"ticks\": \"\"}}, \"type\": \"scatter3d\"}], \"scattercarpet\": [{\"marker\": {\"colorbar\": {\"outlinewidth\": 0, \"ticks\": \"\"}}, \"type\": \"scattercarpet\"}], \"scattergeo\": [{\"marker\": {\"colorbar\": {\"outlinewidth\": 0, \"ticks\": \"\"}}, \"type\": \"scattergeo\"}], \"scattergl\": [{\"marker\": {\"colorbar\": {\"outlinewidth\": 0, \"ticks\": \"\"}}, \"type\": \"scattergl\"}], \"scattermapbox\": [{\"marker\": {\"colorbar\": {\"outlinewidth\": 0, \"ticks\": \"\"}}, \"type\": \"scattermapbox\"}], \"scatterpolar\": [{\"marker\": {\"colorbar\": {\"outlinewidth\": 0, \"ticks\": \"\"}}, \"type\": \"scatterpolar\"}], \"scatterpolargl\": [{\"marker\": {\"colorbar\": {\"outlinewidth\": 0, \"ticks\": \"\"}}, \"type\": \"scatterpolargl\"}], \"scatterternary\": [{\"marker\": {\"colorbar\": {\"outlinewidth\": 0, \"ticks\": \"\"}}, \"type\": \"scatterternary\"}], \"surface\": [{\"colorbar\": {\"outlinewidth\": 0, \"ticks\": \"\"}, \"colorscale\": [[0.0, \"#0d0887\"], [0.1111111111111111, \"#46039f\"], [0.2222222222222222, \"#7201a8\"], [0.3333333333333333, \"#9c179e\"], [0.4444444444444444, \"#bd3786\"], [0.5555555555555556, \"#d8576b\"], [0.6666666666666666, \"#ed7953\"], [0.7777777777777778, \"#fb9f3a\"], [0.8888888888888888, \"#fdca26\"], [1.0, \"#f0f921\"]], \"type\": \"surface\"}], \"table\": [{\"cells\": {\"fill\": {\"color\": \"#EBF0F8\"}, \"line\": {\"color\": \"white\"}}, \"header\": {\"fill\": {\"color\": \"#C8D4E3\"}, \"line\": {\"color\": \"white\"}}, \"type\": \"table\"}]}, \"layout\": {\"annotationdefaults\": {\"arrowcolor\": \"#2a3f5f\", \"arrowhead\": 0, \"arrowwidth\": 1}, \"coloraxis\": {\"colorbar\": {\"outlinewidth\": 0, \"ticks\": \"\"}}, \"colorscale\": {\"diverging\": [[0, \"#8e0152\"], [0.1, \"#c51b7d\"], [0.2, \"#de77ae\"], [0.3, \"#f1b6da\"], [0.4, \"#fde0ef\"], [0.5, \"#f7f7f7\"], [0.6, \"#e6f5d0\"], [0.7, \"#b8e186\"], [0.8, \"#7fbc41\"], [0.9, \"#4d9221\"], [1, \"#276419\"]], \"sequential\": [[0.0, \"#0d0887\"], [0.1111111111111111, \"#46039f\"], [0.2222222222222222, \"#7201a8\"], [0.3333333333333333, \"#9c179e\"], [0.4444444444444444, \"#bd3786\"], [0.5555555555555556, \"#d8576b\"], [0.6666666666666666, \"#ed7953\"], [0.7777777777777778, \"#fb9f3a\"], [0.8888888888888888, \"#fdca26\"], [1.0, \"#f0f921\"]], \"sequentialminus\": [[0.0, \"#0d0887\"], [0.1111111111111111, \"#46039f\"], [0.2222222222222222, \"#7201a8\"], [0.3333333333333333, \"#9c179e\"], [0.4444444444444444, \"#bd3786\"], [0.5555555555555556, \"#d8576b\"], [0.6666666666666666, \"#ed7953\"], [0.7777777777777778, \"#fb9f3a\"], [0.8888888888888888, \"#fdca26\"], [1.0, \"#f0f921\"]]}, \"colorway\": [\"#636efa\", \"#EF553B\", \"#00cc96\", \"#ab63fa\", \"#FFA15A\", \"#19d3f3\", \"#FF6692\", \"#B6E880\", \"#FF97FF\", \"#FECB52\"], \"font\": {\"color\": \"#2a3f5f\"}, \"geo\": {\"bgcolor\": \"white\", \"lakecolor\": \"white\", \"landcolor\": \"#E5ECF6\", \"showlakes\": true, \"showland\": true, \"subunitcolor\": \"white\"}, \"hoverlabel\": {\"align\": \"left\"}, \"hovermode\": \"closest\", \"mapbox\": {\"style\": \"light\"}, \"paper_bgcolor\": \"white\", \"plot_bgcolor\": \"#E5ECF6\", \"polar\": {\"angularaxis\": {\"gridcolor\": \"white\", \"linecolor\": \"white\", \"ticks\": \"\"}, \"bgcolor\": \"#E5ECF6\", \"radialaxis\": {\"gridcolor\": \"white\", \"linecolor\": \"white\", \"ticks\": \"\"}}, \"scene\": {\"xaxis\": {\"backgroundcolor\": \"#E5ECF6\", \"gridcolor\": \"white\", \"gridwidth\": 2, \"linecolor\": \"white\", \"showbackground\": true, \"ticks\": \"\", \"zerolinecolor\": \"white\"}, \"yaxis\": {\"backgroundcolor\": \"#E5ECF6\", \"gridcolor\": \"white\", \"gridwidth\": 2, \"linecolor\": \"white\", \"showbackground\": true, \"ticks\": \"\", \"zerolinecolor\": \"white\"}, \"zaxis\": {\"backgroundcolor\": \"#E5ECF6\", \"gridcolor\": \"white\", \"gridwidth\": 2, \"linecolor\": \"white\", \"showbackground\": true, \"ticks\": \"\", \"zerolinecolor\": \"white\"}}, \"shapedefaults\": {\"line\": {\"color\": \"#2a3f5f\"}}, \"ternary\": {\"aaxis\": {\"gridcolor\": \"white\", \"linecolor\": \"white\", \"ticks\": \"\"}, \"baxis\": {\"gridcolor\": \"white\", \"linecolor\": \"white\", \"ticks\": \"\"}, \"bgcolor\": \"#E5ECF6\", \"caxis\": {\"gridcolor\": \"white\", \"linecolor\": \"white\", \"ticks\": \"\"}}, \"title\": {\"x\": 0.05}, \"xaxis\": {\"automargin\": true, \"gridcolor\": \"white\", \"linecolor\": \"white\", \"ticks\": \"\", \"title\": {\"standoff\": 15}, \"zerolinecolor\": \"white\", \"zerolinewidth\": 2}, \"yaxis\": {\"automargin\": true, \"gridcolor\": \"white\", \"linecolor\": \"white\", \"ticks\": \"\", \"title\": {\"standoff\": 15}, \"zerolinecolor\": \"white\", \"zerolinewidth\": 2}}}, \"title\": {\"text\": \"time serise pneumonia\"}, \"width\": 900, \"xaxis\": {\"anchor\": \"y\", \"domain\": [0.0, 1.0], \"title\": {\"text\": \"date\"}}, \"yaxis\": {\"anchor\": \"x\", \"domain\": [0.0, 1.0], \"title\": {\"text\": \"pneumonia\"}}},\n",
       "                        {\"responsive\": true}\n",
       "                    ).then(function(){\n",
       "                            \n",
       "var gd = document.getElementById('ab3d8edc-a863-4572-86e5-4672c2e6c7d6');\n",
       "var x = new MutationObserver(function (mutations, observer) {{\n",
       "        var display = window.getComputedStyle(gd).display;\n",
       "        if (!display || display === 'none') {{\n",
       "            console.log([gd, 'removed!']);\n",
       "            Plotly.purge(gd);\n",
       "            observer.disconnect();\n",
       "        }}\n",
       "}});\n",
       "\n",
       "// Listen for the removal of the full notebook cells\n",
       "var notebookContainer = gd.closest('#notebook-container');\n",
       "if (notebookContainer) {{\n",
       "    x.observe(notebookContainer, {childList: true});\n",
       "}}\n",
       "\n",
       "// Listen for the clearing of the current output cell\n",
       "var outputEl = gd.closest('.output');\n",
       "if (outputEl) {{\n",
       "    x.observe(outputEl, {childList: true});\n",
       "}}\n",
       "\n",
       "                        })\n",
       "                };\n",
       "                });\n",
       "            </script>\n",
       "        </div>"
      ]
     },
     "metadata": {},
     "output_type": "display_data"
    },
    {
     "data": {
      "application/vnd.plotly.v1+json": {
       "config": {
        "plotlyServerURL": "https://plot.ly"
       },
       "data": [
        {
         "hoverlabel": {
          "namelength": 0
         },
         "hovertemplate": "date=%{x}<br>coronavirus=%{y}",
         "legendgroup": "",
         "line": {
          "color": "#636efa",
          "dash": "solid"
         },
         "mode": "lines",
         "name": "",
         "showlegend": false,
         "type": "scatter",
         "x": [
          "2019-12-07",
          "2019-12-08",
          "2019-12-09",
          "2019-12-10",
          "2019-12-11",
          "2019-12-12",
          "2019-12-13",
          "2019-12-14",
          "2019-12-15",
          "2019-12-16",
          "2019-12-17",
          "2019-12-18",
          "2019-12-19",
          "2019-12-20",
          "2019-12-21",
          "2019-12-22",
          "2019-12-23",
          "2019-12-24",
          "2019-12-25",
          "2019-12-26",
          "2019-12-27",
          "2019-12-28",
          "2019-12-29",
          "2019-12-30",
          "2019-12-31",
          "2020-01-01",
          "2020-01-02",
          "2020-01-03",
          "2020-01-04",
          "2020-01-05",
          "2020-01-06",
          "2020-01-07",
          "2020-01-08",
          "2020-01-09",
          "2020-01-10",
          "2020-01-11",
          "2020-01-12",
          "2020-01-13",
          "2020-01-14",
          "2020-01-15",
          "2020-01-16",
          "2020-01-17",
          "2020-01-18",
          "2020-01-19",
          "2020-01-20",
          "2020-01-21",
          "2020-01-22",
          "2020-01-23",
          "2020-01-24",
          "2020-01-25",
          "2020-01-26",
          "2020-01-27",
          "2020-01-28",
          "2020-01-29",
          "2020-01-30",
          "2020-01-31",
          "2020-02-01",
          "2020-02-02",
          "2020-02-03",
          "2020-02-04",
          "2020-02-05",
          "2020-02-06",
          "2020-02-07",
          "2020-02-08",
          "2020-02-09",
          "2020-02-10",
          "2020-02-11",
          "2020-02-12",
          "2020-02-13",
          "2020-02-14",
          "2020-02-15",
          "2020-02-16",
          "2020-02-17",
          "2020-02-18",
          "2020-02-19",
          "2020-02-20",
          "2020-02-21",
          "2020-02-22",
          "2020-02-23",
          "2020-02-24",
          "2020-02-25",
          "2020-02-26",
          "2020-02-27",
          "2020-02-28",
          "2020-02-29",
          "2020-03-01",
          "2020-03-02",
          "2020-03-03",
          "2020-03-04",
          "2020-03-05",
          "2020-03-06",
          "2020-03-07",
          "2020-03-08",
          "2020-03-09",
          "2020-03-10",
          "2020-03-11"
         ],
         "xaxis": "x",
         "y": [
          0.013090000000000001,
          0.00836,
          0.01272,
          0.01881,
          0.01854,
          0.0199,
          0.01881,
          0.01499,
          0.01163,
          0.015359999999999999,
          0.02245,
          0.01999,
          0.0189,
          0.01854,
          0.01599,
          0.01427,
          0.01772,
          0.02418,
          0.01163,
          0.01518,
          0.02363,
          0.01609,
          0.01181,
          0.02054,
          0.022359999999999998,
          0.01699,
          0.018269999999999998,
          0.02845,
          0.02136,
          0.01927,
          0.03154,
          0.03927,
          0.02636,
          39.621809999999996,
          11.13921,
          0.50434,
          0.21144000000000002,
          0.19244,
          0.25108,
          0.15535,
          0.38498000000000004,
          0.55043,
          0.26261999999999996,
          0.32661999999999997,
          20.6961,
          35.332840000000004,
          29.744740000000004,
          100,
          86.11541,
          62.84846999999999,
          39.627720000000004,
          57.074459999999995,
          72.63073,
          52.06261,
          45.93889,
          58.4187,
          41.5073,
          41.736470000000004,
          50.1994,
          37.288059999999994,
          35.230940000000004,
          39.3959,
          31.71404,
          40.46614,
          36.07691,
          52.11234,
          18.13918,
          15.909970000000001,
          15.08472,
          16.94803,
          10.34468,
          9.79906,
          10.98521,
          14.97945,
          40.759859999999996,
          59.21885,
          72.15665,
          85.23907,
          82.90014000000001,
          79.89478000000001,
          79.95441,
          71.26268,
          71.07204,
          66.20619,
          61.040530000000004,
          56.20421999999999,
          60.86853000000001,
          47.17367,
          39.84053,
          33.24218,
          29.61647,
          26.90492,
          26.4902,
          29.792279999999998,
          28.495140000000003,
          24.02346
         ],
         "yaxis": "y"
        }
       ],
       "layout": {
        "height": 400,
        "legend": {
         "tracegroupgap": 0
        },
        "template": {
         "data": {
          "bar": [
           {
            "error_x": {
             "color": "#2a3f5f"
            },
            "error_y": {
             "color": "#2a3f5f"
            },
            "marker": {
             "line": {
              "color": "#E5ECF6",
              "width": 0.5
             }
            },
            "type": "bar"
           }
          ],
          "barpolar": [
           {
            "marker": {
             "line": {
              "color": "#E5ECF6",
              "width": 0.5
             }
            },
            "type": "barpolar"
           }
          ],
          "carpet": [
           {
            "aaxis": {
             "endlinecolor": "#2a3f5f",
             "gridcolor": "white",
             "linecolor": "white",
             "minorgridcolor": "white",
             "startlinecolor": "#2a3f5f"
            },
            "baxis": {
             "endlinecolor": "#2a3f5f",
             "gridcolor": "white",
             "linecolor": "white",
             "minorgridcolor": "white",
             "startlinecolor": "#2a3f5f"
            },
            "type": "carpet"
           }
          ],
          "choropleth": [
           {
            "colorbar": {
             "outlinewidth": 0,
             "ticks": ""
            },
            "type": "choropleth"
           }
          ],
          "contour": [
           {
            "colorbar": {
             "outlinewidth": 0,
             "ticks": ""
            },
            "colorscale": [
             [
              0,
              "#0d0887"
             ],
             [
              0.1111111111111111,
              "#46039f"
             ],
             [
              0.2222222222222222,
              "#7201a8"
             ],
             [
              0.3333333333333333,
              "#9c179e"
             ],
             [
              0.4444444444444444,
              "#bd3786"
             ],
             [
              0.5555555555555556,
              "#d8576b"
             ],
             [
              0.6666666666666666,
              "#ed7953"
             ],
             [
              0.7777777777777778,
              "#fb9f3a"
             ],
             [
              0.8888888888888888,
              "#fdca26"
             ],
             [
              1,
              "#f0f921"
             ]
            ],
            "type": "contour"
           }
          ],
          "contourcarpet": [
           {
            "colorbar": {
             "outlinewidth": 0,
             "ticks": ""
            },
            "type": "contourcarpet"
           }
          ],
          "heatmap": [
           {
            "colorbar": {
             "outlinewidth": 0,
             "ticks": ""
            },
            "colorscale": [
             [
              0,
              "#0d0887"
             ],
             [
              0.1111111111111111,
              "#46039f"
             ],
             [
              0.2222222222222222,
              "#7201a8"
             ],
             [
              0.3333333333333333,
              "#9c179e"
             ],
             [
              0.4444444444444444,
              "#bd3786"
             ],
             [
              0.5555555555555556,
              "#d8576b"
             ],
             [
              0.6666666666666666,
              "#ed7953"
             ],
             [
              0.7777777777777778,
              "#fb9f3a"
             ],
             [
              0.8888888888888888,
              "#fdca26"
             ],
             [
              1,
              "#f0f921"
             ]
            ],
            "type": "heatmap"
           }
          ],
          "heatmapgl": [
           {
            "colorbar": {
             "outlinewidth": 0,
             "ticks": ""
            },
            "colorscale": [
             [
              0,
              "#0d0887"
             ],
             [
              0.1111111111111111,
              "#46039f"
             ],
             [
              0.2222222222222222,
              "#7201a8"
             ],
             [
              0.3333333333333333,
              "#9c179e"
             ],
             [
              0.4444444444444444,
              "#bd3786"
             ],
             [
              0.5555555555555556,
              "#d8576b"
             ],
             [
              0.6666666666666666,
              "#ed7953"
             ],
             [
              0.7777777777777778,
              "#fb9f3a"
             ],
             [
              0.8888888888888888,
              "#fdca26"
             ],
             [
              1,
              "#f0f921"
             ]
            ],
            "type": "heatmapgl"
           }
          ],
          "histogram": [
           {
            "marker": {
             "colorbar": {
              "outlinewidth": 0,
              "ticks": ""
             }
            },
            "type": "histogram"
           }
          ],
          "histogram2d": [
           {
            "colorbar": {
             "outlinewidth": 0,
             "ticks": ""
            },
            "colorscale": [
             [
              0,
              "#0d0887"
             ],
             [
              0.1111111111111111,
              "#46039f"
             ],
             [
              0.2222222222222222,
              "#7201a8"
             ],
             [
              0.3333333333333333,
              "#9c179e"
             ],
             [
              0.4444444444444444,
              "#bd3786"
             ],
             [
              0.5555555555555556,
              "#d8576b"
             ],
             [
              0.6666666666666666,
              "#ed7953"
             ],
             [
              0.7777777777777778,
              "#fb9f3a"
             ],
             [
              0.8888888888888888,
              "#fdca26"
             ],
             [
              1,
              "#f0f921"
             ]
            ],
            "type": "histogram2d"
           }
          ],
          "histogram2dcontour": [
           {
            "colorbar": {
             "outlinewidth": 0,
             "ticks": ""
            },
            "colorscale": [
             [
              0,
              "#0d0887"
             ],
             [
              0.1111111111111111,
              "#46039f"
             ],
             [
              0.2222222222222222,
              "#7201a8"
             ],
             [
              0.3333333333333333,
              "#9c179e"
             ],
             [
              0.4444444444444444,
              "#bd3786"
             ],
             [
              0.5555555555555556,
              "#d8576b"
             ],
             [
              0.6666666666666666,
              "#ed7953"
             ],
             [
              0.7777777777777778,
              "#fb9f3a"
             ],
             [
              0.8888888888888888,
              "#fdca26"
             ],
             [
              1,
              "#f0f921"
             ]
            ],
            "type": "histogram2dcontour"
           }
          ],
          "mesh3d": [
           {
            "colorbar": {
             "outlinewidth": 0,
             "ticks": ""
            },
            "type": "mesh3d"
           }
          ],
          "parcoords": [
           {
            "line": {
             "colorbar": {
              "outlinewidth": 0,
              "ticks": ""
             }
            },
            "type": "parcoords"
           }
          ],
          "pie": [
           {
            "automargin": true,
            "type": "pie"
           }
          ],
          "scatter": [
           {
            "marker": {
             "colorbar": {
              "outlinewidth": 0,
              "ticks": ""
             }
            },
            "type": "scatter"
           }
          ],
          "scatter3d": [
           {
            "line": {
             "colorbar": {
              "outlinewidth": 0,
              "ticks": ""
             }
            },
            "marker": {
             "colorbar": {
              "outlinewidth": 0,
              "ticks": ""
             }
            },
            "type": "scatter3d"
           }
          ],
          "scattercarpet": [
           {
            "marker": {
             "colorbar": {
              "outlinewidth": 0,
              "ticks": ""
             }
            },
            "type": "scattercarpet"
           }
          ],
          "scattergeo": [
           {
            "marker": {
             "colorbar": {
              "outlinewidth": 0,
              "ticks": ""
             }
            },
            "type": "scattergeo"
           }
          ],
          "scattergl": [
           {
            "marker": {
             "colorbar": {
              "outlinewidth": 0,
              "ticks": ""
             }
            },
            "type": "scattergl"
           }
          ],
          "scattermapbox": [
           {
            "marker": {
             "colorbar": {
              "outlinewidth": 0,
              "ticks": ""
             }
            },
            "type": "scattermapbox"
           }
          ],
          "scatterpolar": [
           {
            "marker": {
             "colorbar": {
              "outlinewidth": 0,
              "ticks": ""
             }
            },
            "type": "scatterpolar"
           }
          ],
          "scatterpolargl": [
           {
            "marker": {
             "colorbar": {
              "outlinewidth": 0,
              "ticks": ""
             }
            },
            "type": "scatterpolargl"
           }
          ],
          "scatterternary": [
           {
            "marker": {
             "colorbar": {
              "outlinewidth": 0,
              "ticks": ""
             }
            },
            "type": "scatterternary"
           }
          ],
          "surface": [
           {
            "colorbar": {
             "outlinewidth": 0,
             "ticks": ""
            },
            "colorscale": [
             [
              0,
              "#0d0887"
             ],
             [
              0.1111111111111111,
              "#46039f"
             ],
             [
              0.2222222222222222,
              "#7201a8"
             ],
             [
              0.3333333333333333,
              "#9c179e"
             ],
             [
              0.4444444444444444,
              "#bd3786"
             ],
             [
              0.5555555555555556,
              "#d8576b"
             ],
             [
              0.6666666666666666,
              "#ed7953"
             ],
             [
              0.7777777777777778,
              "#fb9f3a"
             ],
             [
              0.8888888888888888,
              "#fdca26"
             ],
             [
              1,
              "#f0f921"
             ]
            ],
            "type": "surface"
           }
          ],
          "table": [
           {
            "cells": {
             "fill": {
              "color": "#EBF0F8"
             },
             "line": {
              "color": "white"
             }
            },
            "header": {
             "fill": {
              "color": "#C8D4E3"
             },
             "line": {
              "color": "white"
             }
            },
            "type": "table"
           }
          ]
         },
         "layout": {
          "annotationdefaults": {
           "arrowcolor": "#2a3f5f",
           "arrowhead": 0,
           "arrowwidth": 1
          },
          "coloraxis": {
           "colorbar": {
            "outlinewidth": 0,
            "ticks": ""
           }
          },
          "colorscale": {
           "diverging": [
            [
             0,
             "#8e0152"
            ],
            [
             0.1,
             "#c51b7d"
            ],
            [
             0.2,
             "#de77ae"
            ],
            [
             0.3,
             "#f1b6da"
            ],
            [
             0.4,
             "#fde0ef"
            ],
            [
             0.5,
             "#f7f7f7"
            ],
            [
             0.6,
             "#e6f5d0"
            ],
            [
             0.7,
             "#b8e186"
            ],
            [
             0.8,
             "#7fbc41"
            ],
            [
             0.9,
             "#4d9221"
            ],
            [
             1,
             "#276419"
            ]
           ],
           "sequential": [
            [
             0,
             "#0d0887"
            ],
            [
             0.1111111111111111,
             "#46039f"
            ],
            [
             0.2222222222222222,
             "#7201a8"
            ],
            [
             0.3333333333333333,
             "#9c179e"
            ],
            [
             0.4444444444444444,
             "#bd3786"
            ],
            [
             0.5555555555555556,
             "#d8576b"
            ],
            [
             0.6666666666666666,
             "#ed7953"
            ],
            [
             0.7777777777777778,
             "#fb9f3a"
            ],
            [
             0.8888888888888888,
             "#fdca26"
            ],
            [
             1,
             "#f0f921"
            ]
           ],
           "sequentialminus": [
            [
             0,
             "#0d0887"
            ],
            [
             0.1111111111111111,
             "#46039f"
            ],
            [
             0.2222222222222222,
             "#7201a8"
            ],
            [
             0.3333333333333333,
             "#9c179e"
            ],
            [
             0.4444444444444444,
             "#bd3786"
            ],
            [
             0.5555555555555556,
             "#d8576b"
            ],
            [
             0.6666666666666666,
             "#ed7953"
            ],
            [
             0.7777777777777778,
             "#fb9f3a"
            ],
            [
             0.8888888888888888,
             "#fdca26"
            ],
            [
             1,
             "#f0f921"
            ]
           ]
          },
          "colorway": [
           "#636efa",
           "#EF553B",
           "#00cc96",
           "#ab63fa",
           "#FFA15A",
           "#19d3f3",
           "#FF6692",
           "#B6E880",
           "#FF97FF",
           "#FECB52"
          ],
          "font": {
           "color": "#2a3f5f"
          },
          "geo": {
           "bgcolor": "white",
           "lakecolor": "white",
           "landcolor": "#E5ECF6",
           "showlakes": true,
           "showland": true,
           "subunitcolor": "white"
          },
          "hoverlabel": {
           "align": "left"
          },
          "hovermode": "closest",
          "mapbox": {
           "style": "light"
          },
          "paper_bgcolor": "white",
          "plot_bgcolor": "#E5ECF6",
          "polar": {
           "angularaxis": {
            "gridcolor": "white",
            "linecolor": "white",
            "ticks": ""
           },
           "bgcolor": "#E5ECF6",
           "radialaxis": {
            "gridcolor": "white",
            "linecolor": "white",
            "ticks": ""
           }
          },
          "scene": {
           "xaxis": {
            "backgroundcolor": "#E5ECF6",
            "gridcolor": "white",
            "gridwidth": 2,
            "linecolor": "white",
            "showbackground": true,
            "ticks": "",
            "zerolinecolor": "white"
           },
           "yaxis": {
            "backgroundcolor": "#E5ECF6",
            "gridcolor": "white",
            "gridwidth": 2,
            "linecolor": "white",
            "showbackground": true,
            "ticks": "",
            "zerolinecolor": "white"
           },
           "zaxis": {
            "backgroundcolor": "#E5ECF6",
            "gridcolor": "white",
            "gridwidth": 2,
            "linecolor": "white",
            "showbackground": true,
            "ticks": "",
            "zerolinecolor": "white"
           }
          },
          "shapedefaults": {
           "line": {
            "color": "#2a3f5f"
           }
          },
          "ternary": {
           "aaxis": {
            "gridcolor": "white",
            "linecolor": "white",
            "ticks": ""
           },
           "baxis": {
            "gridcolor": "white",
            "linecolor": "white",
            "ticks": ""
           },
           "bgcolor": "#E5ECF6",
           "caxis": {
            "gridcolor": "white",
            "linecolor": "white",
            "ticks": ""
           }
          },
          "title": {
           "x": 0.05
          },
          "xaxis": {
           "automargin": true,
           "gridcolor": "white",
           "linecolor": "white",
           "ticks": "",
           "title": {
            "standoff": 15
           },
           "zerolinecolor": "white",
           "zerolinewidth": 2
          },
          "yaxis": {
           "automargin": true,
           "gridcolor": "white",
           "linecolor": "white",
           "ticks": "",
           "title": {
            "standoff": 15
           },
           "zerolinecolor": "white",
           "zerolinewidth": 2
          }
         }
        },
        "title": {
         "text": "time serise coronavirus"
        },
        "width": 900,
        "xaxis": {
         "anchor": "y",
         "domain": [
          0,
          1
         ],
         "title": {
          "text": "date"
         }
        },
        "yaxis": {
         "anchor": "x",
         "domain": [
          0,
          1
         ],
         "title": {
          "text": "coronavirus"
         }
        }
       }
      },
      "text/html": [
       "<div>\n",
       "        \n",
       "        \n",
       "            <div id=\"af54d22a-d62f-4eb9-b0d8-0d0ceec61e81\" class=\"plotly-graph-div\" style=\"height:400px; width:900px;\"></div>\n",
       "            <script type=\"text/javascript\">\n",
       "                require([\"plotly\"], function(Plotly) {\n",
       "                    window.PLOTLYENV=window.PLOTLYENV || {};\n",
       "                    \n",
       "                if (document.getElementById(\"af54d22a-d62f-4eb9-b0d8-0d0ceec61e81\")) {\n",
       "                    Plotly.newPlot(\n",
       "                        'af54d22a-d62f-4eb9-b0d8-0d0ceec61e81',\n",
       "                        [{\"hoverlabel\": {\"namelength\": 0}, \"hovertemplate\": \"date=%{x}<br>coronavirus=%{y}\", \"legendgroup\": \"\", \"line\": {\"color\": \"#636efa\", \"dash\": \"solid\"}, \"mode\": \"lines\", \"name\": \"\", \"showlegend\": false, \"type\": \"scatter\", \"x\": [\"2019-12-07\", \"2019-12-08\", \"2019-12-09\", \"2019-12-10\", \"2019-12-11\", \"2019-12-12\", \"2019-12-13\", \"2019-12-14\", \"2019-12-15\", \"2019-12-16\", \"2019-12-17\", \"2019-12-18\", \"2019-12-19\", \"2019-12-20\", \"2019-12-21\", \"2019-12-22\", \"2019-12-23\", \"2019-12-24\", \"2019-12-25\", \"2019-12-26\", \"2019-12-27\", \"2019-12-28\", \"2019-12-29\", \"2019-12-30\", \"2019-12-31\", \"2020-01-01\", \"2020-01-02\", \"2020-01-03\", \"2020-01-04\", \"2020-01-05\", \"2020-01-06\", \"2020-01-07\", \"2020-01-08\", \"2020-01-09\", \"2020-01-10\", \"2020-01-11\", \"2020-01-12\", \"2020-01-13\", \"2020-01-14\", \"2020-01-15\", \"2020-01-16\", \"2020-01-17\", \"2020-01-18\", \"2020-01-19\", \"2020-01-20\", \"2020-01-21\", \"2020-01-22\", \"2020-01-23\", \"2020-01-24\", \"2020-01-25\", \"2020-01-26\", \"2020-01-27\", \"2020-01-28\", \"2020-01-29\", \"2020-01-30\", \"2020-01-31\", \"2020-02-01\", \"2020-02-02\", \"2020-02-03\", \"2020-02-04\", \"2020-02-05\", \"2020-02-06\", \"2020-02-07\", \"2020-02-08\", \"2020-02-09\", \"2020-02-10\", \"2020-02-11\", \"2020-02-12\", \"2020-02-13\", \"2020-02-14\", \"2020-02-15\", \"2020-02-16\", \"2020-02-17\", \"2020-02-18\", \"2020-02-19\", \"2020-02-20\", \"2020-02-21\", \"2020-02-22\", \"2020-02-23\", \"2020-02-24\", \"2020-02-25\", \"2020-02-26\", \"2020-02-27\", \"2020-02-28\", \"2020-02-29\", \"2020-03-01\", \"2020-03-02\", \"2020-03-03\", \"2020-03-04\", \"2020-03-05\", \"2020-03-06\", \"2020-03-07\", \"2020-03-08\", \"2020-03-09\", \"2020-03-10\", \"2020-03-11\"], \"xaxis\": \"x\", \"y\": [0.013090000000000001, 0.00836, 0.01272, 0.01881, 0.01854, 0.0199, 0.01881, 0.01499, 0.01163, 0.015359999999999999, 0.02245, 0.01999, 0.0189, 0.01854, 0.01599, 0.01427, 0.01772, 0.02418, 0.01163, 0.01518, 0.02363, 0.01609, 0.01181, 0.02054, 0.022359999999999998, 0.01699, 0.018269999999999998, 0.02845, 0.02136, 0.01927, 0.03154, 0.03927, 0.02636, 39.621809999999996, 11.13921, 0.50434, 0.21144000000000002, 0.19244, 0.25108, 0.15535, 0.38498000000000004, 0.55043, 0.26261999999999996, 0.32661999999999997, 20.6961, 35.332840000000004, 29.744740000000004, 100.0, 86.11541, 62.84846999999999, 39.627720000000004, 57.074459999999995, 72.63073, 52.06261, 45.93889, 58.4187, 41.5073, 41.736470000000004, 50.1994, 37.288059999999994, 35.230940000000004, 39.3959, 31.71404, 40.46614, 36.07691, 52.11234, 18.13918, 15.909970000000001, 15.08472, 16.94803, 10.34468, 9.79906, 10.98521, 14.97945, 40.759859999999996, 59.21885, 72.15665, 85.23907, 82.90014000000001, 79.89478000000001, 79.95441, 71.26268, 71.07204, 66.20619, 61.040530000000004, 56.20421999999999, 60.86853000000001, 47.17367, 39.84053, 33.24218, 29.61647, 26.90492, 26.4902, 29.792279999999998, 28.495140000000003, 24.02346], \"yaxis\": \"y\"}],\n",
       "                        {\"height\": 400, \"legend\": {\"tracegroupgap\": 0}, \"template\": {\"data\": {\"bar\": [{\"error_x\": {\"color\": \"#2a3f5f\"}, \"error_y\": {\"color\": \"#2a3f5f\"}, \"marker\": {\"line\": {\"color\": \"#E5ECF6\", \"width\": 0.5}}, \"type\": \"bar\"}], \"barpolar\": [{\"marker\": {\"line\": {\"color\": \"#E5ECF6\", \"width\": 0.5}}, \"type\": \"barpolar\"}], \"carpet\": [{\"aaxis\": {\"endlinecolor\": \"#2a3f5f\", \"gridcolor\": \"white\", \"linecolor\": \"white\", \"minorgridcolor\": \"white\", \"startlinecolor\": \"#2a3f5f\"}, \"baxis\": {\"endlinecolor\": \"#2a3f5f\", \"gridcolor\": \"white\", \"linecolor\": \"white\", \"minorgridcolor\": \"white\", \"startlinecolor\": \"#2a3f5f\"}, \"type\": \"carpet\"}], \"choropleth\": [{\"colorbar\": {\"outlinewidth\": 0, \"ticks\": \"\"}, \"type\": \"choropleth\"}], \"contour\": [{\"colorbar\": {\"outlinewidth\": 0, \"ticks\": \"\"}, \"colorscale\": [[0.0, \"#0d0887\"], [0.1111111111111111, \"#46039f\"], [0.2222222222222222, \"#7201a8\"], [0.3333333333333333, \"#9c179e\"], [0.4444444444444444, \"#bd3786\"], [0.5555555555555556, \"#d8576b\"], [0.6666666666666666, \"#ed7953\"], [0.7777777777777778, \"#fb9f3a\"], [0.8888888888888888, \"#fdca26\"], [1.0, \"#f0f921\"]], \"type\": \"contour\"}], \"contourcarpet\": [{\"colorbar\": {\"outlinewidth\": 0, \"ticks\": \"\"}, \"type\": \"contourcarpet\"}], \"heatmap\": [{\"colorbar\": {\"outlinewidth\": 0, \"ticks\": \"\"}, \"colorscale\": [[0.0, \"#0d0887\"], [0.1111111111111111, \"#46039f\"], [0.2222222222222222, \"#7201a8\"], [0.3333333333333333, \"#9c179e\"], [0.4444444444444444, \"#bd3786\"], [0.5555555555555556, \"#d8576b\"], [0.6666666666666666, \"#ed7953\"], [0.7777777777777778, \"#fb9f3a\"], [0.8888888888888888, \"#fdca26\"], [1.0, \"#f0f921\"]], \"type\": \"heatmap\"}], \"heatmapgl\": [{\"colorbar\": {\"outlinewidth\": 0, \"ticks\": \"\"}, \"colorscale\": [[0.0, \"#0d0887\"], [0.1111111111111111, \"#46039f\"], [0.2222222222222222, \"#7201a8\"], [0.3333333333333333, \"#9c179e\"], [0.4444444444444444, \"#bd3786\"], [0.5555555555555556, \"#d8576b\"], [0.6666666666666666, \"#ed7953\"], [0.7777777777777778, \"#fb9f3a\"], [0.8888888888888888, \"#fdca26\"], [1.0, \"#f0f921\"]], \"type\": \"heatmapgl\"}], \"histogram\": [{\"marker\": {\"colorbar\": {\"outlinewidth\": 0, \"ticks\": \"\"}}, \"type\": \"histogram\"}], \"histogram2d\": [{\"colorbar\": {\"outlinewidth\": 0, \"ticks\": \"\"}, \"colorscale\": [[0.0, \"#0d0887\"], [0.1111111111111111, \"#46039f\"], [0.2222222222222222, \"#7201a8\"], [0.3333333333333333, \"#9c179e\"], [0.4444444444444444, \"#bd3786\"], [0.5555555555555556, \"#d8576b\"], [0.6666666666666666, \"#ed7953\"], [0.7777777777777778, \"#fb9f3a\"], [0.8888888888888888, \"#fdca26\"], [1.0, \"#f0f921\"]], \"type\": \"histogram2d\"}], \"histogram2dcontour\": [{\"colorbar\": {\"outlinewidth\": 0, \"ticks\": \"\"}, \"colorscale\": [[0.0, \"#0d0887\"], [0.1111111111111111, \"#46039f\"], [0.2222222222222222, \"#7201a8\"], [0.3333333333333333, \"#9c179e\"], [0.4444444444444444, \"#bd3786\"], [0.5555555555555556, \"#d8576b\"], [0.6666666666666666, \"#ed7953\"], [0.7777777777777778, \"#fb9f3a\"], [0.8888888888888888, \"#fdca26\"], [1.0, \"#f0f921\"]], \"type\": \"histogram2dcontour\"}], \"mesh3d\": [{\"colorbar\": {\"outlinewidth\": 0, \"ticks\": \"\"}, \"type\": \"mesh3d\"}], \"parcoords\": [{\"line\": {\"colorbar\": {\"outlinewidth\": 0, \"ticks\": \"\"}}, \"type\": \"parcoords\"}], \"pie\": [{\"automargin\": true, \"type\": \"pie\"}], \"scatter\": [{\"marker\": {\"colorbar\": {\"outlinewidth\": 0, \"ticks\": \"\"}}, \"type\": \"scatter\"}], \"scatter3d\": [{\"line\": {\"colorbar\": {\"outlinewidth\": 0, \"ticks\": \"\"}}, \"marker\": {\"colorbar\": {\"outlinewidth\": 0, \"ticks\": \"\"}}, \"type\": \"scatter3d\"}], \"scattercarpet\": [{\"marker\": {\"colorbar\": {\"outlinewidth\": 0, \"ticks\": \"\"}}, \"type\": \"scattercarpet\"}], \"scattergeo\": [{\"marker\": {\"colorbar\": {\"outlinewidth\": 0, \"ticks\": \"\"}}, \"type\": \"scattergeo\"}], \"scattergl\": [{\"marker\": {\"colorbar\": {\"outlinewidth\": 0, \"ticks\": \"\"}}, \"type\": \"scattergl\"}], \"scattermapbox\": [{\"marker\": {\"colorbar\": {\"outlinewidth\": 0, \"ticks\": \"\"}}, \"type\": \"scattermapbox\"}], \"scatterpolar\": [{\"marker\": {\"colorbar\": {\"outlinewidth\": 0, \"ticks\": \"\"}}, \"type\": \"scatterpolar\"}], \"scatterpolargl\": [{\"marker\": {\"colorbar\": {\"outlinewidth\": 0, \"ticks\": \"\"}}, \"type\": \"scatterpolargl\"}], \"scatterternary\": [{\"marker\": {\"colorbar\": {\"outlinewidth\": 0, \"ticks\": \"\"}}, \"type\": \"scatterternary\"}], \"surface\": [{\"colorbar\": {\"outlinewidth\": 0, \"ticks\": \"\"}, \"colorscale\": [[0.0, \"#0d0887\"], [0.1111111111111111, \"#46039f\"], [0.2222222222222222, \"#7201a8\"], [0.3333333333333333, \"#9c179e\"], [0.4444444444444444, \"#bd3786\"], [0.5555555555555556, \"#d8576b\"], [0.6666666666666666, \"#ed7953\"], [0.7777777777777778, \"#fb9f3a\"], [0.8888888888888888, \"#fdca26\"], [1.0, \"#f0f921\"]], \"type\": \"surface\"}], \"table\": [{\"cells\": {\"fill\": {\"color\": \"#EBF0F8\"}, \"line\": {\"color\": \"white\"}}, \"header\": {\"fill\": {\"color\": \"#C8D4E3\"}, \"line\": {\"color\": \"white\"}}, \"type\": \"table\"}]}, \"layout\": {\"annotationdefaults\": {\"arrowcolor\": \"#2a3f5f\", \"arrowhead\": 0, \"arrowwidth\": 1}, \"coloraxis\": {\"colorbar\": {\"outlinewidth\": 0, \"ticks\": \"\"}}, \"colorscale\": {\"diverging\": [[0, \"#8e0152\"], [0.1, \"#c51b7d\"], [0.2, \"#de77ae\"], [0.3, \"#f1b6da\"], [0.4, \"#fde0ef\"], [0.5, \"#f7f7f7\"], [0.6, \"#e6f5d0\"], [0.7, \"#b8e186\"], [0.8, \"#7fbc41\"], [0.9, \"#4d9221\"], [1, \"#276419\"]], \"sequential\": [[0.0, \"#0d0887\"], [0.1111111111111111, \"#46039f\"], [0.2222222222222222, \"#7201a8\"], [0.3333333333333333, \"#9c179e\"], [0.4444444444444444, \"#bd3786\"], [0.5555555555555556, \"#d8576b\"], [0.6666666666666666, \"#ed7953\"], [0.7777777777777778, \"#fb9f3a\"], [0.8888888888888888, \"#fdca26\"], [1.0, \"#f0f921\"]], \"sequentialminus\": [[0.0, \"#0d0887\"], [0.1111111111111111, \"#46039f\"], [0.2222222222222222, \"#7201a8\"], [0.3333333333333333, \"#9c179e\"], [0.4444444444444444, \"#bd3786\"], [0.5555555555555556, \"#d8576b\"], [0.6666666666666666, \"#ed7953\"], [0.7777777777777778, \"#fb9f3a\"], [0.8888888888888888, \"#fdca26\"], [1.0, \"#f0f921\"]]}, \"colorway\": [\"#636efa\", \"#EF553B\", \"#00cc96\", \"#ab63fa\", \"#FFA15A\", \"#19d3f3\", \"#FF6692\", \"#B6E880\", \"#FF97FF\", \"#FECB52\"], \"font\": {\"color\": \"#2a3f5f\"}, \"geo\": {\"bgcolor\": \"white\", \"lakecolor\": \"white\", \"landcolor\": \"#E5ECF6\", \"showlakes\": true, \"showland\": true, \"subunitcolor\": \"white\"}, \"hoverlabel\": {\"align\": \"left\"}, \"hovermode\": \"closest\", \"mapbox\": {\"style\": \"light\"}, \"paper_bgcolor\": \"white\", \"plot_bgcolor\": \"#E5ECF6\", \"polar\": {\"angularaxis\": {\"gridcolor\": \"white\", \"linecolor\": \"white\", \"ticks\": \"\"}, \"bgcolor\": \"#E5ECF6\", \"radialaxis\": {\"gridcolor\": \"white\", \"linecolor\": \"white\", \"ticks\": \"\"}}, \"scene\": {\"xaxis\": {\"backgroundcolor\": \"#E5ECF6\", \"gridcolor\": \"white\", \"gridwidth\": 2, \"linecolor\": \"white\", \"showbackground\": true, \"ticks\": \"\", \"zerolinecolor\": \"white\"}, \"yaxis\": {\"backgroundcolor\": \"#E5ECF6\", \"gridcolor\": \"white\", \"gridwidth\": 2, \"linecolor\": \"white\", \"showbackground\": true, \"ticks\": \"\", \"zerolinecolor\": \"white\"}, \"zaxis\": {\"backgroundcolor\": \"#E5ECF6\", \"gridcolor\": \"white\", \"gridwidth\": 2, \"linecolor\": \"white\", \"showbackground\": true, \"ticks\": \"\", \"zerolinecolor\": \"white\"}}, \"shapedefaults\": {\"line\": {\"color\": \"#2a3f5f\"}}, \"ternary\": {\"aaxis\": {\"gridcolor\": \"white\", \"linecolor\": \"white\", \"ticks\": \"\"}, \"baxis\": {\"gridcolor\": \"white\", \"linecolor\": \"white\", \"ticks\": \"\"}, \"bgcolor\": \"#E5ECF6\", \"caxis\": {\"gridcolor\": \"white\", \"linecolor\": \"white\", \"ticks\": \"\"}}, \"title\": {\"x\": 0.05}, \"xaxis\": {\"automargin\": true, \"gridcolor\": \"white\", \"linecolor\": \"white\", \"ticks\": \"\", \"title\": {\"standoff\": 15}, \"zerolinecolor\": \"white\", \"zerolinewidth\": 2}, \"yaxis\": {\"automargin\": true, \"gridcolor\": \"white\", \"linecolor\": \"white\", \"ticks\": \"\", \"title\": {\"standoff\": 15}, \"zerolinecolor\": \"white\", \"zerolinewidth\": 2}}}, \"title\": {\"text\": \"time serise coronavirus\"}, \"width\": 900, \"xaxis\": {\"anchor\": \"y\", \"domain\": [0.0, 1.0], \"title\": {\"text\": \"date\"}}, \"yaxis\": {\"anchor\": \"x\", \"domain\": [0.0, 1.0], \"title\": {\"text\": \"coronavirus\"}}},\n",
       "                        {\"responsive\": true}\n",
       "                    ).then(function(){\n",
       "                            \n",
       "var gd = document.getElementById('af54d22a-d62f-4eb9-b0d8-0d0ceec61e81');\n",
       "var x = new MutationObserver(function (mutations, observer) {{\n",
       "        var display = window.getComputedStyle(gd).display;\n",
       "        if (!display || display === 'none') {{\n",
       "            console.log([gd, 'removed!']);\n",
       "            Plotly.purge(gd);\n",
       "            observer.disconnect();\n",
       "        }}\n",
       "}});\n",
       "\n",
       "// Listen for the removal of the full notebook cells\n",
       "var notebookContainer = gd.closest('#notebook-container');\n",
       "if (notebookContainer) {{\n",
       "    x.observe(notebookContainer, {childList: true});\n",
       "}}\n",
       "\n",
       "// Listen for the clearing of the current output cell\n",
       "var outputEl = gd.closest('.output');\n",
       "if (outputEl) {{\n",
       "    x.observe(outputEl, {childList: true});\n",
       "}}\n",
       "\n",
       "                        })\n",
       "                };\n",
       "                });\n",
       "            </script>\n",
       "        </div>"
      ]
     },
     "metadata": {},
     "output_type": "display_data"
    }
   ],
   "source": [
    "# time-series_cold\n",
    "fig1 = px.line(trend, x=\"date\", y=\"cold\", title='time serise cold')\n",
    "fig1.update_layout(height=400, width=900)\n",
    "fig1.show()\n",
    "\n",
    "# time-series_flu\n",
    "fig2 = px.line(trend, x=\"date\", y=\"flu\", title='time serise flu')\n",
    "fig2.update_layout(height=400, width=900)\n",
    "fig2.show()\n",
    "\n",
    "# time-series_pneumonia\n",
    "fig3 = px.line(trend, x=\"date\", y=\"pneumonia\", title='time serise pneumonia')\n",
    "fig3.update_layout(height=400, width=900)\n",
    "fig3.show()\n",
    "\n",
    "# time-series_coronavirus\n",
    "fig4 = px.line(trend, x=\"date\", y=\"coronavirus\", title='time serise coronavirus')\n",
    "fig4.update_layout(height=400, width=900)\n",
    "fig4.show()\n",
    "\n",
    "\n",
    "# # 이건 plotly의 subplot을 이용함\n",
    "# fig = make_subplots(rows=1, cols=2)\n",
    "\n",
    "# fig.add_trace(\n",
    "#     go.Scatter(x=trend[\"date\"], y=trend[\"cold\"]),\n",
    "#     row=1, col=1\n",
    "# )\n",
    "\n",
    "# fig.add_trace(\n",
    "#     go.Scatter(x=trend[\"date\"], y=trend[\"flu\"]),\n",
    "#     row=1, col=2\n",
    "# )\n",
    "\n",
    "# fig.update_layout(height=600, width=1000, title_text=\"Subplots\")\n",
    "# fig.show()"
   ]
  },
  {
   "cell_type": "code",
   "execution_count": null,
   "metadata": {},
   "outputs": [],
   "source": []
  },
  {
   "cell_type": "markdown",
   "metadata": {},
   "source": [
    "## 4. patient"
   ]
  },
  {
   "cell_type": "code",
   "execution_count": 64,
   "metadata": {
    "ExecuteTime": {
     "end_time": "2020-03-17T14:36:14.607580Z",
     "start_time": "2020-03-17T14:36:14.564696Z"
    }
   },
   "outputs": [
    {
     "name": "stdout",
     "output_type": "stream",
     "text": [
      "patient_id            int64\n",
      "sex                  object\n",
      "birth_year          float64\n",
      "country              object\n",
      "region               object\n",
      "disease             float64\n",
      "group                object\n",
      "infection_reason     object\n",
      "infection_order     float64\n",
      "infected_by         float64\n",
      "contact_number      float64\n",
      "confirmed_date       object\n",
      "released_date        object\n",
      "deceased_date        object\n",
      "state                object\n",
      "dtype: object\n",
      "\n",
      "\n",
      "shape of patient :  (7869, 15)\n"
     ]
    },
    {
     "data": {
      "text/html": [
       "<style  type=\"text/css\" >\n",
       "    #T_a7931730_685c_11ea_a53e_b808cfcc3516 caption {\n",
       "          text-align: center;\n",
       "          font-size: 120%;\n",
       "          color: red;\n",
       "    }</style><table id=\"T_a7931730_685c_11ea_a53e_b808cfcc3516\" style='display:inline'><caption>patient</caption><thead>    <tr>        <th class=\"blank level0\" ></th>        <th class=\"col_heading level0 col0\" >patient_id</th>        <th class=\"col_heading level0 col1\" >sex</th>        <th class=\"col_heading level0 col2\" >birth_year</th>        <th class=\"col_heading level0 col3\" >country</th>        <th class=\"col_heading level0 col4\" >region</th>        <th class=\"col_heading level0 col5\" >disease</th>        <th class=\"col_heading level0 col6\" >group</th>        <th class=\"col_heading level0 col7\" >infection_reason</th>        <th class=\"col_heading level0 col8\" >infection_order</th>        <th class=\"col_heading level0 col9\" >infected_by</th>        <th class=\"col_heading level0 col10\" >contact_number</th>        <th class=\"col_heading level0 col11\" >confirmed_date</th>        <th class=\"col_heading level0 col12\" >released_date</th>        <th class=\"col_heading level0 col13\" >deceased_date</th>        <th class=\"col_heading level0 col14\" >state</th>    </tr></thead><tbody>\n",
       "                <tr>\n",
       "                        <th id=\"T_a7931730_685c_11ea_a53e_b808cfcc3516level0_row0\" class=\"row_heading level0 row0\" >0</th>\n",
       "                        <td id=\"T_a7931730_685c_11ea_a53e_b808cfcc3516row0_col0\" class=\"data row0 col0\" >1</td>\n",
       "                        <td id=\"T_a7931730_685c_11ea_a53e_b808cfcc3516row0_col1\" class=\"data row0 col1\" >female</td>\n",
       "                        <td id=\"T_a7931730_685c_11ea_a53e_b808cfcc3516row0_col2\" class=\"data row0 col2\" >1984</td>\n",
       "                        <td id=\"T_a7931730_685c_11ea_a53e_b808cfcc3516row0_col3\" class=\"data row0 col3\" >China</td>\n",
       "                        <td id=\"T_a7931730_685c_11ea_a53e_b808cfcc3516row0_col4\" class=\"data row0 col4\" >filtered at airport</td>\n",
       "                        <td id=\"T_a7931730_685c_11ea_a53e_b808cfcc3516row0_col5\" class=\"data row0 col5\" >nan</td>\n",
       "                        <td id=\"T_a7931730_685c_11ea_a53e_b808cfcc3516row0_col6\" class=\"data row0 col6\" >nan</td>\n",
       "                        <td id=\"T_a7931730_685c_11ea_a53e_b808cfcc3516row0_col7\" class=\"data row0 col7\" >visit to Wuhan</td>\n",
       "                        <td id=\"T_a7931730_685c_11ea_a53e_b808cfcc3516row0_col8\" class=\"data row0 col8\" >1</td>\n",
       "                        <td id=\"T_a7931730_685c_11ea_a53e_b808cfcc3516row0_col9\" class=\"data row0 col9\" >nan</td>\n",
       "                        <td id=\"T_a7931730_685c_11ea_a53e_b808cfcc3516row0_col10\" class=\"data row0 col10\" >45</td>\n",
       "                        <td id=\"T_a7931730_685c_11ea_a53e_b808cfcc3516row0_col11\" class=\"data row0 col11\" >2020-01-20</td>\n",
       "                        <td id=\"T_a7931730_685c_11ea_a53e_b808cfcc3516row0_col12\" class=\"data row0 col12\" >2020-02-06</td>\n",
       "                        <td id=\"T_a7931730_685c_11ea_a53e_b808cfcc3516row0_col13\" class=\"data row0 col13\" >nan</td>\n",
       "                        <td id=\"T_a7931730_685c_11ea_a53e_b808cfcc3516row0_col14\" class=\"data row0 col14\" >released</td>\n",
       "            </tr>\n",
       "            <tr>\n",
       "                        <th id=\"T_a7931730_685c_11ea_a53e_b808cfcc3516level0_row1\" class=\"row_heading level0 row1\" >1</th>\n",
       "                        <td id=\"T_a7931730_685c_11ea_a53e_b808cfcc3516row1_col0\" class=\"data row1 col0\" >2</td>\n",
       "                        <td id=\"T_a7931730_685c_11ea_a53e_b808cfcc3516row1_col1\" class=\"data row1 col1\" >male</td>\n",
       "                        <td id=\"T_a7931730_685c_11ea_a53e_b808cfcc3516row1_col2\" class=\"data row1 col2\" >1964</td>\n",
       "                        <td id=\"T_a7931730_685c_11ea_a53e_b808cfcc3516row1_col3\" class=\"data row1 col3\" >Korea</td>\n",
       "                        <td id=\"T_a7931730_685c_11ea_a53e_b808cfcc3516row1_col4\" class=\"data row1 col4\" >filtered at airport</td>\n",
       "                        <td id=\"T_a7931730_685c_11ea_a53e_b808cfcc3516row1_col5\" class=\"data row1 col5\" >nan</td>\n",
       "                        <td id=\"T_a7931730_685c_11ea_a53e_b808cfcc3516row1_col6\" class=\"data row1 col6\" >nan</td>\n",
       "                        <td id=\"T_a7931730_685c_11ea_a53e_b808cfcc3516row1_col7\" class=\"data row1 col7\" >visit to Wuhan</td>\n",
       "                        <td id=\"T_a7931730_685c_11ea_a53e_b808cfcc3516row1_col8\" class=\"data row1 col8\" >1</td>\n",
       "                        <td id=\"T_a7931730_685c_11ea_a53e_b808cfcc3516row1_col9\" class=\"data row1 col9\" >nan</td>\n",
       "                        <td id=\"T_a7931730_685c_11ea_a53e_b808cfcc3516row1_col10\" class=\"data row1 col10\" >75</td>\n",
       "                        <td id=\"T_a7931730_685c_11ea_a53e_b808cfcc3516row1_col11\" class=\"data row1 col11\" >2020-01-24</td>\n",
       "                        <td id=\"T_a7931730_685c_11ea_a53e_b808cfcc3516row1_col12\" class=\"data row1 col12\" >2020-02-05</td>\n",
       "                        <td id=\"T_a7931730_685c_11ea_a53e_b808cfcc3516row1_col13\" class=\"data row1 col13\" >nan</td>\n",
       "                        <td id=\"T_a7931730_685c_11ea_a53e_b808cfcc3516row1_col14\" class=\"data row1 col14\" >released</td>\n",
       "            </tr>\n",
       "            <tr>\n",
       "                        <th id=\"T_a7931730_685c_11ea_a53e_b808cfcc3516level0_row2\" class=\"row_heading level0 row2\" >2</th>\n",
       "                        <td id=\"T_a7931730_685c_11ea_a53e_b808cfcc3516row2_col0\" class=\"data row2 col0\" >3</td>\n",
       "                        <td id=\"T_a7931730_685c_11ea_a53e_b808cfcc3516row2_col1\" class=\"data row2 col1\" >male</td>\n",
       "                        <td id=\"T_a7931730_685c_11ea_a53e_b808cfcc3516row2_col2\" class=\"data row2 col2\" >1966</td>\n",
       "                        <td id=\"T_a7931730_685c_11ea_a53e_b808cfcc3516row2_col3\" class=\"data row2 col3\" >Korea</td>\n",
       "                        <td id=\"T_a7931730_685c_11ea_a53e_b808cfcc3516row2_col4\" class=\"data row2 col4\" >capital area</td>\n",
       "                        <td id=\"T_a7931730_685c_11ea_a53e_b808cfcc3516row2_col5\" class=\"data row2 col5\" >nan</td>\n",
       "                        <td id=\"T_a7931730_685c_11ea_a53e_b808cfcc3516row2_col6\" class=\"data row2 col6\" >nan</td>\n",
       "                        <td id=\"T_a7931730_685c_11ea_a53e_b808cfcc3516row2_col7\" class=\"data row2 col7\" >visit to Wuhan</td>\n",
       "                        <td id=\"T_a7931730_685c_11ea_a53e_b808cfcc3516row2_col8\" class=\"data row2 col8\" >1</td>\n",
       "                        <td id=\"T_a7931730_685c_11ea_a53e_b808cfcc3516row2_col9\" class=\"data row2 col9\" >nan</td>\n",
       "                        <td id=\"T_a7931730_685c_11ea_a53e_b808cfcc3516row2_col10\" class=\"data row2 col10\" >16</td>\n",
       "                        <td id=\"T_a7931730_685c_11ea_a53e_b808cfcc3516row2_col11\" class=\"data row2 col11\" >2020-01-26</td>\n",
       "                        <td id=\"T_a7931730_685c_11ea_a53e_b808cfcc3516row2_col12\" class=\"data row2 col12\" >2020-02-12</td>\n",
       "                        <td id=\"T_a7931730_685c_11ea_a53e_b808cfcc3516row2_col13\" class=\"data row2 col13\" >nan</td>\n",
       "                        <td id=\"T_a7931730_685c_11ea_a53e_b808cfcc3516row2_col14\" class=\"data row2 col14\" >released</td>\n",
       "            </tr>\n",
       "            <tr>\n",
       "                        <th id=\"T_a7931730_685c_11ea_a53e_b808cfcc3516level0_row3\" class=\"row_heading level0 row3\" >3</th>\n",
       "                        <td id=\"T_a7931730_685c_11ea_a53e_b808cfcc3516row3_col0\" class=\"data row3 col0\" >4</td>\n",
       "                        <td id=\"T_a7931730_685c_11ea_a53e_b808cfcc3516row3_col1\" class=\"data row3 col1\" >male</td>\n",
       "                        <td id=\"T_a7931730_685c_11ea_a53e_b808cfcc3516row3_col2\" class=\"data row3 col2\" >1964</td>\n",
       "                        <td id=\"T_a7931730_685c_11ea_a53e_b808cfcc3516row3_col3\" class=\"data row3 col3\" >Korea</td>\n",
       "                        <td id=\"T_a7931730_685c_11ea_a53e_b808cfcc3516row3_col4\" class=\"data row3 col4\" >capital area</td>\n",
       "                        <td id=\"T_a7931730_685c_11ea_a53e_b808cfcc3516row3_col5\" class=\"data row3 col5\" >nan</td>\n",
       "                        <td id=\"T_a7931730_685c_11ea_a53e_b808cfcc3516row3_col6\" class=\"data row3 col6\" >nan</td>\n",
       "                        <td id=\"T_a7931730_685c_11ea_a53e_b808cfcc3516row3_col7\" class=\"data row3 col7\" >visit to Wuhan</td>\n",
       "                        <td id=\"T_a7931730_685c_11ea_a53e_b808cfcc3516row3_col8\" class=\"data row3 col8\" >1</td>\n",
       "                        <td id=\"T_a7931730_685c_11ea_a53e_b808cfcc3516row3_col9\" class=\"data row3 col9\" >nan</td>\n",
       "                        <td id=\"T_a7931730_685c_11ea_a53e_b808cfcc3516row3_col10\" class=\"data row3 col10\" >95</td>\n",
       "                        <td id=\"T_a7931730_685c_11ea_a53e_b808cfcc3516row3_col11\" class=\"data row3 col11\" >2020-01-27</td>\n",
       "                        <td id=\"T_a7931730_685c_11ea_a53e_b808cfcc3516row3_col12\" class=\"data row3 col12\" >2020-02-09</td>\n",
       "                        <td id=\"T_a7931730_685c_11ea_a53e_b808cfcc3516row3_col13\" class=\"data row3 col13\" >nan</td>\n",
       "                        <td id=\"T_a7931730_685c_11ea_a53e_b808cfcc3516row3_col14\" class=\"data row3 col14\" >released</td>\n",
       "            </tr>\n",
       "            <tr>\n",
       "                        <th id=\"T_a7931730_685c_11ea_a53e_b808cfcc3516level0_row4\" class=\"row_heading level0 row4\" >4</th>\n",
       "                        <td id=\"T_a7931730_685c_11ea_a53e_b808cfcc3516row4_col0\" class=\"data row4 col0\" >5</td>\n",
       "                        <td id=\"T_a7931730_685c_11ea_a53e_b808cfcc3516row4_col1\" class=\"data row4 col1\" >male</td>\n",
       "                        <td id=\"T_a7931730_685c_11ea_a53e_b808cfcc3516row4_col2\" class=\"data row4 col2\" >1987</td>\n",
       "                        <td id=\"T_a7931730_685c_11ea_a53e_b808cfcc3516row4_col3\" class=\"data row4 col3\" >Korea</td>\n",
       "                        <td id=\"T_a7931730_685c_11ea_a53e_b808cfcc3516row4_col4\" class=\"data row4 col4\" >capital area</td>\n",
       "                        <td id=\"T_a7931730_685c_11ea_a53e_b808cfcc3516row4_col5\" class=\"data row4 col5\" >nan</td>\n",
       "                        <td id=\"T_a7931730_685c_11ea_a53e_b808cfcc3516row4_col6\" class=\"data row4 col6\" >nan</td>\n",
       "                        <td id=\"T_a7931730_685c_11ea_a53e_b808cfcc3516row4_col7\" class=\"data row4 col7\" >visit to Wuhan</td>\n",
       "                        <td id=\"T_a7931730_685c_11ea_a53e_b808cfcc3516row4_col8\" class=\"data row4 col8\" >1</td>\n",
       "                        <td id=\"T_a7931730_685c_11ea_a53e_b808cfcc3516row4_col9\" class=\"data row4 col9\" >nan</td>\n",
       "                        <td id=\"T_a7931730_685c_11ea_a53e_b808cfcc3516row4_col10\" class=\"data row4 col10\" >31</td>\n",
       "                        <td id=\"T_a7931730_685c_11ea_a53e_b808cfcc3516row4_col11\" class=\"data row4 col11\" >2020-01-30</td>\n",
       "                        <td id=\"T_a7931730_685c_11ea_a53e_b808cfcc3516row4_col12\" class=\"data row4 col12\" >2020-03-02</td>\n",
       "                        <td id=\"T_a7931730_685c_11ea_a53e_b808cfcc3516row4_col13\" class=\"data row4 col13\" >nan</td>\n",
       "                        <td id=\"T_a7931730_685c_11ea_a53e_b808cfcc3516row4_col14\" class=\"data row4 col14\" >released</td>\n",
       "            </tr>\n",
       "            <tr>\n",
       "                        <th id=\"T_a7931730_685c_11ea_a53e_b808cfcc3516level0_row5\" class=\"row_heading level0 row5\" >5</th>\n",
       "                        <td id=\"T_a7931730_685c_11ea_a53e_b808cfcc3516row5_col0\" class=\"data row5 col0\" >6</td>\n",
       "                        <td id=\"T_a7931730_685c_11ea_a53e_b808cfcc3516row5_col1\" class=\"data row5 col1\" >male</td>\n",
       "                        <td id=\"T_a7931730_685c_11ea_a53e_b808cfcc3516row5_col2\" class=\"data row5 col2\" >1964</td>\n",
       "                        <td id=\"T_a7931730_685c_11ea_a53e_b808cfcc3516row5_col3\" class=\"data row5 col3\" >Korea</td>\n",
       "                        <td id=\"T_a7931730_685c_11ea_a53e_b808cfcc3516row5_col4\" class=\"data row5 col4\" >capital area</td>\n",
       "                        <td id=\"T_a7931730_685c_11ea_a53e_b808cfcc3516row5_col5\" class=\"data row5 col5\" >nan</td>\n",
       "                        <td id=\"T_a7931730_685c_11ea_a53e_b808cfcc3516row5_col6\" class=\"data row5 col6\" >nan</td>\n",
       "                        <td id=\"T_a7931730_685c_11ea_a53e_b808cfcc3516row5_col7\" class=\"data row5 col7\" >contact with patient</td>\n",
       "                        <td id=\"T_a7931730_685c_11ea_a53e_b808cfcc3516row5_col8\" class=\"data row5 col8\" >2</td>\n",
       "                        <td id=\"T_a7931730_685c_11ea_a53e_b808cfcc3516row5_col9\" class=\"data row5 col9\" >3</td>\n",
       "                        <td id=\"T_a7931730_685c_11ea_a53e_b808cfcc3516row5_col10\" class=\"data row5 col10\" >17</td>\n",
       "                        <td id=\"T_a7931730_685c_11ea_a53e_b808cfcc3516row5_col11\" class=\"data row5 col11\" >2020-01-30</td>\n",
       "                        <td id=\"T_a7931730_685c_11ea_a53e_b808cfcc3516row5_col12\" class=\"data row5 col12\" >2020-02-19</td>\n",
       "                        <td id=\"T_a7931730_685c_11ea_a53e_b808cfcc3516row5_col13\" class=\"data row5 col13\" >nan</td>\n",
       "                        <td id=\"T_a7931730_685c_11ea_a53e_b808cfcc3516row5_col14\" class=\"data row5 col14\" >released</td>\n",
       "            </tr>\n",
       "            <tr>\n",
       "                        <th id=\"T_a7931730_685c_11ea_a53e_b808cfcc3516level0_row6\" class=\"row_heading level0 row6\" >6</th>\n",
       "                        <td id=\"T_a7931730_685c_11ea_a53e_b808cfcc3516row6_col0\" class=\"data row6 col0\" >7</td>\n",
       "                        <td id=\"T_a7931730_685c_11ea_a53e_b808cfcc3516row6_col1\" class=\"data row6 col1\" >male</td>\n",
       "                        <td id=\"T_a7931730_685c_11ea_a53e_b808cfcc3516row6_col2\" class=\"data row6 col2\" >1991</td>\n",
       "                        <td id=\"T_a7931730_685c_11ea_a53e_b808cfcc3516row6_col3\" class=\"data row6 col3\" >Korea</td>\n",
       "                        <td id=\"T_a7931730_685c_11ea_a53e_b808cfcc3516row6_col4\" class=\"data row6 col4\" >capital area</td>\n",
       "                        <td id=\"T_a7931730_685c_11ea_a53e_b808cfcc3516row6_col5\" class=\"data row6 col5\" >nan</td>\n",
       "                        <td id=\"T_a7931730_685c_11ea_a53e_b808cfcc3516row6_col6\" class=\"data row6 col6\" >nan</td>\n",
       "                        <td id=\"T_a7931730_685c_11ea_a53e_b808cfcc3516row6_col7\" class=\"data row6 col7\" >visit to Wuhan</td>\n",
       "                        <td id=\"T_a7931730_685c_11ea_a53e_b808cfcc3516row6_col8\" class=\"data row6 col8\" >1</td>\n",
       "                        <td id=\"T_a7931730_685c_11ea_a53e_b808cfcc3516row6_col9\" class=\"data row6 col9\" >nan</td>\n",
       "                        <td id=\"T_a7931730_685c_11ea_a53e_b808cfcc3516row6_col10\" class=\"data row6 col10\" >9</td>\n",
       "                        <td id=\"T_a7931730_685c_11ea_a53e_b808cfcc3516row6_col11\" class=\"data row6 col11\" >2020-01-30</td>\n",
       "                        <td id=\"T_a7931730_685c_11ea_a53e_b808cfcc3516row6_col12\" class=\"data row6 col12\" >2020-02-15</td>\n",
       "                        <td id=\"T_a7931730_685c_11ea_a53e_b808cfcc3516row6_col13\" class=\"data row6 col13\" >nan</td>\n",
       "                        <td id=\"T_a7931730_685c_11ea_a53e_b808cfcc3516row6_col14\" class=\"data row6 col14\" >released</td>\n",
       "            </tr>\n",
       "            <tr>\n",
       "                        <th id=\"T_a7931730_685c_11ea_a53e_b808cfcc3516level0_row7\" class=\"row_heading level0 row7\" >7</th>\n",
       "                        <td id=\"T_a7931730_685c_11ea_a53e_b808cfcc3516row7_col0\" class=\"data row7 col0\" >8</td>\n",
       "                        <td id=\"T_a7931730_685c_11ea_a53e_b808cfcc3516row7_col1\" class=\"data row7 col1\" >female</td>\n",
       "                        <td id=\"T_a7931730_685c_11ea_a53e_b808cfcc3516row7_col2\" class=\"data row7 col2\" >1957</td>\n",
       "                        <td id=\"T_a7931730_685c_11ea_a53e_b808cfcc3516row7_col3\" class=\"data row7 col3\" >Korea</td>\n",
       "                        <td id=\"T_a7931730_685c_11ea_a53e_b808cfcc3516row7_col4\" class=\"data row7 col4\" >Jeollabuk-do</td>\n",
       "                        <td id=\"T_a7931730_685c_11ea_a53e_b808cfcc3516row7_col5\" class=\"data row7 col5\" >nan</td>\n",
       "                        <td id=\"T_a7931730_685c_11ea_a53e_b808cfcc3516row7_col6\" class=\"data row7 col6\" >nan</td>\n",
       "                        <td id=\"T_a7931730_685c_11ea_a53e_b808cfcc3516row7_col7\" class=\"data row7 col7\" >visit to Wuhan</td>\n",
       "                        <td id=\"T_a7931730_685c_11ea_a53e_b808cfcc3516row7_col8\" class=\"data row7 col8\" >1</td>\n",
       "                        <td id=\"T_a7931730_685c_11ea_a53e_b808cfcc3516row7_col9\" class=\"data row7 col9\" >nan</td>\n",
       "                        <td id=\"T_a7931730_685c_11ea_a53e_b808cfcc3516row7_col10\" class=\"data row7 col10\" >113</td>\n",
       "                        <td id=\"T_a7931730_685c_11ea_a53e_b808cfcc3516row7_col11\" class=\"data row7 col11\" >2020-01-31</td>\n",
       "                        <td id=\"T_a7931730_685c_11ea_a53e_b808cfcc3516row7_col12\" class=\"data row7 col12\" >2020-02-12</td>\n",
       "                        <td id=\"T_a7931730_685c_11ea_a53e_b808cfcc3516row7_col13\" class=\"data row7 col13\" >nan</td>\n",
       "                        <td id=\"T_a7931730_685c_11ea_a53e_b808cfcc3516row7_col14\" class=\"data row7 col14\" >released</td>\n",
       "            </tr>\n",
       "    </tbody></table>   <style  type=\"text/css\" >\n",
       "    #T_a793d9f8_685c_11ea_a2ca_b808cfcc3516 caption {\n",
       "          text-align: center;\n",
       "          font-size: 120%;\n",
       "          color: red;\n",
       "    }</style><table id=\"T_a793d9f8_685c_11ea_a2ca_b808cfcc3516\" style='display:inline'><caption>patient_describe</caption><thead>    <tr>        <th class=\"blank level0\" ></th>        <th class=\"col_heading level0 col0\" >patient_id</th>        <th class=\"col_heading level0 col1\" >birth_year</th>        <th class=\"col_heading level0 col2\" >disease</th>        <th class=\"col_heading level0 col3\" >infection_order</th>        <th class=\"col_heading level0 col4\" >infected_by</th>        <th class=\"col_heading level0 col5\" >contact_number</th>    </tr></thead><tbody>\n",
       "                <tr>\n",
       "                        <th id=\"T_a793d9f8_685c_11ea_a2ca_b808cfcc3516level0_row0\" class=\"row_heading level0 row0\" >count</th>\n",
       "                        <td id=\"T_a793d9f8_685c_11ea_a2ca_b808cfcc3516row0_col0\" class=\"data row0 col0\" >7869</td>\n",
       "                        <td id=\"T_a793d9f8_685c_11ea_a2ca_b808cfcc3516row0_col1\" class=\"data row0 col1\" >666</td>\n",
       "                        <td id=\"T_a793d9f8_685c_11ea_a2ca_b808cfcc3516row0_col2\" class=\"data row0 col2\" >28</td>\n",
       "                        <td id=\"T_a793d9f8_685c_11ea_a2ca_b808cfcc3516row0_col3\" class=\"data row0 col3\" >36</td>\n",
       "                        <td id=\"T_a793d9f8_685c_11ea_a2ca_b808cfcc3516row0_col4\" class=\"data row0 col4\" >70</td>\n",
       "                        <td id=\"T_a793d9f8_685c_11ea_a2ca_b808cfcc3516row0_col5\" class=\"data row0 col5\" >53</td>\n",
       "            </tr>\n",
       "            <tr>\n",
       "                        <th id=\"T_a793d9f8_685c_11ea_a2ca_b808cfcc3516level0_row1\" class=\"row_heading level0 row1\" >mean</th>\n",
       "                        <td id=\"T_a793d9f8_685c_11ea_a2ca_b808cfcc3516row1_col0\" class=\"data row1 col0\" >3935</td>\n",
       "                        <td id=\"T_a793d9f8_685c_11ea_a2ca_b808cfcc3516row1_col1\" class=\"data row1 col1\" >1974.27</td>\n",
       "                        <td id=\"T_a793d9f8_685c_11ea_a2ca_b808cfcc3516row1_col2\" class=\"data row1 col2\" >1</td>\n",
       "                        <td id=\"T_a793d9f8_685c_11ea_a2ca_b808cfcc3516row1_col3\" class=\"data row1 col3\" >4.27778</td>\n",
       "                        <td id=\"T_a793d9f8_685c_11ea_a2ca_b808cfcc3516row1_col4\" class=\"data row1 col4\" >379</td>\n",
       "                        <td id=\"T_a793d9f8_685c_11ea_a2ca_b808cfcc3516row1_col5\" class=\"data row1 col5\" >67.8491</td>\n",
       "            </tr>\n",
       "            <tr>\n",
       "                        <th id=\"T_a793d9f8_685c_11ea_a2ca_b808cfcc3516level0_row2\" class=\"row_heading level0 row2\" >std</th>\n",
       "                        <td id=\"T_a793d9f8_685c_11ea_a2ca_b808cfcc3516row2_col0\" class=\"data row2 col0\" >2271.73</td>\n",
       "                        <td id=\"T_a793d9f8_685c_11ea_a2ca_b808cfcc3516row2_col1\" class=\"data row2 col1\" >17.4232</td>\n",
       "                        <td id=\"T_a793d9f8_685c_11ea_a2ca_b808cfcc3516row2_col2\" class=\"data row2 col2\" >0</td>\n",
       "                        <td id=\"T_a793d9f8_685c_11ea_a2ca_b808cfcc3516row2_col3\" class=\"data row2 col3\" >12.0324</td>\n",
       "                        <td id=\"T_a793d9f8_685c_11ea_a2ca_b808cfcc3516row2_col4\" class=\"data row2 col4\" >540.248</td>\n",
       "                        <td id=\"T_a793d9f8_685c_11ea_a2ca_b808cfcc3516row2_col5\" class=\"data row2 col5\" >177.724</td>\n",
       "            </tr>\n",
       "            <tr>\n",
       "                        <th id=\"T_a793d9f8_685c_11ea_a2ca_b808cfcc3516level0_row3\" class=\"row_heading level0 row3\" >min</th>\n",
       "                        <td id=\"T_a793d9f8_685c_11ea_a2ca_b808cfcc3516row3_col0\" class=\"data row3 col0\" >1</td>\n",
       "                        <td id=\"T_a793d9f8_685c_11ea_a2ca_b808cfcc3516row3_col1\" class=\"data row3 col1\" >1929</td>\n",
       "                        <td id=\"T_a793d9f8_685c_11ea_a2ca_b808cfcc3516row3_col2\" class=\"data row3 col2\" >1</td>\n",
       "                        <td id=\"T_a793d9f8_685c_11ea_a2ca_b808cfcc3516row3_col3\" class=\"data row3 col3\" >1</td>\n",
       "                        <td id=\"T_a793d9f8_685c_11ea_a2ca_b808cfcc3516row3_col4\" class=\"data row3 col4\" >3</td>\n",
       "                        <td id=\"T_a793d9f8_685c_11ea_a2ca_b808cfcc3516row3_col5\" class=\"data row3 col5\" >0</td>\n",
       "            </tr>\n",
       "            <tr>\n",
       "                        <th id=\"T_a793d9f8_685c_11ea_a2ca_b808cfcc3516level0_row4\" class=\"row_heading level0 row4\" >25%</th>\n",
       "                        <td id=\"T_a793d9f8_685c_11ea_a2ca_b808cfcc3516row4_col0\" class=\"data row4 col0\" >1968</td>\n",
       "                        <td id=\"T_a793d9f8_685c_11ea_a2ca_b808cfcc3516row4_col1\" class=\"data row4 col1\" >1962</td>\n",
       "                        <td id=\"T_a793d9f8_685c_11ea_a2ca_b808cfcc3516row4_col2\" class=\"data row4 col2\" >1</td>\n",
       "                        <td id=\"T_a793d9f8_685c_11ea_a2ca_b808cfcc3516row4_col3\" class=\"data row4 col3\" >1</td>\n",
       "                        <td id=\"T_a793d9f8_685c_11ea_a2ca_b808cfcc3516row4_col4\" class=\"data row4 col4\" >29.25</td>\n",
       "                        <td id=\"T_a793d9f8_685c_11ea_a2ca_b808cfcc3516row4_col5\" class=\"data row4 col5\" >3</td>\n",
       "            </tr>\n",
       "            <tr>\n",
       "                        <th id=\"T_a793d9f8_685c_11ea_a2ca_b808cfcc3516level0_row5\" class=\"row_heading level0 row5\" >50%</th>\n",
       "                        <td id=\"T_a793d9f8_685c_11ea_a2ca_b808cfcc3516row5_col0\" class=\"data row5 col0\" >3935</td>\n",
       "                        <td id=\"T_a793d9f8_685c_11ea_a2ca_b808cfcc3516row5_col1\" class=\"data row5 col1\" >1974</td>\n",
       "                        <td id=\"T_a793d9f8_685c_11ea_a2ca_b808cfcc3516row5_col2\" class=\"data row5 col2\" >1</td>\n",
       "                        <td id=\"T_a793d9f8_685c_11ea_a2ca_b808cfcc3516row5_col3\" class=\"data row5 col3\" >2</td>\n",
       "                        <td id=\"T_a793d9f8_685c_11ea_a2ca_b808cfcc3516row5_col4\" class=\"data row5 col4\" >126</td>\n",
       "                        <td id=\"T_a793d9f8_685c_11ea_a2ca_b808cfcc3516row5_col5\" class=\"data row5 col5\" >17</td>\n",
       "            </tr>\n",
       "            <tr>\n",
       "                        <th id=\"T_a793d9f8_685c_11ea_a2ca_b808cfcc3516level0_row6\" class=\"row_heading level0 row6\" >75%</th>\n",
       "                        <td id=\"T_a793d9f8_685c_11ea_a2ca_b808cfcc3516row6_col0\" class=\"data row6 col0\" >5902</td>\n",
       "                        <td id=\"T_a793d9f8_685c_11ea_a2ca_b808cfcc3516row6_col1\" class=\"data row6 col1\" >1990</td>\n",
       "                        <td id=\"T_a793d9f8_685c_11ea_a2ca_b808cfcc3516row6_col2\" class=\"data row6 col2\" >1</td>\n",
       "                        <td id=\"T_a793d9f8_685c_11ea_a2ca_b808cfcc3516row6_col3\" class=\"data row6 col3\" >3</td>\n",
       "                        <td id=\"T_a793d9f8_685c_11ea_a2ca_b808cfcc3516row6_col4\" class=\"data row6 col4\" >563.25</td>\n",
       "                        <td id=\"T_a793d9f8_685c_11ea_a2ca_b808cfcc3516row6_col5\" class=\"data row6 col5\" >45</td>\n",
       "            </tr>\n",
       "            <tr>\n",
       "                        <th id=\"T_a793d9f8_685c_11ea_a2ca_b808cfcc3516level0_row7\" class=\"row_heading level0 row7\" >max</th>\n",
       "                        <td id=\"T_a793d9f8_685c_11ea_a2ca_b808cfcc3516row7_col0\" class=\"data row7 col0\" >7869</td>\n",
       "                        <td id=\"T_a793d9f8_685c_11ea_a2ca_b808cfcc3516row7_col1\" class=\"data row7 col1\" >2018</td>\n",
       "                        <td id=\"T_a793d9f8_685c_11ea_a2ca_b808cfcc3516row7_col2\" class=\"data row7 col2\" >1</td>\n",
       "                        <td id=\"T_a793d9f8_685c_11ea_a2ca_b808cfcc3516row7_col3\" class=\"data row7 col3\" >74</td>\n",
       "                        <td id=\"T_a793d9f8_685c_11ea_a2ca_b808cfcc3516row7_col4\" class=\"data row7 col4\" >2621</td>\n",
       "                        <td id=\"T_a793d9f8_685c_11ea_a2ca_b808cfcc3516row7_col5\" class=\"data row7 col5\" >1160</td>\n",
       "            </tr>\n",
       "    </tbody></table>   <style  type=\"text/css\" >\n",
       "    #T_a79427e8_685c_11ea_8920_b808cfcc3516 caption {\n",
       "          text-align: center;\n",
       "          font-size: 120%;\n",
       "          color: red;\n",
       "    }</style><table id=\"T_a79427e8_685c_11ea_8920_b808cfcc3516\" style='display:inline'><caption>patient_null</caption><thead>    <tr>        <th class=\"blank level0\" ></th>        <th class=\"col_heading level0 col0\" >nulls</th>    </tr></thead><tbody>\n",
       "                <tr>\n",
       "                        <th id=\"T_a79427e8_685c_11ea_8920_b808cfcc3516level0_row0\" class=\"row_heading level0 row0\" >patient_id</th>\n",
       "                        <td id=\"T_a79427e8_685c_11ea_8920_b808cfcc3516row0_col0\" class=\"data row0 col0\" >0</td>\n",
       "            </tr>\n",
       "            <tr>\n",
       "                        <th id=\"T_a79427e8_685c_11ea_8920_b808cfcc3516level0_row1\" class=\"row_heading level0 row1\" >sex</th>\n",
       "                        <td id=\"T_a79427e8_685c_11ea_8920_b808cfcc3516row1_col0\" class=\"data row1 col0\" >7190</td>\n",
       "            </tr>\n",
       "            <tr>\n",
       "                        <th id=\"T_a79427e8_685c_11ea_8920_b808cfcc3516level0_row2\" class=\"row_heading level0 row2\" >birth_year</th>\n",
       "                        <td id=\"T_a79427e8_685c_11ea_8920_b808cfcc3516row2_col0\" class=\"data row2 col0\" >7203</td>\n",
       "            </tr>\n",
       "            <tr>\n",
       "                        <th id=\"T_a79427e8_685c_11ea_8920_b808cfcc3516level0_row3\" class=\"row_heading level0 row3\" >country</th>\n",
       "                        <td id=\"T_a79427e8_685c_11ea_8920_b808cfcc3516row3_col0\" class=\"data row3 col0\" >0</td>\n",
       "            </tr>\n",
       "            <tr>\n",
       "                        <th id=\"T_a79427e8_685c_11ea_8920_b808cfcc3516level0_row4\" class=\"row_heading level0 row4\" >region</th>\n",
       "                        <td id=\"T_a79427e8_685c_11ea_8920_b808cfcc3516row4_col0\" class=\"data row4 col0\" >7432</td>\n",
       "            </tr>\n",
       "            <tr>\n",
       "                        <th id=\"T_a79427e8_685c_11ea_8920_b808cfcc3516level0_row5\" class=\"row_heading level0 row5\" >disease</th>\n",
       "                        <td id=\"T_a79427e8_685c_11ea_8920_b808cfcc3516row5_col0\" class=\"data row5 col0\" >7841</td>\n",
       "            </tr>\n",
       "            <tr>\n",
       "                        <th id=\"T_a79427e8_685c_11ea_8920_b808cfcc3516level0_row6\" class=\"row_heading level0 row6\" >group</th>\n",
       "                        <td id=\"T_a79427e8_685c_11ea_8920_b808cfcc3516row6_col0\" class=\"data row6 col0\" >7783</td>\n",
       "            </tr>\n",
       "            <tr>\n",
       "                        <th id=\"T_a79427e8_685c_11ea_8920_b808cfcc3516level0_row7\" class=\"row_heading level0 row7\" >infection_reason</th>\n",
       "                        <td id=\"T_a79427e8_685c_11ea_8920_b808cfcc3516row7_col0\" class=\"data row7 col0\" >7715</td>\n",
       "            </tr>\n",
       "            <tr>\n",
       "                        <th id=\"T_a79427e8_685c_11ea_8920_b808cfcc3516level0_row8\" class=\"row_heading level0 row8\" >infection_order</th>\n",
       "                        <td id=\"T_a79427e8_685c_11ea_8920_b808cfcc3516row8_col0\" class=\"data row8 col0\" >7833</td>\n",
       "            </tr>\n",
       "            <tr>\n",
       "                        <th id=\"T_a79427e8_685c_11ea_8920_b808cfcc3516level0_row9\" class=\"row_heading level0 row9\" >infected_by</th>\n",
       "                        <td id=\"T_a79427e8_685c_11ea_8920_b808cfcc3516row9_col0\" class=\"data row9 col0\" >7799</td>\n",
       "            </tr>\n",
       "            <tr>\n",
       "                        <th id=\"T_a79427e8_685c_11ea_8920_b808cfcc3516level0_row10\" class=\"row_heading level0 row10\" >contact_number</th>\n",
       "                        <td id=\"T_a79427e8_685c_11ea_8920_b808cfcc3516row10_col0\" class=\"data row10 col0\" >7816</td>\n",
       "            </tr>\n",
       "            <tr>\n",
       "                        <th id=\"T_a79427e8_685c_11ea_8920_b808cfcc3516level0_row11\" class=\"row_heading level0 row11\" >confirmed_date</th>\n",
       "                        <td id=\"T_a79427e8_685c_11ea_8920_b808cfcc3516row11_col0\" class=\"data row11 col0\" >0</td>\n",
       "            </tr>\n",
       "            <tr>\n",
       "                        <th id=\"T_a79427e8_685c_11ea_8920_b808cfcc3516level0_row12\" class=\"row_heading level0 row12\" >released_date</th>\n",
       "                        <td id=\"T_a79427e8_685c_11ea_8920_b808cfcc3516row12_col0\" class=\"data row12 col0\" >7813</td>\n",
       "            </tr>\n",
       "            <tr>\n",
       "                        <th id=\"T_a79427e8_685c_11ea_8920_b808cfcc3516level0_row13\" class=\"row_heading level0 row13\" >deceased_date</th>\n",
       "                        <td id=\"T_a79427e8_685c_11ea_8920_b808cfcc3516row13_col0\" class=\"data row13 col0\" >7833</td>\n",
       "            </tr>\n",
       "            <tr>\n",
       "                        <th id=\"T_a79427e8_685c_11ea_8920_b808cfcc3516level0_row14\" class=\"row_heading level0 row14\" >state</th>\n",
       "                        <td id=\"T_a79427e8_685c_11ea_8920_b808cfcc3516row14_col0\" class=\"data row14 col0\" >0</td>\n",
       "            </tr>\n",
       "    </tbody></table>   "
      ],
      "text/plain": [
       "<IPython.core.display.HTML object>"
      ]
     },
     "metadata": {},
     "output_type": "display_data"
    }
   ],
   "source": [
    "print(patient.dtypes)\n",
    "print('\\n')\n",
    "print(\"shape of patient : \", patient.shape)\n",
    "# display(trend.describe())\n",
    "# display(trend.head(3))\n",
    "display_side_by_side2([patient.head(8), patient.describe(), patient_null], ['patient', 'patient_describe', \"patient_null\"])"
   ]
  },
  {
   "cell_type": "code",
   "execution_count": 77,
   "metadata": {
    "ExecuteTime": {
     "end_time": "2020-03-17T14:40:17.539840Z",
     "start_time": "2020-03-17T14:40:17.345325Z"
    }
   },
   "outputs": [
    {
     "data": {
      "image/png": "[encoded data removed]",
      "text/plain": [
       "<Figure size 432x288 with 1 Axes>"
      ]
     },
     "metadata": {
      "image/png": {
       "height": 263,
       "width": 387
      },
      "needs_background": "light"
     },
     "output_type": "display_data"
    }
   ],
   "source": [
    "# print(patient.sex.value_counts())\n",
    "fig = sns.countplot(x=\"sex\", hue=\"sex\", data=patient)\n",
    "for p in fig.patches:\n",
    "    fig.annotate(str(p.get_height())[:3], (p.get_x() * 1.005, p.get_height() * 1.005))\n",
    "plt.show()"
   ]
  },
  {
   "cell_type": "code",
   "execution_count": 39,
   "metadata": {
    "ExecuteTime": {
     "end_time": "2020-03-17T14:23:41.975627Z",
     "start_time": "2020-03-17T14:23:41.964653Z"
    }
   },
   "outputs": [
    {
     "data": {
      "text/plain": [
       "Korea       7860\n",
       "China          8\n",
       "Mongolia       1\n",
       "Name: country, dtype: int64"
      ]
     },
     "execution_count": 39,
     "metadata": {},
     "output_type": "execute_result"
    }
   ],
   "source": [
    "patient[\"country\"].value_counts()"
   ]
  },
  {
   "cell_type": "code",
   "execution_count": 91,
   "metadata": {
    "ExecuteTime": {
     "end_time": "2020-03-17T14:46:42.649530Z",
     "start_time": "2020-03-17T14:46:42.260536Z"
    }
   },
   "outputs": [
    {
     "name": "stdout",
     "output_type": "stream",
     "text": [
      "                                   infection_reason\n",
      "contact with patient                             76\n",
      "visit to Daegu                                   50\n",
      "visit to Wuhan                                    8\n",
      "pilgrimage to Israel                              6\n",
      "contact with patient in Singapore                 2\n",
      "visit to China                                    2\n",
      "residence in Wuhan                                2\n",
      "visit to Thailand                                 2\n",
      "visit to Italy                                    1\n",
      "contact with patient in Daegu                     1\n",
      "visit to Vietnam                                  1\n",
      "contact with patient in Japan                     1\n",
      "visit to Japan                                    1\n",
      "visit to ooo                                      1\n"
     ]
    },
    {
     "data": {
      "image/png": "[encoded data removed]",
      "text/plain": [
       "<Figure size 936x360 with 1 Axes>"
      ]
     },
     "metadata": {
      "image/png": {
       "height": 444,
       "width": 757
      },
      "needs_background": "light"
     },
     "output_type": "display_data"
    }
   ],
   "source": [
    "print(pd.DataFrame(patient.infection_reason.value_counts()))\n",
    "fig = plt.figure(figsize=(13,5))\n",
    "fig = patient.infection_reason.value_counts().plot(kind='bar', color='blue')\n",
    "for p in fig.patches:\n",
    "    fig.annotate(str(p.get_height())[:3], (p.get_x() * 1.005, p.get_height() * 1.005))\n",
    "plt.show()"
   ]
  },
  {
   "cell_type": "code",
   "execution_count": 106,
   "metadata": {
    "ExecuteTime": {
     "end_time": "2020-03-17T14:50:19.826810Z",
     "start_time": "2020-03-17T14:50:19.210454Z"
    }
   },
   "outputs": [
    {
     "data": {
      "image/png": "[encoded data removed]",
      "text/plain": [
       "<Figure size 936x360 with 1 Axes>"
      ]
     },
     "metadata": {
      "image/png": {
       "height": 360,
       "width": 768
      },
      "needs_background": "light"
     },
     "output_type": "display_data"
    }
   ],
   "source": [
    "# check the confirmed dates\n",
    "\n",
    "fig = plt.figure(figsize=(13,5))\n",
    "fig = patient.confirmed_date.value_counts().plot(kind='bar', color='coral')\n",
    "for p in fig.patches:\n",
    "    fig.annotate(str(p.get_height())[:3], (p.get_x() * 1.005, p.get_height() * 1.005))\n",
    "plt.title(\"confirmed dates\")\n",
    "plt.show()"
   ]
  },
  {
   "cell_type": "code",
   "execution_count": null,
   "metadata": {},
   "outputs": [],
   "source": []
  },
  {
   "cell_type": "code",
   "execution_count": null,
   "metadata": {},
   "outputs": [],
   "source": []
  },
  {
   "cell_type": "code",
   "execution_count": 6,
   "metadata": {
    "ExecuteTime": {
     "end_time": "2020-03-17T06:57:02.218253Z",
     "start_time": "2020-03-17T06:57:02.180329Z"
    }
   },
   "outputs": [
    {
     "name": "stdout",
     "output_type": "stream",
     "text": [
      "(7869, 15)\n"
     ]
    },
    {
     "data": {
      "text/html": [
       "<div>\n",
       "<style scoped>\n",
       "    .dataframe tbody tr th:only-of-type {\n",
       "        vertical-align: middle;\n",
       "    }\n",
       "\n",
       "    .dataframe tbody tr th {\n",
       "        vertical-align: top;\n",
       "    }\n",
       "\n",
       "    .dataframe thead th {\n",
       "        text-align: right;\n",
       "    }\n",
       "</style>\n",
       "<table border=\"1\" class=\"dataframe\">\n",
       "  <thead>\n",
       "    <tr style=\"text-align: right;\">\n",
       "      <th></th>\n",
       "      <th>patient_id</th>\n",
       "      <th>sex</th>\n",
       "      <th>birth_year</th>\n",
       "      <th>country</th>\n",
       "      <th>region</th>\n",
       "      <th>disease</th>\n",
       "      <th>group</th>\n",
       "      <th>infection_reason</th>\n",
       "      <th>infection_order</th>\n",
       "      <th>infected_by</th>\n",
       "      <th>contact_number</th>\n",
       "      <th>confirmed_date</th>\n",
       "      <th>released_date</th>\n",
       "      <th>deceased_date</th>\n",
       "      <th>state</th>\n",
       "    </tr>\n",
       "  </thead>\n",
       "  <tbody>\n",
       "    <tr>\n",
       "      <th>0</th>\n",
       "      <td>1</td>\n",
       "      <td>female</td>\n",
       "      <td>1984.0</td>\n",
       "      <td>China</td>\n",
       "      <td>filtered at airport</td>\n",
       "      <td>NaN</td>\n",
       "      <td>NaN</td>\n",
       "      <td>visit to Wuhan</td>\n",
       "      <td>1.0</td>\n",
       "      <td>NaN</td>\n",
       "      <td>45.0</td>\n",
       "      <td>2020-01-20</td>\n",
       "      <td>2020-02-06</td>\n",
       "      <td>NaN</td>\n",
       "      <td>released</td>\n",
       "    </tr>\n",
       "    <tr>\n",
       "      <th>1</th>\n",
       "      <td>2</td>\n",
       "      <td>male</td>\n",
       "      <td>1964.0</td>\n",
       "      <td>Korea</td>\n",
       "      <td>filtered at airport</td>\n",
       "      <td>NaN</td>\n",
       "      <td>NaN</td>\n",
       "      <td>visit to Wuhan</td>\n",
       "      <td>1.0</td>\n",
       "      <td>NaN</td>\n",
       "      <td>75.0</td>\n",
       "      <td>2020-01-24</td>\n",
       "      <td>2020-02-05</td>\n",
       "      <td>NaN</td>\n",
       "      <td>released</td>\n",
       "    </tr>\n",
       "    <tr>\n",
       "      <th>2</th>\n",
       "      <td>3</td>\n",
       "      <td>male</td>\n",
       "      <td>1966.0</td>\n",
       "      <td>Korea</td>\n",
       "      <td>capital area</td>\n",
       "      <td>NaN</td>\n",
       "      <td>NaN</td>\n",
       "      <td>visit to Wuhan</td>\n",
       "      <td>1.0</td>\n",
       "      <td>NaN</td>\n",
       "      <td>16.0</td>\n",
       "      <td>2020-01-26</td>\n",
       "      <td>2020-02-12</td>\n",
       "      <td>NaN</td>\n",
       "      <td>released</td>\n",
       "    </tr>\n",
       "    <tr>\n",
       "      <th>3</th>\n",
       "      <td>4</td>\n",
       "      <td>male</td>\n",
       "      <td>1964.0</td>\n",
       "      <td>Korea</td>\n",
       "      <td>capital area</td>\n",
       "      <td>NaN</td>\n",
       "      <td>NaN</td>\n",
       "      <td>visit to Wuhan</td>\n",
       "      <td>1.0</td>\n",
       "      <td>NaN</td>\n",
       "      <td>95.0</td>\n",
       "      <td>2020-01-27</td>\n",
       "      <td>2020-02-09</td>\n",
       "      <td>NaN</td>\n",
       "      <td>released</td>\n",
       "    </tr>\n",
       "    <tr>\n",
       "      <th>4</th>\n",
       "      <td>5</td>\n",
       "      <td>male</td>\n",
       "      <td>1987.0</td>\n",
       "      <td>Korea</td>\n",
       "      <td>capital area</td>\n",
       "      <td>NaN</td>\n",
       "      <td>NaN</td>\n",
       "      <td>visit to Wuhan</td>\n",
       "      <td>1.0</td>\n",
       "      <td>NaN</td>\n",
       "      <td>31.0</td>\n",
       "      <td>2020-01-30</td>\n",
       "      <td>2020-03-02</td>\n",
       "      <td>NaN</td>\n",
       "      <td>released</td>\n",
       "    </tr>\n",
       "    <tr>\n",
       "      <th>...</th>\n",
       "      <td>...</td>\n",
       "      <td>...</td>\n",
       "      <td>...</td>\n",
       "      <td>...</td>\n",
       "      <td>...</td>\n",
       "      <td>...</td>\n",
       "      <td>...</td>\n",
       "      <td>...</td>\n",
       "      <td>...</td>\n",
       "      <td>...</td>\n",
       "      <td>...</td>\n",
       "      <td>...</td>\n",
       "      <td>...</td>\n",
       "      <td>...</td>\n",
       "      <td>...</td>\n",
       "    </tr>\n",
       "    <tr>\n",
       "      <th>5580</th>\n",
       "      <td>5581</td>\n",
       "      <td>male</td>\n",
       "      <td>2013.0</td>\n",
       "      <td>Korea</td>\n",
       "      <td>capital area</td>\n",
       "      <td>NaN</td>\n",
       "      <td>NaN</td>\n",
       "      <td>contact with patient</td>\n",
       "      <td>NaN</td>\n",
       "      <td>NaN</td>\n",
       "      <td>NaN</td>\n",
       "      <td>2020-03-04</td>\n",
       "      <td>NaN</td>\n",
       "      <td>NaN</td>\n",
       "      <td>isolated</td>\n",
       "    </tr>\n",
       "    <tr>\n",
       "      <th>5766</th>\n",
       "      <td>5767</td>\n",
       "      <td>male</td>\n",
       "      <td>1938.0</td>\n",
       "      <td>Korea</td>\n",
       "      <td>Daegu</td>\n",
       "      <td>1.0</td>\n",
       "      <td>NaN</td>\n",
       "      <td>NaN</td>\n",
       "      <td>NaN</td>\n",
       "      <td>NaN</td>\n",
       "      <td>NaN</td>\n",
       "      <td>2020-03-05</td>\n",
       "      <td>NaN</td>\n",
       "      <td>2020-03-05</td>\n",
       "      <td>deceased</td>\n",
       "    </tr>\n",
       "    <tr>\n",
       "      <th>5767</th>\n",
       "      <td>5768</td>\n",
       "      <td>female</td>\n",
       "      <td>1935.0</td>\n",
       "      <td>Korea</td>\n",
       "      <td>Gyeongsangbuk-do</td>\n",
       "      <td>NaN</td>\n",
       "      <td>NaN</td>\n",
       "      <td>NaN</td>\n",
       "      <td>NaN</td>\n",
       "      <td>NaN</td>\n",
       "      <td>NaN</td>\n",
       "      <td>2020-03-05</td>\n",
       "      <td>NaN</td>\n",
       "      <td>2020-03-05</td>\n",
       "      <td>deceased</td>\n",
       "    </tr>\n",
       "    <tr>\n",
       "      <th>6284</th>\n",
       "      <td>6285</td>\n",
       "      <td>female</td>\n",
       "      <td>1929.0</td>\n",
       "      <td>Korea</td>\n",
       "      <td>Gyeongsangbuk-do</td>\n",
       "      <td>NaN</td>\n",
       "      <td>NaN</td>\n",
       "      <td>NaN</td>\n",
       "      <td>NaN</td>\n",
       "      <td>NaN</td>\n",
       "      <td>NaN</td>\n",
       "      <td>2020-03-06</td>\n",
       "      <td>NaN</td>\n",
       "      <td>2020-03-04</td>\n",
       "      <td>deceased</td>\n",
       "    </tr>\n",
       "    <tr>\n",
       "      <th>7195</th>\n",
       "      <td>7196</td>\n",
       "      <td>male</td>\n",
       "      <td>1945.0</td>\n",
       "      <td>Korea</td>\n",
       "      <td>Daegu</td>\n",
       "      <td>1.0</td>\n",
       "      <td>NaN</td>\n",
       "      <td>NaN</td>\n",
       "      <td>NaN</td>\n",
       "      <td>NaN</td>\n",
       "      <td>NaN</td>\n",
       "      <td>2020-03-08</td>\n",
       "      <td>NaN</td>\n",
       "      <td>2020-03-09</td>\n",
       "      <td>deceased</td>\n",
       "    </tr>\n",
       "  </tbody>\n",
       "</table>\n",
       "<p>679 rows × 15 columns</p>\n",
       "</div>"
      ],
      "text/plain": [
       "      patient_id     sex  birth_year country               region  disease  \\\n",
       "0              1  female      1984.0   China  filtered at airport      NaN   \n",
       "1              2    male      1964.0   Korea  filtered at airport      NaN   \n",
       "2              3    male      1966.0   Korea         capital area      NaN   \n",
       "3              4    male      1964.0   Korea         capital area      NaN   \n",
       "4              5    male      1987.0   Korea         capital area      NaN   \n",
       "...          ...     ...         ...     ...                  ...      ...   \n",
       "5580        5581    male      2013.0   Korea         capital area      NaN   \n",
       "5766        5767    male      1938.0   Korea                Daegu      1.0   \n",
       "5767        5768  female      1935.0   Korea     Gyeongsangbuk-do      NaN   \n",
       "6284        6285  female      1929.0   Korea     Gyeongsangbuk-do      NaN   \n",
       "7195        7196    male      1945.0   Korea                Daegu      1.0   \n",
       "\n",
       "     group      infection_reason  infection_order  infected_by  \\\n",
       "0      NaN        visit to Wuhan              1.0          NaN   \n",
       "1      NaN        visit to Wuhan              1.0          NaN   \n",
       "2      NaN        visit to Wuhan              1.0          NaN   \n",
       "3      NaN        visit to Wuhan              1.0          NaN   \n",
       "4      NaN        visit to Wuhan              1.0          NaN   \n",
       "...    ...                   ...              ...          ...   \n",
       "5580   NaN  contact with patient              NaN          NaN   \n",
       "5766   NaN                   NaN              NaN          NaN   \n",
       "5767   NaN                   NaN              NaN          NaN   \n",
       "6284   NaN                   NaN              NaN          NaN   \n",
       "7195   NaN                   NaN              NaN          NaN   \n",
       "\n",
       "      contact_number confirmed_date released_date deceased_date     state  \n",
       "0               45.0     2020-01-20    2020-02-06           NaN  released  \n",
       "1               75.0     2020-01-24    2020-02-05           NaN  released  \n",
       "2               16.0     2020-01-26    2020-02-12           NaN  released  \n",
       "3               95.0     2020-01-27    2020-02-09           NaN  released  \n",
       "4               31.0     2020-01-30    2020-03-02           NaN  released  \n",
       "...              ...            ...           ...           ...       ...  \n",
       "5580             NaN     2020-03-04           NaN           NaN  isolated  \n",
       "5766             NaN     2020-03-05           NaN    2020-03-05  deceased  \n",
       "5767             NaN     2020-03-05           NaN    2020-03-05  deceased  \n",
       "6284             NaN     2020-03-06           NaN    2020-03-04  deceased  \n",
       "7195             NaN     2020-03-08           NaN    2020-03-09  deceased  \n",
       "\n",
       "[679 rows x 15 columns]"
      ]
     },
     "execution_count": 6,
     "metadata": {},
     "output_type": "execute_result"
    }
   ],
   "source": [
    "print(patient.shape)\n",
    "patient.isnull().sum() #checking for total null values\n",
    "patient.loc[patient['sex'].notnull()]"
   ]
  },
  {
   "cell_type": "code",
   "execution_count": null,
   "metadata": {},
   "outputs": [],
   "source": []
  }
 ],
 "metadata": {
  "kernelspec": {
   "display_name": "Python 3",
   "language": "python",
   "name": "python3"
  },
  "language_info": {
   "codemirror_mode": {
    "name": "ipython",
    "version": 3
   },
   "file_extension": ".py",
   "mimetype": "text/x-python",
   "name": "python",
   "nbconvert_exporter": "python",
   "pygments_lexer": "ipython3",
   "version": "3.7.5"
  },
  "varInspector": {
   "cols": {
    "lenName": 16,
    "lenType": 16,
    "lenVar": 40
   },
   "kernels_config": {
    "python": {
     "delete_cmd_postfix": "",
     "delete_cmd_prefix": "del ",
     "library": "var_list.py",
     "varRefreshCmd": "print(var_dic_list())"
    },
    "r": {
     "delete_cmd_postfix": ") ",
     "delete_cmd_prefix": "rm(",
     "library": "var_list.r",
     "varRefreshCmd": "cat(var_dic_list()) "
    }
   },
   "types_to_exclude": [
    "module",
    "function",
    "builtin_function_or_method",
    "instance",
    "_Feature"
   ],
   "window_display": false
  }
 },
 "nbformat": 4,
 "nbformat_minor": 2
}
